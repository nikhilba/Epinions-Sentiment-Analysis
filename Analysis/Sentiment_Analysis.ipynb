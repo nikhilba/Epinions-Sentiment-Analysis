{
 "cells": [
  {
   "cell_type": "markdown",
   "metadata": {},
   "source": [
    "# UNDERSTANDING SENTIMENTS IN EPINIONS"
   ]
  },
  {
   "cell_type": "markdown",
   "metadata": {},
   "source": [
    "In this project, we are analysing customer reviews for Fuji Digital Camera obtained from Epinions data.com. Given data consists 50% of the reviews about Digital Cameras and remining 50% is about Automobiles. We first identify the reviews for Fuji Digital Cameras and then select a classifier that helps us best perform sentiment analysis.\n",
    "\n",
    "For every record in given data, we are considering the review \"TEXT\" (contains review) and \"Label\" (“Yes” means that a consumer recommends that product and “No” denotes the opposite)."
   ]
  },
  {
   "cell_type": "markdown",
   "metadata": {},
   "source": [
    "## Index\n",
    "- [Libraries](#Libraries)\n",
    "- [Data Loading](#Data-Loading)\n",
    "    - [Identify Fuji Reviews](#Identify-Fuji-Reviews)\n",
    "    - [Data Exploration](#Data-Exploration)\n",
    "- [Data Cleaning](#Data-Cleaning)\n",
    "- [Feature Construction](#Feature-Construction)\n",
    "- [Feature Extraction/Selection](#Feature-Extraction/Selection)\n",
    "- [Data Processing](#Data-Processing)\n",
    "    - [Feature Analysis](#Feature-Analysis)\n",
    "- [Modelling](#Modelling)\n",
    "    - [Metric Calculation](#Metric-Calculation)\n",
    "    - [Model Training](#Model-Training)\n",
    "    - [Model Selection](#Model-Selection)\n",
    "- [Evaluating Model Performance](#Evaluating-Model-Performance)\n",
    "- [Result](#Result)"
   ]
  },
  {
   "cell_type": "markdown",
   "metadata": {},
   "source": [
    "## Libraries"
   ]
  },
  {
   "cell_type": "markdown",
   "metadata": {},
   "source": [
    "This project has been developed using Python 2.7. Following libraries are loaded for Data processing, Data visualization and Data Modelling."
   ]
  },
  {
   "cell_type": "code",
   "execution_count": 3,
   "metadata": {
    "collapsed": false
   },
   "outputs": [],
   "source": [
    "# Load required libraries \n",
    "import pandas as pd\n",
    "import numpy as np\n",
    "import os\n",
    "import nltk\n",
    "from nltk.corpus import stopwords\n",
    "import string\n",
    "from string import digits\n",
    "import re\n",
    "import sklearn\n",
    "from collections import Counter\n",
    "from bs4 import BeautifulSoup"
   ]
  },
  {
   "cell_type": "code",
   "execution_count": 4,
   "metadata": {
    "collapsed": false
   },
   "outputs": [],
   "source": [
    "# Libraries & parameters used for visualization\n",
    "%matplotlib inline\n",
    "import seaborn as sns\n",
    "sns.set(style=\"whitegrid\", color_codes=True)\n",
    "colors = ['cobalt', 'orangey yellow', 'steel grey', 'tomato', 'dark lilac', 'bluish green']\n",
    "cmap = sns.xkcd_palette(colors)\n",
    "import matplotlib.pyplot as plt"
   ]
  },
  {
   "cell_type": "markdown",
   "metadata": {},
   "source": [
    "## Data Loading"
   ]
  },
  {
   "cell_type": "markdown",
   "metadata": {},
   "source": [
    "In this secion, we will load the data downloaded from epinions.com. The data consists of more than 10,000 reviews about Camera/Automobiles. We will extract reviews related to Fuji Digital Cameras and explore data using visualization techniques."
   ]
  },
  {
   "cell_type": "code",
   "execution_count": 5,
   "metadata": {
    "collapsed": false
   },
   "outputs": [],
   "source": [
    "# Set path of the epinions file\n",
    "filepath = os.path.join('..\\Datasets\\D1.txt')"
   ]
  },
  {
   "cell_type": "code",
   "execution_count": 6,
   "metadata": {
    "collapsed": false
   },
   "outputs": [],
   "source": [
    "# Load data from file\n",
    "with open(filepath) as myfile:\n",
    "    data = myfile.read()"
   ]
  },
  {
   "cell_type": "code",
   "execution_count": 7,
   "metadata": {
    "collapsed": false
   },
   "outputs": [],
   "source": [
    "# Using BeautifulSoup to parse the data\n",
    "soup = BeautifulSoup(data, 'lxml')"
   ]
  },
  {
   "cell_type": "code",
   "execution_count": 8,
   "metadata": {
    "collapsed": false
   },
   "outputs": [
    {
     "name": "stdout",
     "output_type": "stream",
     "text": [
      "<html>\n",
      " <body>\n",
      "  <doc>\n",
      "   <docid>\n",
      "    36\n",
      "   </docid>\n",
      "   <product>\n",
      "    Digital_Cameras/Casio_QV_4000_4_0_Megapixel_Digital_Camera_EX_Plus_Outfit__Camera_QV4000EXK\n",
      "   </product>\n",
      "   <label>\n",
      "    Yes\n",
      "    \n"
     ]
    }
   ],
   "source": [
    "print soup.prettify()[:199]"
   ]
  },
  {
   "cell_type": "code",
   "execution_count": 9,
   "metadata": {
    "collapsed": false
   },
   "outputs": [],
   "source": [
    "# Split all the documents in the file\n",
    "documents = soup.find_all('doc')"
   ]
  },
  {
   "cell_type": "code",
   "execution_count": 10,
   "metadata": {
    "collapsed": false
   },
   "outputs": [
    {
     "data": {
      "text/plain": [
       "12000"
      ]
     },
     "execution_count": 10,
     "metadata": {},
     "output_type": "execute_result"
    }
   ],
   "source": [
    "# Total number of documents\n",
    "len(documents)"
   ]
  },
  {
   "cell_type": "code",
   "execution_count": 11,
   "metadata": {
    "collapsed": false,
    "scrolled": true
   },
   "outputs": [],
   "source": [
    "# Add the data to pandas dataframe\n",
    "tab = pd.DataFrame()\n",
    "\n",
    "for idx, doc in enumerate(documents):\n",
    "    tab.loc[idx,'DOCID'] = str(doc.docid.contents[0]).strip('\\n').strip(' ')\n",
    "    tab.loc[idx,'PRODUCT'] =  str(doc.product.contents[0]).strip('\\n').strip(' ')\n",
    "    tab.loc[idx,'LABEL'] =  str(doc.label.contents[0]).strip('\\n').strip(' ')\n",
    "    tab.loc[idx,'RATING'] =  str(doc.rating.contents[0]).strip('\\n').strip(' ')\n",
    "    tab.loc[idx,'URL'] =  str(doc.url.contents[0]).strip('\\n').strip(' ')\n",
    "    tab.loc[idx,'CLASS'] =  str(doc.find('class').contents[0]).strip('\\n').strip(' ')\n",
    "    tab.loc[idx,'TEXT'] =  doc.find('text').contents[0].strip('\\n').strip(' ')"
   ]
  },
  {
   "cell_type": "markdown",
   "metadata": {},
   "source": [
    "### Identify Fuji Reviews"
   ]
  },
  {
   "cell_type": "markdown",
   "metadata": {},
   "source": [
    "In this section, we extract reviews related to Fuji Digital Cameras."
   ]
  },
  {
   "cell_type": "code",
   "execution_count": 12,
   "metadata": {
    "collapsed": true
   },
   "outputs": [],
   "source": [
    "# Split the data into two dataframes by CLASS\n",
    "auto = (tab[tab.CLASS == 'Auto'])\n",
    "camera = (tab[tab.CLASS == 'Camera'])"
   ]
  },
  {
   "cell_type": "code",
   "execution_count": 13,
   "metadata": {
    "collapsed": false
   },
   "outputs": [],
   "source": [
    "# Filter reviews of Fuji Digital Cameras \n",
    "fuji_camera = camera[camera['PRODUCT'].str.contains(\"Fuji\")]\n",
    "fuji_camera.reset_index(inplace=True, drop=True)"
   ]
  },
  {
   "cell_type": "code",
   "execution_count": 14,
   "metadata": {
    "collapsed": false
   },
   "outputs": [
    {
     "data": {
      "text/plain": [
       "487"
      ]
     },
     "execution_count": 14,
     "metadata": {},
     "output_type": "execute_result"
    }
   ],
   "source": [
    "# Total number of Fuji reviews\n",
    "len(fuji_camera)"
   ]
  },
  {
   "cell_type": "code",
   "execution_count": 15,
   "metadata": {
    "collapsed": false
   },
   "outputs": [
    {
     "data": {
      "text/html": [
       "<div>\n",
       "<table border=\"1\" class=\"dataframe\">\n",
       "  <thead>\n",
       "    <tr style=\"text-align: right;\">\n",
       "      <th></th>\n",
       "      <th>DOCID</th>\n",
       "      <th>PRODUCT</th>\n",
       "      <th>LABEL</th>\n",
       "      <th>RATING</th>\n",
       "      <th>URL</th>\n",
       "      <th>CLASS</th>\n",
       "      <th>TEXT</th>\n",
       "    </tr>\n",
       "  </thead>\n",
       "  <tbody>\n",
       "    <tr>\n",
       "      <th>0</th>\n",
       "      <td>107</td>\n",
       "      <td>Digital_Cameras/pr-Fuji_Finepix_MX-1200_Digita...</td>\n",
       "      <td>Yes</td>\n",
       "      <td>4.0</td>\n",
       "      <td>http://www.epinions.com/elec-review-31F6-E9DA6...</td>\n",
       "      <td>Camera</td>\n",
       "      <td>[NOTE: I have the Japanese version of this cam...</td>\n",
       "    </tr>\n",
       "    <tr>\n",
       "      <th>1</th>\n",
       "      <td>108</td>\n",
       "      <td>Digital_Cameras/pr-Fuji_Finepix_MX-1200_Digita...</td>\n",
       "      <td>Yes</td>\n",
       "      <td>4.0</td>\n",
       "      <td>http://www.epinions.com/elec-review-B67-D4F9A3...</td>\n",
       "      <td>Camera</td>\n",
       "      <td>Ah, finally, A great little camera for the beg...</td>\n",
       "    </tr>\n",
       "    <tr>\n",
       "      <th>2</th>\n",
       "      <td>109</td>\n",
       "      <td>Digital_Cameras/pr-Fuji_Finepix_MX-1200_Digita...</td>\n",
       "      <td>Yes</td>\n",
       "      <td>5.0</td>\n",
       "      <td>http://www.epinions.com/elec-review-7463-6CD18...</td>\n",
       "      <td>Camera</td>\n",
       "      <td>Okay, I've written three negative reviews in a...</td>\n",
       "    </tr>\n",
       "    <tr>\n",
       "      <th>3</th>\n",
       "      <td>110</td>\n",
       "      <td>Digital_Cameras/pr-Fuji_Finepix_MX-1200_Digita...</td>\n",
       "      <td>No</td>\n",
       "      <td>2.0</td>\n",
       "      <td>http://www.epinions.com/elec-review-2E51-6E04C...</td>\n",
       "      <td>Camera</td>\n",
       "      <td>\\nThis camera is a great deal.  Wal-Mart has t...</td>\n",
       "    </tr>\n",
       "    <tr>\n",
       "      <th>4</th>\n",
       "      <td>111</td>\n",
       "      <td>Digital_Cameras/pr-Fuji_Finepix_MX-1200_Digita...</td>\n",
       "      <td>Yes</td>\n",
       "      <td>5.0</td>\n",
       "      <td>http://www.epinions.com/elec-review-4179-153E2...</td>\n",
       "      <td>Camera</td>\n",
       "      <td>This is a great camera. From it's picture qual...</td>\n",
       "    </tr>\n",
       "  </tbody>\n",
       "</table>\n",
       "</div>"
      ],
      "text/plain": [
       "  DOCID                                            PRODUCT LABEL RATING  \\\n",
       "0   107  Digital_Cameras/pr-Fuji_Finepix_MX-1200_Digita...   Yes    4.0   \n",
       "1   108  Digital_Cameras/pr-Fuji_Finepix_MX-1200_Digita...   Yes    4.0   \n",
       "2   109  Digital_Cameras/pr-Fuji_Finepix_MX-1200_Digita...   Yes    5.0   \n",
       "3   110  Digital_Cameras/pr-Fuji_Finepix_MX-1200_Digita...    No    2.0   \n",
       "4   111  Digital_Cameras/pr-Fuji_Finepix_MX-1200_Digita...   Yes    5.0   \n",
       "\n",
       "                                                 URL   CLASS  \\\n",
       "0  http://www.epinions.com/elec-review-31F6-E9DA6...  Camera   \n",
       "1  http://www.epinions.com/elec-review-B67-D4F9A3...  Camera   \n",
       "2  http://www.epinions.com/elec-review-7463-6CD18...  Camera   \n",
       "3  http://www.epinions.com/elec-review-2E51-6E04C...  Camera   \n",
       "4  http://www.epinions.com/elec-review-4179-153E2...  Camera   \n",
       "\n",
       "                                                TEXT  \n",
       "0  [NOTE: I have the Japanese version of this cam...  \n",
       "1  Ah, finally, A great little camera for the beg...  \n",
       "2  Okay, I've written three negative reviews in a...  \n",
       "3  \\nThis camera is a great deal.  Wal-Mart has t...  \n",
       "4  This is a great camera. From it's picture qual...  "
      ]
     },
     "execution_count": 15,
     "metadata": {},
     "output_type": "execute_result"
    }
   ],
   "source": [
    "fuji_camera.head()"
   ]
  },
  {
   "cell_type": "markdown",
   "metadata": {},
   "source": [
    "### Data Exploration\n",
    "In this section, we perform visual analysis of given data to explore the distribution of positive and negative reviews."
   ]
  },
  {
   "cell_type": "markdown",
   "metadata": {},
   "source": [
    "#### 1. Distribution of data for consumer recommending a product from Class = [Auto, Camera]"
   ]
  },
  {
   "cell_type": "code",
   "execution_count": 16,
   "metadata": {
    "collapsed": false
   },
   "outputs": [
    {
     "data": {
      "image/png": "[encoded data removed]",
      "text/plain": [
       "<matplotlib.figure.Figure at 0x2f7248d0>"
      ]
     },
     "metadata": {},
     "output_type": "display_data"
    }
   ],
   "source": [
    "sns.countplot(x=\"CLASS\", hue = \"LABEL\", data=tab, palette=cmap)\n",
    "plt.ylabel('Count of Label', fontsize=14)\n",
    "plt.xlabel('Class of Product', fontsize=14)\n",
    "plt.tight_layout()"
   ]
  },
  {
   "cell_type": "markdown",
   "metadata": {},
   "source": [
    "#### 2. Distribution of data for consumer ratings of products from Class = [Auto, Camera]"
   ]
  },
  {
   "cell_type": "code",
   "execution_count": 17,
   "metadata": {
    "collapsed": false,
    "scrolled": false
   },
   "outputs": [
    {
     "data": {
      "image/png": "[encoded data removed]",
      "text/plain": [
       "<matplotlib.figure.Figure at 0x2f2b4a58>"
      ]
     },
     "metadata": {},
     "output_type": "display_data"
    }
   ],
   "source": [
    "sns.countplot(x=\"CLASS\", hue = \"RATING\", data=tab, palette = cmap)\n",
    "plt.ylabel('Count of Rating', fontsize=14)\n",
    "plt.xlabel('Class of Product', fontsize=14)\n",
    "plt.tight_layout()"
   ]
  },
  {
   "cell_type": "markdown",
   "metadata": {},
   "source": [
    "#### 3. Distribution of data for consumer ratings for Camera vs if the recommend the product or not."
   ]
  },
  {
   "cell_type": "code",
   "execution_count": 18,
   "metadata": {
    "collapsed": false,
    "scrolled": true
   },
   "outputs": [
    {
     "data": {
      "image/png": "[encoded data removed]",
      "text/plain": [
       "<matplotlib.figure.Figure at 0x2fd795f8>"
      ]
     },
     "metadata": {},
     "output_type": "display_data"
    }
   ],
   "source": [
    "sns.countplot(x=\"LABEL\", hue = \"RATING\", data=camera, palette = cmap)\n",
    "plt.ylabel('Count of Rating', fontsize=14)\n",
    "plt.xlabel('Label of Product (Camera)', fontsize=14)\n",
    "plt.tight_layout()"
   ]
  },
  {
   "cell_type": "markdown",
   "metadata": {},
   "source": [
    "#### 4. Distribution of data for consumer ratings for Fuji Camera vs if the recommend the product or not."
   ]
  },
  {
   "cell_type": "code",
   "execution_count": 19,
   "metadata": {
    "collapsed": false
   },
   "outputs": [
    {
     "data": {
      "image/png": "[encoded data removed]",
      "text/plain": [
       "<matplotlib.figure.Figure at 0x2f724400>"
      ]
     },
     "metadata": {},
     "output_type": "display_data"
    }
   ],
   "source": [
    "sns.countplot(x=\"LABEL\", hue = \"RATING\", data=fuji_camera, palette = cmap)\n",
    "plt.ylabel('Count of Rating', fontsize=14)\n",
    "plt.xlabel('Label of Product (Fuji Camera)', fontsize=14)\n",
    "plt.legend(loc='upper right')\n",
    "plt.tight_layout()"
   ]
  },
  {
   "cell_type": "markdown",
   "metadata": {},
   "source": [
    "From the above visualizations, we can infer that the data is highly biased with about 10% data with Label \"No\" and the rest with Label \"Yes\"."
   ]
  },
  {
   "cell_type": "markdown",
   "metadata": {},
   "source": [
    "## Data Cleaning\n",
    "\n",
    "In this section, we will create functions that clean the text of every review using regular expressions and various functions offered by nltk package."
   ]
  },
  {
   "cell_type": "markdown",
   "metadata": {},
   "source": [
    "The following function processes and tokenizes raw text. We use nltk package to tokenize and clean the text. This includes removing numbers, stopwords, punctuations, converting the text to lower case and lemmatizing."
   ]
  },
  {
   "cell_type": "code",
   "execution_count": 20,
   "metadata": {
    "collapsed": false
   },
   "outputs": [],
   "source": [
    "def process(text, lemmatizer=nltk.stem.wordnet.WordNetLemmatizer()):\n",
    "    \"\"\"\n",
    "    input:\n",
    "        text: string of one review\n",
    "        lemmatizer: default is nltk.stem.wordnet.WordNetLemmatizer()\n",
    "    output:\n",
    "        result: list of tokenized words\n",
    "    \"\"\"\n",
    "    \n",
    "    tokenized = []\n",
    "    lemmatized = []\n",
    "    \n",
    "    # Remove numbers\n",
    "    text = re.sub('\\d', ' ', text)\n",
    "    \n",
    "    # Normalizes case\n",
    "    text = text.lower()\n",
    "    \n",
    "    # remove apostrophes, delete 's\n",
    "    text = text.replace('\\'s', '')\n",
    "    text = text.replace('\\'', ' ')\n",
    "    \n",
    "    # Remove punctuations  \n",
    "    for char in string.punctuation:\n",
    "        text = text.replace(char, ' ')\n",
    "        \n",
    "    # Tokenize text\n",
    "    tokenized = nltk.word_tokenize(text)\n",
    "    \n",
    "    for word in tokenized:\n",
    "        # Remove stopwords\n",
    "        if word not in stopwords.words('english'):\n",
    "            try:\n",
    "                # lemmatize word\n",
    "                lemmatized.append(lemmatizer.lemmatize(word))\n",
    "            except Exception:\n",
    "                pass\n",
    "    return ' '.join(word for word in lemmatized)"
   ]
  },
  {
   "cell_type": "code",
   "execution_count": 21,
   "metadata": {
    "collapsed": false
   },
   "outputs": [
    {
     "name": "stdout",
     "output_type": "stream",
     "text": [
      "sample test input processing love\n"
     ]
    }
   ],
   "source": [
    "# Example\n",
    "\n",
    "text = \"This is a sample test input for 's processing loves.\"\n",
    "print process(text)"
   ]
  },
  {
   "cell_type": "markdown",
   "metadata": {},
   "source": [
    "The following function makes use of the process() function that we defined earlier to clean all the text in the last column of pandas dataframe. Here, we assume the last column has all the text reviews."
   ]
  },
  {
   "cell_type": "code",
   "execution_count": 22,
   "metadata": {
    "collapsed": true
   },
   "outputs": [],
   "source": [
    "def process_all(df, lemmatizer=nltk.stem.wordnet.WordNetLemmatizer()):\n",
    "    \"\"\"\n",
    "    Inputs\n",
    "        df: pd.DataFrame: dataframe containing a column 'text' in last column\n",
    "        lemmatizer: the default argument is of type nltk.stem.wordnet.WordNetLemmatizer\n",
    "    Outputs\n",
    "        pd.DataFrame: dataframe in which the values of text column have been changed from str to list(str),\n",
    "                        the output from process_text() function. Other columns are unaffected.\n",
    "    \"\"\"\n",
    "    df_copy = df.copy()\n",
    "    df_length = len(df_copy.iloc[:,-1])\n",
    "        \n",
    "    temp = [process(df_copy.iloc[i,-1]) for i in range(df_length)]  \n",
    "    df_copy.loc[:,'TEXT'] = temp\n",
    "    \n",
    "    return df_copy"
   ]
  },
  {
   "cell_type": "markdown",
   "metadata": {},
   "source": [
    "## Feature Construction"
   ]
  },
  {
   "cell_type": "markdown",
   "metadata": {},
   "source": [
    "In this section, we will create functions to create Bag-Of-Words feature vectors from the processed reviews. "
   ]
  },
  {
   "cell_type": "markdown",
   "metadata": {},
   "source": [
    "Since the number of possible words is large and not all of them may be useful for our classification task. We first determine which words to retain, and which to omit. Since we have already pruned the stopwords, we will now prune words that are used rarely and usually tend to be typos. We consider a word rare if it occurs not more than once."
   ]
  },
  {
   "cell_type": "markdown",
   "metadata": {},
   "source": [
    "Different approaches for parameterization of text:\n",
    "- Binary: tells whether a term t is present in a document or not\n",
    "- Counts: frequency of occurrences of term t in a document\n",
    "- Weighted frequencies: TF-IDF (Term Frequency - Inverse Document Frequency)\n",
    "\n",
    "Where each row in matrix corresponds to the document and each column corresponds to a different term. For simplicity, we only consider TF-IDF with unigrams(single words). For advanced analysis, combination of other parameterization methods with Bi-grams/N-grams will yeild interesting results for comparison."
   ]
  },
  {
   "cell_type": "markdown",
   "metadata": {},
   "source": [
    "### 1. Get Rare Words"
   ]
  },
  {
   "cell_type": "markdown",
   "metadata": {},
   "source": [
    "The below function use the word count information across all reviews in data to come up with a feature list of rare words."
   ]
  },
  {
   "cell_type": "code",
   "execution_count": 23,
   "metadata": {
    "collapsed": false
   },
   "outputs": [],
   "source": [
    "def get_rare_words(processed_data):\n",
    "    \"\"\" \n",
    "    Inputs:\n",
    "        processed_data: pd.DataFrame: the output of process_all() function\n",
    "    Outputs:\n",
    "        list(str): list of rare words, sorted alphabetically.\n",
    "    \"\"\"\n",
    "    c = []\n",
    "    [c.extend(nltk.word_tokenize(sentence)) for sentence in processed_data.TEXT]\n",
    "    k = Counter(c)\n",
    "    words = (Counter(el for el in k.elements() if k[el] < 2))\n",
    "    wordlist = list(words.elements())\n",
    "    return sorted(wordlist)"
   ]
  },
  {
   "cell_type": "markdown",
   "metadata": {},
   "source": [
    "### 2. TF-IDF"
   ]
  },
  {
   "cell_type": "markdown",
   "metadata": {},
   "source": [
    "Below function helps construct a sparse matrix of features for each text review with the help of sklearn.feature_extraction.text.TfidfVectorizer"
   ]
  },
  {
   "cell_type": "code",
   "execution_count": 24,
   "metadata": {
    "collapsed": false
   },
   "outputs": [],
   "source": [
    "def create_tfidf_features(processed_data):\n",
    "    \"\"\" creates the feature matrix using the processed reviews\n",
    "    Inputs:\n",
    "        processed_data: pd.DataFrame: processed reviews containing the column 'TEXT'\n",
    "\n",
    "    Outputs:\n",
    "        sklearn.feature_extraction.text.TfidfVectorizer: the TfidfVectorizer object used\n",
    "                                                we need this to tranform the test records in the same way as train records\n",
    "        scipy.sparse.csr.csr_matrix: sparse bag-of-words TF-IDF feature matrix\n",
    "    \"\"\"\n",
    "    \n",
    "#     processed_data.reset_index(inplace=True, drop=True)\n",
    "    \n",
    "    # Call the get_rare_words function to filter rare words from the text\n",
    "    rare_words = get_rare_words(processed_data)\n",
    "    \n",
    "    # List of stopwords\n",
    "    stp_wrds = [str(words) for words in nltk.corpus.stopwords.words('english')]\n",
    "    stp_wrds.extend(rare_words)\n",
    "    \n",
    "    # Tfidf Vectorizer object\n",
    "    vectorizer = sklearn.feature_extraction.text.TfidfVectorizer(stop_words = stp_wrds)\n",
    "    \n",
    "    # Sparse bag-of-words TF-IDF feature matrix\n",
    "    data = processed_data['TEXT']\n",
    "    tfidf_matrix = vectorizer.fit_transform(data)\n",
    "    \n",
    "    return (vectorizer, tfidf_matrix)"
   ]
  },
  {
   "cell_type": "markdown",
   "metadata": {},
   "source": [
    "## Feature Extraction/Selection"
   ]
  },
  {
   "cell_type": "markdown",
   "metadata": {},
   "source": [
    "In this section, we reduce the dimension of features which transform the data representation into a shorter, more compact, and more predictive one. \n",
    "\n",
    "Dimensionality Reduction Techniques are broadly classified into two types:\n",
    "- Feature Extraction: All the original features are transformed into the new reduced space without deleting them but replacing the original features by a smaller representative set\n",
    "    - Eg: Principal Components Analysis (PCA) and Latent semantic Analysis (LSA)\n",
    "\n",
    "- Feature Selection: A subset of original features is selected, and only the selected features are used for training and testing the classifiers.\n",
    "    - Eg. Chi-Square and Information Gain\n",
    "    \n",
    "Here, we are using scikit-learn to select top features using a chi-squared test. This method calculates the chi-squared score, and analyzes the dependency between the term and the class. If the term is independent from the class, then its score is equal to 0, other wise 1. A term with a higher chi-squared score is more informative."
   ]
  },
  {
   "cell_type": "code",
   "execution_count": 25,
   "metadata": {
    "collapsed": false
   },
   "outputs": [],
   "source": [
    "from sklearn.feature_selection import SelectKBest, chi2\n",
    "\n",
    "def select_top_features(vectorizer, k, X, y_train, y):\n",
    "    \"\"\" reduces the dimension of the feature matrix\n",
    "    Inputs:\n",
    "        vectorizer: the TfidfVectorizer object\n",
    "        k: total number of features\n",
    "        X: sparse bag-of-words TF-IDF feature matrix of training data\n",
    "        y_train: training labels\n",
    "        y: parameterized test data\n",
    "        \n",
    "    Outputs:\n",
    "        sklearn.feature_extraction.text.TfidfVectorizer: the TfidfVectorizer object used\n",
    "                                                we need this to tranform the test records in the same way as train records\n",
    "        scipy.sparse.csr.csr_matrix: sparse bag-of-words TF-IDF feature matrix\n",
    "    \"\"\"\n",
    "    # Extracting 100 best features by a chi-squared test\n",
    "    feature_names = vectorizer.get_feature_names()\n",
    "    ch2 = SelectKBest(chi2, k)\n",
    "    \n",
    "    # Tranform the train and test data\n",
    "    X = ch2.fit_transform(X, y_train)\n",
    "    y = ch2.transform(y)\n",
    "\n",
    "    # Keep selected feature names\n",
    "    feature_names = [feature_names[i] for i in ch2.get_support(indices=True)]\n",
    "\n",
    "    return(X,y,feature_names)"
   ]
  },
  {
   "cell_type": "markdown",
   "metadata": {},
   "source": [
    "## Data Processing"
   ]
  },
  {
   "cell_type": "code",
   "execution_count": 26,
   "metadata": {
    "collapsed": false
   },
   "outputs": [
    {
     "data": {
      "text/plain": [
       "u\"Okay, I've written three negative reviews in a row so it's about time that I write about something tha\""
      ]
     },
     "execution_count": 26,
     "metadata": {},
     "output_type": "execute_result"
    }
   ],
   "source": [
    "# BEFORE \n",
    "fuji_camera.TEXT[2][:102]"
   ]
  },
  {
   "cell_type": "code",
   "execution_count": 27,
   "metadata": {
    "collapsed": false
   },
   "outputs": [],
   "source": [
    "# call process_all() function to clean the data\n",
    "processed_fuji_data = process_all(fuji_camera)"
   ]
  },
  {
   "cell_type": "code",
   "execution_count": 28,
   "metadata": {
    "collapsed": false
   },
   "outputs": [
    {
     "data": {
      "text/plain": [
       "u'okay written three negative review row time write something happy sister received fuji mx digital ca'"
      ]
     },
     "execution_count": 28,
     "metadata": {},
     "output_type": "execute_result"
    }
   ],
   "source": [
    "# AFTER\n",
    "processed_fuji_data.TEXT[2][:100]"
   ]
  },
  {
   "cell_type": "code",
   "execution_count": 29,
   "metadata": {
    "collapsed": true
   },
   "outputs": [],
   "source": [
    "# Convert label values to binary\n",
    "processed_fuji_data.LABEL = [0 if val=='No' else 1 for val in processed_fuji_data.LABEL]"
   ]
  },
  {
   "cell_type": "code",
   "execution_count": 30,
   "metadata": {
    "collapsed": false
   },
   "outputs": [
    {
     "data": {
      "text/html": [
       "<div>\n",
       "<table border=\"1\" class=\"dataframe\">\n",
       "  <thead>\n",
       "    <tr style=\"text-align: right;\">\n",
       "      <th></th>\n",
       "      <th>DOCID</th>\n",
       "      <th>PRODUCT</th>\n",
       "      <th>LABEL</th>\n",
       "      <th>RATING</th>\n",
       "      <th>URL</th>\n",
       "      <th>CLASS</th>\n",
       "      <th>TEXT</th>\n",
       "    </tr>\n",
       "  </thead>\n",
       "  <tbody>\n",
       "    <tr>\n",
       "      <th>0</th>\n",
       "      <td>107</td>\n",
       "      <td>Digital_Cameras/pr-Fuji_Finepix_MX-1200_Digita...</td>\n",
       "      <td>1</td>\n",
       "      <td>4.0</td>\n",
       "      <td>http://www.epinions.com/elec-review-31F6-E9DA6...</td>\n",
       "      <td>Camera</td>\n",
       "      <td>note japanese version camera difference though...</td>\n",
       "    </tr>\n",
       "    <tr>\n",
       "      <th>1</th>\n",
       "      <td>108</td>\n",
       "      <td>Digital_Cameras/pr-Fuji_Finepix_MX-1200_Digita...</td>\n",
       "      <td>1</td>\n",
       "      <td>4.0</td>\n",
       "      <td>http://www.epinions.com/elec-review-B67-D4F9A3...</td>\n",
       "      <td>Camera</td>\n",
       "      <td>ah finally great little camera beginner easy s...</td>\n",
       "    </tr>\n",
       "    <tr>\n",
       "      <th>2</th>\n",
       "      <td>109</td>\n",
       "      <td>Digital_Cameras/pr-Fuji_Finepix_MX-1200_Digita...</td>\n",
       "      <td>1</td>\n",
       "      <td>5.0</td>\n",
       "      <td>http://www.epinions.com/elec-review-7463-6CD18...</td>\n",
       "      <td>Camera</td>\n",
       "      <td>okay written three negative review row time wr...</td>\n",
       "    </tr>\n",
       "    <tr>\n",
       "      <th>3</th>\n",
       "      <td>110</td>\n",
       "      <td>Digital_Cameras/pr-Fuji_Finepix_MX-1200_Digita...</td>\n",
       "      <td>0</td>\n",
       "      <td>2.0</td>\n",
       "      <td>http://www.epinions.com/elec-review-2E51-6E04C...</td>\n",
       "      <td>Camera</td>\n",
       "      <td>camera great deal wal mart right going fast ab...</td>\n",
       "    </tr>\n",
       "    <tr>\n",
       "      <th>4</th>\n",
       "      <td>111</td>\n",
       "      <td>Digital_Cameras/pr-Fuji_Finepix_MX-1200_Digita...</td>\n",
       "      <td>1</td>\n",
       "      <td>5.0</td>\n",
       "      <td>http://www.epinions.com/elec-review-4179-153E2...</td>\n",
       "      <td>Camera</td>\n",
       "      <td>great camera picture quality form factor price...</td>\n",
       "    </tr>\n",
       "  </tbody>\n",
       "</table>\n",
       "</div>"
      ],
      "text/plain": [
       "  DOCID                                            PRODUCT  LABEL RATING  \\\n",
       "0   107  Digital_Cameras/pr-Fuji_Finepix_MX-1200_Digita...      1    4.0   \n",
       "1   108  Digital_Cameras/pr-Fuji_Finepix_MX-1200_Digita...      1    4.0   \n",
       "2   109  Digital_Cameras/pr-Fuji_Finepix_MX-1200_Digita...      1    5.0   \n",
       "3   110  Digital_Cameras/pr-Fuji_Finepix_MX-1200_Digita...      0    2.0   \n",
       "4   111  Digital_Cameras/pr-Fuji_Finepix_MX-1200_Digita...      1    5.0   \n",
       "\n",
       "                                                 URL   CLASS  \\\n",
       "0  http://www.epinions.com/elec-review-31F6-E9DA6...  Camera   \n",
       "1  http://www.epinions.com/elec-review-B67-D4F9A3...  Camera   \n",
       "2  http://www.epinions.com/elec-review-7463-6CD18...  Camera   \n",
       "3  http://www.epinions.com/elec-review-2E51-6E04C...  Camera   \n",
       "4  http://www.epinions.com/elec-review-4179-153E2...  Camera   \n",
       "\n",
       "                                                TEXT  \n",
       "0  note japanese version camera difference though...  \n",
       "1  ah finally great little camera beginner easy s...  \n",
       "2  okay written three negative review row time wr...  \n",
       "3  camera great deal wal mart right going fast ab...  \n",
       "4  great camera picture quality form factor price...  "
      ]
     },
     "execution_count": 30,
     "metadata": {},
     "output_type": "execute_result"
    }
   ],
   "source": [
    "processed_fuji_data.head()"
   ]
  },
  {
   "cell_type": "markdown",
   "metadata": {},
   "source": [
    "### Feature Analysis"
   ]
  },
  {
   "cell_type": "code",
   "execution_count": 31,
   "metadata": {
    "collapsed": false
   },
   "outputs": [
    {
     "data": {
      "text/plain": [
       "94375"
      ]
     },
     "execution_count": 31,
     "metadata": {},
     "output_type": "execute_result"
    }
   ],
   "source": [
    "# Calculate the total number of words in Fuji reviews\n",
    "words = []\n",
    "[words.extend(nltk.word_tokenize(processed_fuji_data.loc[i,'TEXT'])) for i in range(len(processed_fuji_data.loc[:,'TEXT']))]\n",
    "len(words)"
   ]
  },
  {
   "cell_type": "code",
   "execution_count": 32,
   "metadata": {
    "collapsed": false
   },
   "outputs": [
    {
     "data": {
      "text/plain": [
       "6839"
      ]
     },
     "execution_count": 32,
     "metadata": {},
     "output_type": "execute_result"
    }
   ],
   "source": [
    "# Unique words in Fuji reviews\n",
    "len(set(words))"
   ]
  },
  {
   "cell_type": "code",
   "execution_count": 33,
   "metadata": {
    "collapsed": false
   },
   "outputs": [
    {
     "data": {
      "text/plain": [
       "2988"
      ]
     },
     "execution_count": 33,
     "metadata": {},
     "output_type": "execute_result"
    }
   ],
   "source": [
    "# Call the get_rare_words function to find rare words in Fuji reviews\n",
    "rare_words = get_rare_words(processed_fuji_data)\n",
    "len(rare_words)"
   ]
  },
  {
   "cell_type": "code",
   "execution_count": 34,
   "metadata": {
    "collapsed": false
   },
   "outputs": [
    {
     "name": "stdout",
     "output_type": "stream",
     "text": [
      "[u'aaaaaaahhhh', u'aax', u'aa\\x92s', u'aa\\u2019s', u'aback', u'abaco', u'abberations', u'abbreviation', u'aberratons', u'abides', u'ably', u'abnormal', u'abound', u'absloutely', u'abstract', u'abstracted', u'abstraction', u'abundance', u'abut', u'academy']\n"
     ]
    }
   ],
   "source": [
    "print rare_words[:20]"
   ]
  },
  {
   "cell_type": "markdown",
   "metadata": {},
   "source": [
    "## Modelling"
   ]
  },
  {
   "cell_type": "markdown",
   "metadata": {},
   "source": [
    "In this section, we try to learn a model to classify the opinions. We will be using three classifiers: Support Vector Machines, Random Forest and Logistic Regression with L1 penalty. We will then score the clssifier based on how well it performs against test data and use it for predicting sentiments from opinions."
   ]
  },
  {
   "cell_type": "markdown",
   "metadata": {},
   "source": [
    "Although there are several metrics available (e.g., accuracy, precision, recall, etc), we compute accuracy and f-beta score."
   ]
  },
  {
   "cell_type": "markdown",
   "metadata": {},
   "source": [
    "### Metric Calculation"
   ]
  },
  {
   "cell_type": "markdown",
   "metadata": {},
   "source": [
    "For this project, we calculate the Fbeta metric to evaluate the performance of different models. The F-beta score is the weighted harmonic mean of precision and recall. \n",
    "\n",
    "The beta parameter determines the weight of precision in the combined score (beta < 1 lends more weight to precision, while beta > 1 favors recall). We choose beta = \"2\"."
   ]
  },
  {
   "cell_type": "code",
   "execution_count": 35,
   "metadata": {
    "collapsed": true
   },
   "outputs": [],
   "source": [
    "from sklearn import metrics\n",
    "\n",
    "def get_metrics(y, pred):\n",
    "    \"\"\" \n",
    "    Inputs:\n",
    "        y: Actual output\n",
    "        pred: Predicted output\n",
    "    Outputs:\n",
    "        score: fbeta score\n",
    "    \"\"\"\n",
    "    fbeta_score = metrics.fbeta_score(y, pred,  beta=2)\n",
    "    return fbeta_score"
   ]
  },
  {
   "cell_type": "markdown",
   "metadata": {},
   "source": [
    "### Model Training"
   ]
  },
  {
   "cell_type": "markdown",
   "metadata": {},
   "source": [
    "In this section, we use cross-validation to split the data into k-folds for training and testing the model. Following steps are performed in chronological order within cross-validation:\n",
    "- Randomize input data to break any pattern\n",
    "- Split data into k-folds for cross-validation\n",
    "- Split data into training and test datasets\n",
    "- Remove bias: Since the 'No' labels form 9% and 'Yes' labels form 91% of total data, we replicate the 'No' labels 9 times to give equal weight to both Train and Test labels; Test data set is not modified\n",
    "- Extract features from the training data using a sparse TF-IDF vectorizer\n",
    "- Transform the test data using the same vectorizer\n",
    "- Get top features using select_top_features() function\n",
    "- Get model performance: calculate fbeta score for each iteration in k-fold\n",
    "\n",
    "The function returns mean of calculated fbeta score."
   ]
  },
  {
   "cell_type": "code",
   "execution_count": 39,
   "metadata": {
    "collapsed": false
   },
   "outputs": [],
   "source": [
    "import random\n",
    "from sklearn.model_selection import KFold\n",
    "from sklearn import svm\n",
    "from sklearn.ensemble import RandomForestClassifier\n",
    "from sklearn.linear_model import LogisticRegression\n",
    "from sklearn.metrics import roc_curve, auc\n",
    "from itertools import cycle\n",
    "from scipy import interp\n",
    "\"\"\"\n",
    "    Source: http://scikit-learn.org/stable/auto_examples/model_selection/plot_roc_crossval.html#sphx-glr-auto-examples-model-selection-plot-roc-crossval-py\n",
    "\"\"\"\n",
    "def cross_validation(df, k, model, num_features, num_forest = 100):\n",
    "    \"\"\" Function implementing k-fold cross-validation for linear regression, connect-the-dots, and default predictor\n",
    "    Inputs:\n",
    "        df: pd.DataFrame: processed reviews containing the column 'TEXT'\n",
    "        k: value of k in k-fold cross validation\n",
    "        model: function name of the model to implement\n",
    "        num_features: number of top features to select\n",
    "        num_forest:  number of trees in the forest\n",
    "    Outputs:\n",
    "        score: fbeta score of the input model\n",
    "    \"\"\"  \n",
    "    \n",
    "    # Initialize the result variable\n",
    "    fbeta_train = []\n",
    "    fbeta_test = []\n",
    "    accuracy_train = []\n",
    "    accuracy_test = []\n",
    "    \n",
    "    mean_tpr = 0.0\n",
    "    mean_fpr = np.linspace(0, 1, 100)\n",
    "    lw = 2\n",
    "    i = 0\n",
    "\n",
    "    # Randomize input data\n",
    "    random.seed(10)\n",
    "    df = df.sample(len(df))\n",
    "    \n",
    "    # Split data into input data and target column\n",
    "    df_data = df.ix[:, df.columns != 'LABEL']\n",
    "    df_target = df.ix[:, df.columns == 'LABEL']\n",
    "    \n",
    "    # Get train/test indices to split data in train/test sets\n",
    "    k_fold = KFold(n_splits=k, shuffle=False, random_state=0)\n",
    "    \n",
    "    # Split data into k-folds\n",
    "    for train_index, test_index in k_fold.split(df_data):\n",
    "        X_train, X_test = df_data.ix[train_index,],  df_data.ix[test_index,]\n",
    "        y_train, y_test = df_target.ix[train_index,], df_target.ix[test_index,]\n",
    "\n",
    "        # Remove bias: increase weight of 'No' labeled rows\n",
    "        idx = y_train[y_train.LABEL==0].index\n",
    "        X_train = X_train.append([X_train.ix[idx.values,]]*10,ignore_index=True)\n",
    "        y_train = y_train.append([y_train.ix[idx.values,]]*10,ignore_index=True)\n",
    "\n",
    "        # Extracting features from the training data using a sparse vectorizer\n",
    "        (vectorizer, X_train) = create_tfidf_features(X_train)\n",
    "        \n",
    "        # Transform the test data using the same vectorizer\n",
    "        X_test = vectorizer.transform(X_test.TEXT)\n",
    "        \n",
    "        # Select top features\n",
    "        if num_features > 0:\n",
    "            (X_train, X_test, feature_names) = select_top_features(vectorizer, num_features, X_train, y_train, X_test)\n",
    "            \n",
    "        # Get model performance: fbeta score\n",
    "        # Support Vector Machine\n",
    "        if(model == 'SVM'):\n",
    "            # fit the model\n",
    "            clf = svm.SVC(kernel='rbf', C=1e4, probability=True)\n",
    "            clf.fit(X_train, y_train.LABEL)\n",
    "        \n",
    "        # Random Forest\n",
    "        elif(model == 'Random Forest'):\n",
    "            # fit the model\n",
    "            # n_estimators: The number of trees in the forest\n",
    "            clf = RandomForestClassifier(n_estimators=num_forest, max_features=None)\n",
    "            clf.fit(X_train, y_train.LABEL)\n",
    "            \n",
    "        # Logistic Regression with L1 Penalty\n",
    "        elif(model == 'Logistic Regression'):\n",
    "            # fit the model\n",
    "            clf = LogisticRegression(C=10, penalty='l1', tol=0.01)\n",
    "            clf.fit(X_train, y_train.LABEL)\n",
    "            \n",
    "        #predict the label\n",
    "        pred_train = clf.predict(X_train)\n",
    "        pred_test = clf.predict(X_test)\n",
    "            \n",
    "        print(\"confusion matrix:\")\n",
    "        print(metrics.confusion_matrix(y_test, pred_test))\n",
    "        \n",
    "        # compute fbeta score\n",
    "        fbeta_train.append(get_metrics(y_train.LABEL, pred_train))\n",
    "        fbeta_test.append(get_metrics(y_test.LABEL, pred_test))\n",
    "          \n",
    "        # compute accuracy score\n",
    "        accuracy_train.append(clf.score(X_train,y_train.LABEL))\n",
    "        accuracy_test.append(clf.score(X_test,y_test.LABEL))\n",
    "            \n",
    "        # Predict probablity\n",
    "        probas_ = clf.predict_proba(X_test)\n",
    "            \n",
    "        # Compute ROC curve and area the curve\n",
    "        fpr, tpr, thresholds = roc_curve(y_test, probas_[:, 1])\n",
    "        mean_tpr += interp(mean_fpr, fpr, tpr)\n",
    "        mean_tpr[0] = 0.0\n",
    "        roc_auc = auc(fpr, tpr)\n",
    "        plt.plot(fpr, tpr, lw=lw,\n",
    "                    label='ROC fold %d (area = %0.2f)' % (i, roc_auc))\n",
    "        i += 1\n",
    "\n",
    "    plt.plot([0, 1], [0, 1], linestyle='--', lw=lw, color='k',\n",
    "         label='Default')\n",
    "\n",
    "    mean_tpr /= k\n",
    "    mean_tpr[-1] = 1.0\n",
    "    mean_auc = auc(mean_fpr, mean_tpr)\n",
    "    plt.plot(mean_fpr, mean_tpr, color='g', linestyle='--',\n",
    "             label='Mean ROC (area = %0.2f)' % mean_auc, lw=lw)\n",
    "\n",
    "    plt.xlim([-0.01, 1.01])\n",
    "    plt.ylim([-0.01, 1.01])\n",
    "    plt.xlabel('False Positive Rate')\n",
    "    plt.ylabel('True Positive Rate')\n",
    "    title = model + ': Receiver operating characteristic (ROC)'\n",
    "    plt.title(title)\n",
    "    plt.legend(loc=\"lower right\")\n",
    "    plt.show()\n",
    "    return (np.mean(fbeta_train), np.mean(fbeta_test), np.mean(accuracy_train), np.mean(accuracy_test), feature_names)"
   ]
  },
  {
   "cell_type": "markdown",
   "metadata": {},
   "source": [
    "## Evaluating Model Performance"
   ]
  },
  {
   "cell_type": "code",
   "execution_count": 40,
   "metadata": {
    "collapsed": false
   },
   "outputs": [
    {
     "name": "stdout",
     "output_type": "stream",
     "text": [
      "confusion matrix:\n",
      "[[ 0  7]\n",
      " [ 0 54]]\n",
      "confusion matrix:\n",
      "[[ 0  6]\n",
      " [ 0 55]]\n",
      "confusion matrix:\n",
      "[[ 0  1]\n",
      " [ 0 60]]\n",
      "confusion matrix:\n",
      "[[ 0  7]\n",
      " [ 0 54]]\n",
      "confusion matrix:\n",
      "[[ 0  5]\n",
      " [ 0 56]]\n",
      "confusion matrix:\n",
      "[[ 0  7]\n",
      " [ 0 54]]\n",
      "confusion matrix:\n",
      "[[ 0  4]\n",
      " [ 1 56]]\n",
      "confusion matrix:\n",
      "[[ 0  7]\n",
      " [ 0 53]]\n"
     ]
    },
    {
     "data": {
      "image/png": "[encoded data removed]",
      "text/plain": [
       "<matplotlib.figure.Figure at 0x32e80978>"
      ]
     },
     "metadata": {},
     "output_type": "display_data"
    }
   ],
   "source": [
    "(fbeta_train, fbeta_test, accuracy_train, accuracy_test, feature_names) = cross_validation(processed_fuji_data, 8, 'SVM', 1000)"
   ]
  },
  {
   "cell_type": "code",
   "execution_count": 41,
   "metadata": {
    "collapsed": false
   },
   "outputs": [
    {
     "name": "stdout",
     "output_type": "stream",
     "text": [
      "confusion matrix:\n",
      "[[ 0  7]\n",
      " [ 7 47]]\n",
      "confusion matrix:\n",
      "[[ 0  6]\n",
      " [ 4 51]]\n",
      "confusion matrix:\n",
      "[[ 0  1]\n",
      " [ 7 53]]\n",
      "confusion matrix:\n",
      "[[ 2  5]\n",
      " [ 2 52]]\n",
      "confusion matrix:\n",
      "[[ 2  3]\n",
      " [ 4 52]]\n",
      "confusion matrix:\n",
      "[[ 0  7]\n",
      " [ 5 49]]\n",
      "confusion matrix:\n",
      "[[ 2  2]\n",
      " [ 9 48]]\n",
      "confusion matrix:\n",
      "[[ 0  7]\n",
      " [ 6 47]]\n"
     ]
    },
    {
     "data": {
      "image/png": "[encoded data removed]",
      "text/plain": [
       "<matplotlib.figure.Figure at 0x32d9e6a0>"
      ]
     },
     "metadata": {},
     "output_type": "display_data"
    }
   ],
   "source": [
    "(fbeta_train, fbeta_test, accuracy_train, accuracy_test, feature_names) = cross_validation(processed_fuji_data, 8, 'Random Forest', 1000, 10)"
   ]
  },
  {
   "cell_type": "code",
   "execution_count": 42,
   "metadata": {
    "collapsed": false
   },
   "outputs": [
    {
     "name": "stdout",
     "output_type": "stream",
     "text": [
      "confusion matrix:\n",
      "[[ 1  6]\n",
      " [ 0 54]]\n",
      "confusion matrix:\n",
      "[[ 0  6]\n",
      " [ 2 53]]\n",
      "confusion matrix:\n",
      "[[ 0  1]\n",
      " [ 0 60]]\n",
      "confusion matrix:\n",
      "[[ 1  6]\n",
      " [ 1 53]]\n",
      "confusion matrix:\n",
      "[[ 2  3]\n",
      " [ 4 52]]\n",
      "confusion matrix:\n",
      "[[ 4  3]\n",
      " [ 4 50]]\n",
      "confusion matrix:\n",
      "[[ 1  3]\n",
      " [ 2 55]]\n",
      "confusion matrix:\n",
      "[[ 3  4]\n",
      " [ 2 51]]\n"
     ]
    },
    {
     "data": {
      "image/png": "[encoded data removed]",
      "text/plain": [
       "<matplotlib.figure.Figure at 0x63c9080>"
      ]
     },
     "metadata": {},
     "output_type": "display_data"
    }
   ],
   "source": [
    "(fbeta_train, fbeta_test, accuracy_train, accuracy_test, feature_names) = cross_validation(processed_fuji_data, 8, 'Logistic Regression', 1000)"
   ]
  },
  {
   "cell_type": "code",
   "execution_count": null,
   "metadata": {
    "collapsed": false
   },
   "outputs": [],
   "source": [
    "# Random Forest\n",
    "num_features = 1000\n",
    "for num_forest in range(5, 50, 5):\n",
    "    (fbeta_train, fbeta_test, accuracy_train, accuracy_test, feature_names) = cross_validation(processed_fuji_data, 8, 'Random Forest', num_features, num_forest)\n",
    "    print 'Forest#:', num_forest, '| Fbeta Score:', fbeta_train, fbeta_test, '| Accuracy Score:', accuracy_train, accuracy_test"
   ]
  },
  {
   "cell_type": "markdown",
   "metadata": {},
   "source": [
    "Since the accuracy doesn't change much, we choose number of forest = 10 for simplicity purpose."
   ]
  },
  {
   "cell_type": "code",
   "execution_count": null,
   "metadata": {
    "collapsed": false
   },
   "outputs": [],
   "source": [
    "# SVM\n",
    "for num_features in range(100, 1001, 100):\n",
    "    (fbeta_train, fbeta_test, accuracy_train, accuracy_test, feature_names) = cross_validation(processed_fuji_data, 8, 'SVM', num_features)\n",
    "    print 'Features:', num_features, '| Fbeta Score:', fbeta_train, fbeta_test, '| Accuracy Score:', accuracy_train, accuracy_test"
   ]
  },
  {
   "cell_type": "code",
   "execution_count": null,
   "metadata": {
    "collapsed": false
   },
   "outputs": [],
   "source": [
    "len(feature_names)"
   ]
  },
  {
   "cell_type": "code",
   "execution_count": null,
   "metadata": {
    "collapsed": false
   },
   "outputs": [],
   "source": [
    "# Logistic Regression\n",
    "for num_features in range(100, 800, 100):\n",
    "    score = cross_validation(processed_fuji_data, 8, 'Logistic Regression', num_features)\n",
    "    print 'Num Features:', num_features, '| Fbeta Score:', np.mean(score)"
   ]
  },
  {
   "cell_type": "code",
   "execution_count": null,
   "metadata": {
    "collapsed": true
   },
   "outputs": [],
   "source": []
  },
  {
   "cell_type": "markdown",
   "metadata": {},
   "source": [
    "## Result"
   ]
  },
  {
   "cell_type": "markdown",
   "metadata": {
    "collapsed": false
   },
   "source": [
    "### SVM Classifier Parameter Tuning"
   ]
  },
  {
   "cell_type": "markdown",
   "metadata": {},
   "source": [
    "We estimate the best parameters for the SVM classifier by experimenting with different kernel types and regularization term."
   ]
  },
  {
   "cell_type": "code",
   "execution_count": null,
   "metadata": {
    "collapsed": false
   },
   "outputs": [],
   "source": [
    "from sklearn import svm\n",
    "\n",
    "# Train the classifiers\n",
    "for kernel in ['rbf', 'linear', 'sigmoid', 'poly']:\n",
    "    for C in [1e2, 1e3, 1e4, 1e5]:\n",
    "        clf_svm = svm.SVC(kernel=kernel, C=C)\n",
    "        clf_svm.fit(tfidf, processed_fuji_data.LABEL)\n",
    "        print kernel, C, clf_svm.score(tfidf, list(processed_fuji_data.LABEL))"
   ]
  },
  {
   "cell_type": "markdown",
   "metadata": {},
   "source": [
    "Based on the above results, the best kernel type is rbf and the best C is 1e4."
   ]
  },
  {
   "cell_type": "code",
   "execution_count": null,
   "metadata": {
    "collapsed": true
   },
   "outputs": [],
   "source": []
  },
  {
   "cell_type": "markdown",
   "metadata": {
    "collapsed": true
   },
   "source": [
    "## Recommandations for Future Work"
   ]
  },
  {
   "cell_type": "markdown",
   "metadata": {
    "collapsed": true
   },
   "source": [
    "## References"
   ]
  },
  {
   "cell_type": "markdown",
   "metadata": {
    "collapsed": true
   },
   "source": [
    "1. http://scikit-learn.org/stable/auto_examples/text/document_classification_20newsgroups.html#sphx-glr-auto-examples-text-document-classification-20newsgroups-py\n",
    "2. http://scikit-learn.org/stable/auto_examples/model_selection/plot_roc_crossval.html#sphx-glr-auto-examples-model-selection-plot-roc-crossval-py"
   ]
  },
  {
   "cell_type": "code",
   "execution_count": null,
   "metadata": {
    "collapsed": true
   },
   "outputs": [],
   "source": []
  }
 ],
 "metadata": {
  "anaconda-cloud": {},
  "kernelspec": {
   "display_name": "Python [Root]",
   "language": "python",
   "name": "Python [Root]"
  },
  "language_info": {
   "codemirror_mode": {
    "name": "ipython",
    "version": 2
   },
   "file_extension": ".py",
   "mimetype": "text/x-python",
   "name": "python",
   "nbconvert_exporter": "python",
   "pygments_lexer": "ipython2",
   "version": "2.7.11"
  }
 },
 "nbformat": 4,
 "nbformat_minor": 1
}
