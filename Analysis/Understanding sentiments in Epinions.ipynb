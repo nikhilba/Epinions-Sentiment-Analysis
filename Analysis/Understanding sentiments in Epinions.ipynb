{
 "cells": [
  {
   "cell_type": "code",
   "execution_count": 1,
   "metadata": {
    "collapsed": false
   },
   "outputs": [],
   "source": [
    "# Load required libraries \n",
    "\n",
    "import pandas as pd\n",
    "import os\n",
    "from bs4 import BeautifulSoup"
   ]
  },
  {
   "cell_type": "code",
   "execution_count": 2,
   "metadata": {
    "collapsed": false
   },
   "outputs": [],
   "source": [
    "# Set path of the epinions file\n",
    "\n",
    "filepath = os.path.join('epinions\\D1.txt')"
   ]
  },
  {
   "cell_type": "code",
   "execution_count": 3,
   "metadata": {
    "collapsed": false
   },
   "outputs": [],
   "source": [
    "# Load data from file\n",
    "\n",
    "with open(filepath) as data:\n",
    "    soup = BeautifulSoup(data, 'lxml')"
   ]
  },
  {
   "cell_type": "code",
   "execution_count": 4,
   "metadata": {
    "collapsed": false
   },
   "outputs": [
    {
     "data": {
      "text/plain": [
       "1"
      ]
     },
     "execution_count": 4,
     "metadata": {},
     "output_type": "execute_result"
    }
   ],
   "source": [
    "len(soup)"
   ]
  },
  {
   "cell_type": "code",
   "execution_count": 13,
   "metadata": {
    "collapsed": false
   },
   "outputs": [],
   "source": [
    "documents = soup.find_all('doc')"
   ]
  },
  {
   "cell_type": "code",
   "execution_count": 14,
   "metadata": {
    "collapsed": false
   },
   "outputs": [
    {
     "data": {
      "text/plain": [
       "12000"
      ]
     },
     "execution_count": 14,
     "metadata": {},
     "output_type": "execute_result"
    }
   ],
   "source": [
    "len(documents)"
   ]
  },
  {
   "cell_type": "code",
   "execution_count": 150,
   "metadata": {
    "collapsed": false
   },
   "outputs": [
    {
     "data": {
      "text/plain": [
       "<doc>\\n<docid> 108 </docid>\\n<product> Digital_Cameras/pr-Fuji_Finepix_MX-1200_Digital_Camera </product>\\n<label> Yes\\n<rating>  4.0\\n<url> http://www.epinions.com/elec-review-B67-D4F9A30-38EAABA1-prod2 </url>\\n<class> Camera </class>\\n<text>\\n            Ah, finally, A great little camera for the beginner at an easy to swallow price.\\n\\nThis is one of many of my Digital Camera Series that I will be reviewing this April.\\nI feel I am highly qualified to review digital cameras as I have worked with them for three years now and use them on a daily basis.\\n\\nIf you need info on a specific camera feel free to email me, and I\\x92ll help you best I can.\\n\\n<b> <i> Camera Details: </i> </b>\\n\\nMax Resolution - 1280x960\\nFile Format \\x96 JPEG\\n5 Flash Modes \\x96 Red eye, auto, on, off, slow synch\\n4 Meg Smart Media Card storage (up to 79 lo-resolution images, 6 max res)\\nFujinon Lens (super sharp)\\nSoftware \\x96 Adobe  PhotoDeluxe\\n\\n\\n<b> <i> What I liked: </i> </b>\\n\\nThe simplicity of the camera.  I own several digital cameras and every one it seems need several hours of \\x93play\\x94 time before mastering all the controls and settings.  The Fuji eliminates the learning curve with a control wheel.  Simply scroll the dial to the desired setting!  You really do not even need to open the manual supplied with the unit. (Unless this is the first time you have used any camera)\\n\\nThe fantastic LCD makes the viewfinder obsolete (yea, it\\x92s still there though..)  There was never a time where I had to squint or maneuver the camera to see an image.  Images are always crisp and bright on the LCD, and that is a huge plus outdoors where the sunlight can get in the way.\\n\\n<b> <i> Picture Quality </i></b> \\n\\nAs an avid digital camera user, I always use the highest settings for resolution on any camera I use.  With the Fuji, I can get 6 high res images that are exceptionally sharp and in focus.  The final printed results are astounding for a camera at this price level and the level of detail is far above similarly priced competitors.\\n\\n<b> <i> What I disliked: </i> </b>\\n\\nWell, really, I liked the entire camera and all functions, but I would have to say the Smart Media card is a drawback.  I am on the Compact Flash bandwagon and I intend to stay on it.  It is annoying with all the different standards (the Sony memory stick is especially irritating) Smart Media is not compatible with Compact Flash so that means I had to buy more cards and could not use my already huge investment in 96meg Flash cards.\\nIf you do not have either type of removable storage now, that this point will not matter to you.\\n\\nAlso my wife did not like the fixed focus.  She would rather have an auto focus and be done with it.\\n\\n\\n<b> <i> Extra Features: </i> </b>\\n\\nThe very convenient dial wheel makes almost every feature available with a simple turn.  Flash, Exposure, Playback of images, deletions, and timer (yea. A timer too!)\\n\\n<b> <i> Who is this camera for: </i> </b>\\n\\nAnyone who needs an inexpensive camera who does not want to spend much time learning a new craft.  Limited budget?  This one is for you\\n\\n<b> <i> Value: </i> </b>\\n\\nExceptional value.  At the listed price (today 4-4-00) of $240.00 this camera wins hands down in any similar price comparison.  There is no beating the quality and ease of use of this camera.\\n\\n\\n<b> Bottom Line:  </b>\\n\\nIf I weren\\x92t such a resolution freak, I would use this camera every day.  It is great for family photos, insurance pictures, quick snaps and outdoor shots.  The camera is rugged and built to last.  Drop this unit and you won\\x92t even see a scratch.  For under 300 dollars you can\\x92t beat this Fuji.  This is now in the hands of my wife, who takes about 50 pictures of our son Eyan every day (I am exaggerating a bit) She made me buy a larger Smart Media card and I hate those things\\x85.  Get this one and you will not be disappointed.\\n<br/><br/>\\n</text></rating></label></doc>"
      ]
     },
     "execution_count": 150,
     "metadata": {},
     "output_type": "execute_result"
    }
   ],
   "source": [
    "documents[2]"
   ]
  },
  {
   "cell_type": "code",
   "execution_count": 114,
   "metadata": {
    "collapsed": false
   },
   "outputs": [],
   "source": [
    "tab = pd.DataFrame()"
   ]
  },
  {
   "cell_type": "code",
   "execution_count": 134,
   "metadata": {
    "collapsed": false,
    "scrolled": true
   },
   "outputs": [],
   "source": [
    "for idx, doc in enumerate(documents):\n",
    "    tab.loc[idx,'DOCID'] = str(doc.docid.contents[0]).strip('\\n').strip(' ')\n",
    "    tab.loc[idx,'PRODUCT'] =  str(doc.product.contents[0]).strip('\\n').strip(' ')\n",
    "    tab.loc[idx,'LABEL'] =  str(doc.label.contents[0]).strip('\\n').strip(' ')\n",
    "    tab.loc[idx,'RATING'] =  str(doc.rating.contents[0]).strip('\\n').strip(' ')\n",
    "    tab.loc[idx,'URL'] =  str(doc.url.contents[0]).strip('\\n').strip(' ')\n",
    "    tab.loc[idx,'CLASS'] =  str(doc.find('class').contents[0]).strip('\\n').strip(' ')\n",
    "    tab.loc[idx,'TEXT'] =  doc.find('text').contents[0].strip('\\n').strip(' ')"
   ]
  },
  {
   "cell_type": "code",
   "execution_count": 135,
   "metadata": {
    "collapsed": false
   },
   "outputs": [
    {
     "data": {
      "text/html": [
       "<div>\n",
       "<table border=\"1\" class=\"dataframe\">\n",
       "  <thead>\n",
       "    <tr style=\"text-align: right;\">\n",
       "      <th></th>\n",
       "      <th>DOCID</th>\n",
       "      <th>PRODUCT</th>\n",
       "      <th>LABEL</th>\n",
       "      <th>RATING</th>\n",
       "      <th>URL</th>\n",
       "      <th>CLASS</th>\n",
       "      <th>TEXT</th>\n",
       "    </tr>\n",
       "  </thead>\n",
       "  <tbody>\n",
       "    <tr>\n",
       "      <th>11995</th>\n",
       "      <td>36432</td>\n",
       "      <td>auto_Make/auto_Make-1994_Ford_Probe</td>\n",
       "      <td>Yes</td>\n",
       "      <td>5.0</td>\n",
       "      <td>http://www.epinions.com/content_110045859460</td>\n",
       "      <td>Auto</td>\n",
       "      <td>I just traded-in my Ford Probe GT, auto. Coupe...</td>\n",
       "    </tr>\n",
       "    <tr>\n",
       "      <th>11996</th>\n",
       "      <td>36437</td>\n",
       "      <td>auto_Make/auto_Make-1987_Dodge_Diplomat</td>\n",
       "      <td>Yes</td>\n",
       "      <td>5.0</td>\n",
       "      <td>http://www.epinions.com/content_38862753412</td>\n",
       "      <td>Auto</td>\n",
       "      <td>In my younger days",
       ".driving a cool car was a ...</td>\n",
       "    </tr>\n",
       "    <tr>\n",
       "      <th>11997</th>\n",
       "      <td>36442</td>\n",
       "      <td>auto_Make/auto_Make-2002_Nissan_Altima</td>\n",
       "      <td>Yes</td>\n",
       "      <td>4.0</td>\n",
       "      <td>http://www.epinions.com/content_46086590084</td>\n",
       "      <td>Auto</td>\n",
       "      <td>I bought the 2.5S w/floor mats, in-cabin micro...</td>\n",
       "    </tr>\n",
       "    <tr>\n",
       "      <th>11998</th>\n",
       "      <td>36447</td>\n",
       "      <td>auto_Make/auto_Make-2002_Nissan_Altima</td>\n",
       "      <td>Yes</td>\n",
       "      <td>5.0</td>\n",
       "      <td>http://www.epinions.com/content_63460839044</td>\n",
       "      <td>Auto</td>\n",
       "      <td>I got this car about two weeks ago. I have the...</td>\n",
       "    </tr>\n",
       "    <tr>\n",
       "      <th>11999</th>\n",
       "      <td>36452</td>\n",
       "      <td>auto_Make/auto_Make-2002_Nissan_Altima</td>\n",
       "      <td>No</td>\n",
       "      <td>4.0</td>\n",
       "      <td>http://www.epinions.com/content_88014163588</td>\n",
       "      <td>Auto</td>\n",
       "      <td>The contestants:\\n2003 Mazda 6s, 5-Speed Manua...</td>\n",
       "    </tr>\n",
       "  </tbody>\n",
       "</table>\n",
       "</div>"
      ],
      "text/plain": [
       "       DOCID                                  PRODUCT LABEL RATING  \\\n",
       "11995  36432      auto_Make/auto_Make-1994_Ford_Probe   Yes    5.0   \n",
       "11996  36437  auto_Make/auto_Make-1987_Dodge_Diplomat   Yes    5.0   \n",
       "11997  36442   auto_Make/auto_Make-2002_Nissan_Altima   Yes    4.0   \n",
       "11998  36447   auto_Make/auto_Make-2002_Nissan_Altima   Yes    5.0   \n",
       "11999  36452   auto_Make/auto_Make-2002_Nissan_Altima    No    4.0   \n",
       "\n",
       "                                                URL CLASS  \\\n",
       "11995  http://www.epinions.com/content_110045859460  Auto   \n",
       "11996   http://www.epinions.com/content_38862753412  Auto   \n",
       "11997   http://www.epinions.com/content_46086590084  Auto   \n",
       "11998   http://www.epinions.com/content_63460839044  Auto   \n",
       "11999   http://www.epinions.com/content_88014163588  Auto   \n",
       "\n",
       "                                                    TEXT  \n",
       "11995  I just traded-in my Ford Probe GT, auto. Coupe...  \n",
       "11996  In my younger days",
       ".driving a cool car was a ...  \n",
       "11997  I bought the 2.5S w/floor mats, in-cabin micro...  \n",
       "11998  I got this car about two weeks ago. I have the...  \n",
       "11999  The contestants:\\n2003 Mazda 6s, 5-Speed Manua...  "
      ]
     },
     "execution_count": 135,
     "metadata": {},
     "output_type": "execute_result"
    }
   ],
   "source": [
    "tab.tail()"
   ]
  },
  {
   "cell_type": "code",
   "execution_count": 136,
   "metadata": {
    "collapsed": false
   },
   "outputs": [
    {
     "data": {
      "text/plain": [
       "{'Auto', 'Camera'}"
      ]
     },
     "execution_count": 136,
     "metadata": {},
     "output_type": "execute_result"
    }
   ],
   "source": [
    "set(tab.CLASS)"
   ]
  },
  {
   "cell_type": "code",
   "execution_count": 137,
   "metadata": {
    "collapsed": false
   },
   "outputs": [
    {
     "data": {
      "text/plain": [
       "{'1.0', '2.0', '3.0', '4.0', '5.0'}"
      ]
     },
     "execution_count": 137,
     "metadata": {},
     "output_type": "execute_result"
    }
   ],
   "source": [
    "set(tab.RATING)"
   ]
  },
  {
   "cell_type": "code",
   "execution_count": 138,
   "metadata": {
    "collapsed": false
   },
   "outputs": [
    {
     "data": {
      "text/plain": [
       "{'No', 'Yes'}"
      ]
     },
     "execution_count": 138,
     "metadata": {},
     "output_type": "execute_result"
    }
   ],
   "source": [
    "set(tab.LABEL)"
   ]
  },
  {
   "cell_type": "code",
   "execution_count": 149,
   "metadata": {
    "collapsed": false
   },
   "outputs": [
    {
     "data": {
      "text/plain": [
       "u'Ah, finally, A great little camera for the beginner at an easy to swallow price.\\n\\nThis is one of many of my Digital Camera Series that I will be reviewing this April.\\nI feel I am highly qualified to review digital cameras as I have worked with them for three years now and use them on a daily basis.\\n\\nIf you need info on a specific camera feel free to email me, and I\\x92ll help you best I can.'"
      ]
     },
     "execution_count": 149,
     "metadata": {},
     "output_type": "execute_result"
    }
   ],
   "source": [
    "tab.loc[2,'TEXT']"
   ]
  },
  {
   "cell_type": "code",
   "execution_count": 139,
   "metadata": {
    "collapsed": true
   },
   "outputs": [],
   "source": [
    "fullpath = os.path.join('epinions\\D1.csv')"
   ]
  },
  {
   "cell_type": "code",
   "execution_count": 147,
   "metadata": {
    "collapsed": false
   },
   "outputs": [],
   "source": [
    "tab.loc[:1,].to_csv(fullpath, sep=',',  index = False, header=True)"
   ]
  },
  {
   "cell_type": "code",
   "execution_count": null,
   "metadata": {
    "collapsed": true
   },
   "outputs": [],
   "source": [
    "auto = (tab[tab.CLASS == 'Auto'])"
   ]
  },
  {
   "cell_type": "code",
   "execution_count": 161,
   "metadata": {
    "collapsed": false
   },
   "outputs": [],
   "source": [
    "camera = (tab[tab.CLASS == 'Camera'])"
   ]
  },
  {
   "cell_type": "code",
   "execution_count": 159,
   "metadata": {
    "collapsed": false
   },
   "outputs": [
    {
     "data": {
      "text/plain": [
       "5105"
      ]
     },
     "execution_count": 159,
     "metadata": {},
     "output_type": "execute_result"
    }
   ],
   "source": [
    "len(auto[auto.LABEL == 'Yes'])"
   ]
  },
  {
   "cell_type": "code",
   "execution_count": 160,
   "metadata": {
    "collapsed": false
   },
   "outputs": [
    {
     "data": {
      "text/plain": [
       "895"
      ]
     },
     "execution_count": 160,
     "metadata": {},
     "output_type": "execute_result"
    }
   ],
   "source": [
    "len(auto[auto.LABEL == 'No'])"
   ]
  },
  {
   "cell_type": "code",
   "execution_count": 162,
   "metadata": {
    "collapsed": false
   },
   "outputs": [
    {
     "data": {
      "text/plain": [
       "5274"
      ]
     },
     "execution_count": 162,
     "metadata": {},
     "output_type": "execute_result"
    }
   ],
   "source": [
    "len(camera[camera.LABEL == 'Yes'])"
   ]
  },
  {
   "cell_type": "code",
   "execution_count": 163,
   "metadata": {
    "collapsed": false
   },
   "outputs": [
    {
     "data": {
      "text/plain": [
       "726"
      ]
     },
     "execution_count": 163,
     "metadata": {},
     "output_type": "execute_result"
    }
   ],
   "source": [
    "len(camera[camera.LABEL == 'No'])"
   ]
  },
  {
   "cell_type": "code",
   "execution_count": 133,
   "metadata": {
    "collapsed": false
   },
   "outputs": [
    {
     "name": "stdout",
     "output_type": "stream",
     "text": [
      "I stumbled upon this camera after much research.  It's hard to understand why this camera is so hard to find; when every pro review site has given it very high marks.  I was considering the Minolta Dimage S404, Canon G2, Canon S40, Olympus D-40, Pentax Optio 430 before I discovered the Casio.  All of these camera's received good reviews, but only the Canon G2 was higher than the Casio.  However, the casio uses the exact same lens as the Canon G2.  The Casio is a great camera.  When you first take it out of the box, you realize that the camera is built very well.  Everything is laid out nicely.  It comes with a neck strap that is very comfortable.  I have used a 2.1 mgpxl camera for the last year and a half.  It was a good camera, but seemed to always be in the camera bag when I wanted to take a picture.  On our last trip to Disneyland, I missed a lot of good shots.  This camera has an excellent lens (all glass) and quality CCD (Sony).  Together they produce great pictures.  I have three children, the youngest is 7 weeks.  I took a close-up of the youngest and printed an 8x10 to see how it would look (using a HP Photosmart P1000).  It was astonishing.  I could not see any pixelation what-so-ever.  Without a magnifying glass, there is no way you could tell it was digital.  With the 4.1 megapixels, you can reduce the size of the files, and still have a very high quality output for e-mailing.  This camera also has a ton of manual options that give you great control of your pictures.  Most of the manual settings are accessed with dial controls, not through the menu.  This is a plus. This camera also uses NiMH batteries.  This is great because you will always have batteries ready to go.  One pro review site rated this camera as one of the best they'd ever seen for battery life.  They said they had no idea how Casio achieved this, but were glad they did.  The memory type is very versatile as well.  You can use Compact Flash type I and II, as well as a Microdrive (up to 1 gig).  You will never run out of memory options here.  The camera also has a very informative LCD, threaded lens, and external flash option.  The camera looks good, feels good, and takes great pictures.  Factor in the relatively low cost, and you have yourself a fun piece of equipment.  I knew when I bought the 2.1 mgpxl camera it would be replaced quickly.  However, I know this camera will be around for a long time.    \n",
      "\n",
      "[NOTE: I have the Japanese version of this camera. The only difference, though, is the name of the camera (FinePix 1200) and the fact that the user manual and software are in Japanese. :-) ]\n",
      "\n",
      "I got this camera because I wanted an inexpensive decent digital camera. So far it has been pretty-much everything I thought it would be. The pictures are good and sharp (as long as I don't move while the camera is snapping the picture), and the menus are easy to use and logically laid out. The camera fits easily into my hand, and doesn't have any odd protrusions that make it difficult to use.\n",
      "\n",
      "I really like how long the batteries last. I've used other digital cameras in the past that drain batteries faster than I can buy (or recharge) them. I know color LCD screens use a lot of power, and I'm glad Fuji came up with one that doesn't consume the power quite as quickly. I also like how the display can be turned off to conserve battery power.\n",
      "\n",
      "The SmartMedia card is a very convenient way to store the pictures. It's small and transfers the data quickly to the computer. I do recommend getting a SmartMedia card reader, though, so you don't have to waste battery power when you transfer pictures to your computer.\n",
      "\n",
      "There are only three things I really dislike about this camera: the \"zoom\", no DC power cord included, and the software that comes with the camera.\n",
      "\n",
      "First of all, the \"zoom\" is just a little switch on one end of the camera. It would have been nice for it to be automatic, though I'm sure that would have raised the price. The close-up setting is for really close close-ups (within about 1 inch). If you try to use it any other time the pictures will be blurry. Most of the time, you will use the camera on the landscape zoom setting (or \"infinity\" focus).\n",
      "\n",
      "Second, there is no DC power cord included with the camera. So, unless you spend more money to get one, you have to either buy a SmartMedia card reader or waste battery power to download pictures.\n",
      "\n",
      "Third, the software that comes with the camera is really quite awful. I recommend not installing it and buying your own image-manipulation software (such as Adobe Photoshop). I also recommend buying a SmartMedia card reader (as I mentioned above) as this will handle the transfer of files much better than the included software. You'll also be able to use the card reader with any other device that uses SmartMedia cards (such as MP3 players, for instance).\n",
      "\n",
      "Overall, this is a great low-end digital camera. It has its drawbacks, but it does the job, and it's easy to use.\n",
      "Ah, finally, A great little camera for the beginner at an easy to swallow price.\n",
      "\n",
      "This is one of many of my Digital Camera Series that I will be reviewing this April.\n",
      "I feel I am highly qualified to review digital cameras as I have worked with them for three years now and use them on a daily basis.\n",
      "\n",
      "If you need info on a specific camera feel free to email me, and Ill help you best I can.\n",
      "Okay, I've written three negative reviews in a row so it's about time that I write about something that I was happy with!\n",
      "\n",
      "My sister received a Fuji MX-1200 digital camera for Christmas '99, and while I was involved in the purchase, I was not familiar with Fuji cameras, or any digital cameras for that matter...so the attractive price was the main deciding factor.\n",
      "\n",
      "I remember reading about digital cameras draining batteries, as well as not being able to store too many pictures.  I witnessed a friend's Hewlett Packard doing just that on a hiking trip.  I decided then that I would wait to buy my own camera until the technology improved.\n",
      "\n",
      "Then I borrowed my sister's Fuji.  I was absolutely amazed!!  She had a 16 MB memory card in the camera, and I was able to take 163 pictures on NORMAL quality and even upload them all to my computer on one set of batteries!  She made the right choice in buying some Radio Shack rechargable Nickel-Metal Hydride batteries, which I simply recharged in about 4 hours and was able to go out and take 163 more shots.  If I remember correctly, the HP camera that my friend has only took about a quarter of the pictures that the Fuji did.\n",
      "\n",
      "I found the camera to be VERY easy to use (I did not receive the instruction book when I borrowed the camera, so I had to wing it) and the controls were self-explanatory.  The picture quality was excellent, and the flash was absloutely amazing!!!  \n",
      "\n",
      "There were several other features that impressed me.  On the back of the camera there is a small LCD screen which can be used either while taking pictures, reviewing what you took, or changing your setup options.  While taking or uploading pictures you always have the option to have the screen on or off, which is nice.  I prefer using it to take pictures, and can't imagine how I put up with conventional viewfinders for so many years.  The camera was also very comfortable to hold, weighs only 10.5 oz. and can easily be mounted on a tripod.\n",
      "\n",
      "The SETUP feature gives you quite a few options:\n",
      "\n",
      "1) QUALITY - Basic, Normal or Fine\n",
      "2) FILE SIZE - 640x480 or 1280x960\n",
      "3) SHARPNESS - Soft, Normal or Hard\n",
      "4) FRAME # - Cont. or Renew\n",
      "5) BEEP - High, Low or Off\n",
      "6) DATE/TIME - Set\n",
      "7) RESET\n",
      "\n",
      "It is very easy to change the settings when you need to, and I have had fun experimenting with the different picture quality combinations.  Plus I love the fact that you can even control the pitch of the beep, or turn it off altogether!\n",
      "\n",
      "You can turn the built in flash on or off manually, or choose the automatic setting.  There is also an adjustment on the left side of the camera (pretty easy to overlook, actually) where you can switch between close up and distant subjects.\n",
      "\n",
      "To see some examples of a few pictures that I recently took, please copy and paste the following URL into your browser:\n",
      "\n",
      "http://members.ediscoverer.com/jbrenner\n",
      "\n",
      "All of the pictures were taken with this particular camera.\n",
      "\n",
      "The one gripe that I have about the camera is the time that it takes to upload the picture files to the computer.  The transfer time is very slow, and (as far as I know) you have to transfer them one by one.  This can take quite some time.  There is an optional accessory available that allows you to transfer your files via your floppy drive, but I have read about some incombatability issues with certain computers.  It would certainly be worth looking into, because not only would it save batteries, it would also save you quite a bit of time.\n",
      " \n",
      "All in all, an excellent camera for the price!!!  I am definitely saving up to by one of my own, including the same batteries.  Without the high price of film and developing, I might become a photographer yet!\n",
      "\n",
      "\n",
      "\n",
      "\n",
      "This camera is a great deal.  Wal-Mart has them for 175$ right now, but they are going fast.  If you absolutely must have a digital camera buy this one.  Its very easy to use and has a sleek slim style that fits easily in the pocket. The interface is very simple and most people will not need to read the instructions for simple features.  But,...\n",
      "\n",
      "We were unable to decent looking photos out of it.  90 percent of the photos come out blurry or double exposed.  I tried bracing, but only if the subject and the photographer completely freeze do you get a somewhat clear picture.  I tries printing on a number of mediums including a Textronics wax transfer printer and could not get a single good looking picture out the first 75.\n",
      "\n",
      "It also eats batteries like a 25 dollar cellphone.  Luckily, it comes with rechargable batteries or that would cost a fortune.  \n",
      "\n",
      "Also, it comes with a serial cable which makes it extremely slow to transfer to your PC.  If you have I would recommend a usb card reader if you plan to do any uploading.\n",
      "\n",
      "All in all, if you absolutely must have a digital camera, buy this one because as I said it is very inexpensive.  If you can afford more, though, spend the extra money for a different model because you will do it sooner or later anyway.  I intend to research other Fuji cameras with a purchase in mind. I just would not recommend this model.  The lack of decent quality pictures is ultimately a show stopper.  I was forced to return it.\n",
      "\n",
      "\n",
      "\n",
      "\n"
     ]
    }
   ],
   "source": [
    "for idx, doc in enumerate(documents[:5]):\n",
    "#     print str(doc.docid.contents[0]).strip('\\n').strip(' ')\n",
    "#     print str(doc.product.contents[0]).strip('\\n').strip(' ')\n",
    "#     print  str(doc.label.contents[0]).strip('\\n').strip(' ')\n",
    "#     print  str(doc.rating.contents[0]).strip('\\n').strip(' ')\n",
    "#     print  str(doc.url.contents[0]).strip('\\n').strip(' ')\n",
    "#     print  str(doc.find('class').contents[0]).strip('\\n').strip(' ')\n",
    "    print  doc.find('text').contents[0].strip('\\n').strip(' ')"
   ]
  },
  {
   "cell_type": "code",
   "execution_count": null,
   "metadata": {
    "collapsed": true
   },
   "outputs": [],
   "source": []
  },
  {
   "cell_type": "code",
   "execution_count": null,
   "metadata": {
    "collapsed": true
   },
   "outputs": [],
   "source": []
  }
 ],
 "metadata": {
  "anaconda-cloud": {},
  "kernelspec": {
   "display_name": "Python [default]",
   "language": "python",
   "name": "python2"
  },
  "language_info": {
   "codemirror_mode": {
    "name": "ipython",
    "version": 2
   },
   "file_extension": ".py",
   "mimetype": "text/x-python",
   "name": "python",
   "nbconvert_exporter": "python",
   "pygments_lexer": "ipython2",
   "version": "2.7.12"
  }
 },
 "nbformat": 4,
 "nbformat_minor": 1
}
