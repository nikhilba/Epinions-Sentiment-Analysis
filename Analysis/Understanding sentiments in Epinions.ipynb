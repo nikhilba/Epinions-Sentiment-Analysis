{
 "cells": [
  {
   "cell_type": "markdown",
   "metadata": {},
   "source": [
    "# UNDERSTANDING SENTIMENTS IN EPINIONS"
   ]
  },
  {
   "cell_type": "markdown",
   "metadata": {},
   "source": [
    "In this project, we are analysing customer reviews for Fuji Digital Camera obtained from Epinions data.com. Given data consists 50% of the reviews about Digital Cameras and remining 50% is about Automobiles. We first identify the reviews for Fuji Digital Cameras and then select a classifier that helps us best perform sentiment analysis.\n",
    "\n",
    "For every record in given data, we are considering the review \"TEXT\" (contains review) and \"Label\" (“Yes” means that a consumer recommends that product and “No” denotes the opposite)."
   ]
  },
  {
   "cell_type": "markdown",
   "metadata": {},
   "source": [
    "## Index\n",
    "- [Libraries](#Libraries)\n",
    "- [Data Loading](#Data-Loading)\n",
    "    - [Identify Fuji Reviews](#Identify-Fuji-Reviews)\n",
    "    - [Data Exploration](#Data-Exploration)\n",
    "- [Data Cleaning](#Data-Cleaning)\n",
    "- [Feature Construction](#Feature-Construction)\n",
    "- [Feature Extraction/Selection](#Feature-Extraction/Selection)\n",
    "- [Data Processing](#Data-Processing)\n",
    "    - [Feature Analysis](#Feature-Analysis)\n",
    "- [Modelling](#Modelling)\n",
    "    - [Metric Calculation](#Metric-Calculation)\n",
    "    - [Model Training](#Model-Training)\n",
    "    - [Model Selection](#Model-Selection)\n",
    "- [Evaluating Model Performance](#Evaluating-Model-Performance)\n",
    "- [Result](#Result)"
   ]
  },
  {
   "cell_type": "markdown",
   "metadata": {},
   "source": [
    "## Libraries"
   ]
  },
  {
   "cell_type": "markdown",
   "metadata": {},
   "source": [
    "This project has been developed using Python 2.7. Following libraries are loaded for Data processing, Data visualization and Data Modelling."
   ]
  },
  {
   "cell_type": "code",
   "execution_count": 1,
   "metadata": {
    "collapsed": false
   },
   "outputs": [],
   "source": [
    "# Load required libraries \n",
    "import pandas as pd\n",
    "import numpy as np\n",
    "import os\n",
    "import nltk\n",
    "from nltk.corpus import stopwords\n",
    "import string\n",
    "from string import digits\n",
    "import re\n",
    "import sklearn\n",
    "from collections import Counter\n",
    "from bs4 import BeautifulSoup"
   ]
  },
  {
   "cell_type": "code",
   "execution_count": 2,
   "metadata": {
    "collapsed": false
   },
   "outputs": [],
   "source": [
    "# Libraries & parameters used for visualization\n",
    "%matplotlib inline\n",
    "import seaborn as sns\n",
    "sns.set(style=\"whitegrid\", color_codes=True)\n",
    "colors = ['cobalt', 'orangey yellow', 'steel grey', 'tomato', 'dark lilac', 'bluish green']\n",
    "cmap = sns.xkcd_palette(colors)\n",
    "import matplotlib.pyplot as plt"
   ]
  },
  {
   "cell_type": "markdown",
   "metadata": {},
   "source": [
    "## Data Loading"
   ]
  },
  {
   "cell_type": "markdown",
   "metadata": {},
   "source": [
    "In this secion, we will load the data downloaded from epinions.com. The data consists of more than 10,000 reviews about Camera/Automobiles. We will extract reviews related to Fuji Digital Cameras and explore data using visualization techniques."
   ]
  },
  {
   "cell_type": "code",
   "execution_count": 3,
   "metadata": {
    "collapsed": false
   },
   "outputs": [],
   "source": [
    "# Set path of the epinions file\n",
    "filepath = os.path.join('..\\Datasets\\D1.txt')"
   ]
  },
  {
   "cell_type": "code",
   "execution_count": 4,
   "metadata": {
    "collapsed": false
   },
   "outputs": [],
   "source": [
    "# Load data from file\n",
    "with open(filepath) as myfile:\n",
    "    data = myfile.read()"
   ]
  },
  {
   "cell_type": "code",
   "execution_count": 5,
   "metadata": {
    "collapsed": false
   },
   "outputs": [],
   "source": [
    "# Using BeautifulSoup to parse the data\n",
    "soup = BeautifulSoup(data, 'lxml')"
   ]
  },
  {
   "cell_type": "code",
   "execution_count": 6,
   "metadata": {
    "collapsed": false
   },
   "outputs": [
    {
     "name": "stdout",
     "output_type": "stream",
     "text": [
      "<html>\n",
      " <body>\n",
      "  <doc>\n",
      "   <docid>\n",
      "    36\n",
      "   </docid>\n",
      "   <product>\n",
      "    Digital_Cameras/Casio_QV_4000_4_0_Megapixel_Digital_Camera_EX_Plus_Outfit__Camera_QV4000EXK\n",
      "   </product>\n",
      "   <label>\n",
      "    Yes\n",
      "    \n"
     ]
    }
   ],
   "source": [
    "print soup.prettify()[:199]"
   ]
  },
  {
   "cell_type": "code",
   "execution_count": 7,
   "metadata": {
    "collapsed": false
   },
   "outputs": [],
   "source": [
    "# Split all the documents in the file\n",
    "documents = soup.find_all('doc')"
   ]
  },
  {
   "cell_type": "code",
   "execution_count": 8,
   "metadata": {
    "collapsed": false
   },
   "outputs": [
    {
     "data": {
      "text/plain": [
       "12000"
      ]
     },
     "execution_count": 8,
     "metadata": {},
     "output_type": "execute_result"
    }
   ],
   "source": [
    "# Total number of documents\n",
    "len(documents)"
   ]
  },
  {
   "cell_type": "code",
   "execution_count": 9,
   "metadata": {
    "collapsed": false,
    "scrolled": true
   },
   "outputs": [],
   "source": [
    "# Add the data to pandas dataframe\n",
    "tab = pd.DataFrame()\n",
    "\n",
    "for idx, doc in enumerate(documents):\n",
    "    tab.loc[idx,'DOCID'] = str(doc.docid.contents[0]).strip('\\n').strip(' ')\n",
    "    tab.loc[idx,'PRODUCT'] =  str(doc.product.contents[0]).strip('\\n').strip(' ')\n",
    "    tab.loc[idx,'LABEL'] =  str(doc.label.contents[0]).strip('\\n').strip(' ')\n",
    "    tab.loc[idx,'RATING'] =  str(doc.rating.contents[0]).strip('\\n').strip(' ')\n",
    "    tab.loc[idx,'URL'] =  str(doc.url.contents[0]).strip('\\n').strip(' ')\n",
    "    tab.loc[idx,'CLASS'] =  str(doc.find('class').contents[0]).strip('\\n').strip(' ')\n",
    "    tab.loc[idx,'TEXT'] =  doc.find('text').contents[0].strip('\\n').strip(' ')"
   ]
  },
  {
   "cell_type": "markdown",
   "metadata": {},
   "source": [
    "### Identify Fuji Reviews"
   ]
  },
  {
   "cell_type": "markdown",
   "metadata": {},
   "source": [
    "In this section, we extract reviews related to Fuji Digital Cameras."
   ]
  },
  {
   "cell_type": "code",
   "execution_count": 10,
   "metadata": {
    "collapsed": true
   },
   "outputs": [],
   "source": [
    "# Split the data into two dataframes by CLASS\n",
    "auto = (tab[tab.CLASS == 'Auto'])\n",
    "camera = (tab[tab.CLASS == 'Camera'])"
   ]
  },
  {
   "cell_type": "code",
   "execution_count": 11,
   "metadata": {
    "collapsed": false
   },
   "outputs": [],
   "source": [
    "# Filter reviews of Fuji Digital Cameras \n",
    "fuji_camera = camera[camera['PRODUCT'].str.contains(\"Fuji\")]\n",
    "fuji_camera.reset_index(inplace=True, drop=True)"
   ]
  },
  {
   "cell_type": "code",
   "execution_count": 12,
   "metadata": {
    "collapsed": false
   },
   "outputs": [
    {
     "data": {
      "text/plain": [
       "487"
      ]
     },
     "execution_count": 12,
     "metadata": {},
     "output_type": "execute_result"
    }
   ],
   "source": [
    "# Total number of Fuji reviews\n",
    "len(fuji_camera)"
   ]
  },
  {
   "cell_type": "code",
   "execution_count": 13,
   "metadata": {
    "collapsed": false
   },
   "outputs": [
    {
     "data": {
      "text/html": [
       "<div>\n",
       "<table border=\"1\" class=\"dataframe\">\n",
       "  <thead>\n",
       "    <tr style=\"text-align: right;\">\n",
       "      <th></th>\n",
       "      <th>DOCID</th>\n",
       "      <th>PRODUCT</th>\n",
       "      <th>LABEL</th>\n",
       "      <th>RATING</th>\n",
       "      <th>URL</th>\n",
       "      <th>CLASS</th>\n",
       "      <th>TEXT</th>\n",
       "    </tr>\n",
       "  </thead>\n",
       "  <tbody>\n",
       "    <tr>\n",
       "      <th>0</th>\n",
       "      <td>107</td>\n",
       "      <td>Digital_Cameras/pr-Fuji_Finepix_MX-1200_Digita...</td>\n",
       "      <td>Yes</td>\n",
       "      <td>4.0</td>\n",
       "      <td>http://www.epinions.com/elec-review-31F6-E9DA6...</td>\n",
       "      <td>Camera</td>\n",
       "      <td>[NOTE: I have the Japanese version of this cam...</td>\n",
       "    </tr>\n",
       "    <tr>\n",
       "      <th>1</th>\n",
       "      <td>108</td>\n",
       "      <td>Digital_Cameras/pr-Fuji_Finepix_MX-1200_Digita...</td>\n",
       "      <td>Yes</td>\n",
       "      <td>4.0</td>\n",
       "      <td>http://www.epinions.com/elec-review-B67-D4F9A3...</td>\n",
       "      <td>Camera</td>\n",
       "      <td>Ah, finally, A great little camera for the beg...</td>\n",
       "    </tr>\n",
       "    <tr>\n",
       "      <th>2</th>\n",
       "      <td>109</td>\n",
       "      <td>Digital_Cameras/pr-Fuji_Finepix_MX-1200_Digita...</td>\n",
       "      <td>Yes</td>\n",
       "      <td>5.0</td>\n",
       "      <td>http://www.epinions.com/elec-review-7463-6CD18...</td>\n",
       "      <td>Camera</td>\n",
       "      <td>Okay, I've written three negative reviews in a...</td>\n",
       "    </tr>\n",
       "    <tr>\n",
       "      <th>3</th>\n",
       "      <td>110</td>\n",
       "      <td>Digital_Cameras/pr-Fuji_Finepix_MX-1200_Digita...</td>\n",
       "      <td>No</td>\n",
       "      <td>2.0</td>\n",
       "      <td>http://www.epinions.com/elec-review-2E51-6E04C...</td>\n",
       "      <td>Camera</td>\n",
       "      <td>\\nThis camera is a great deal.  Wal-Mart has t...</td>\n",
       "    </tr>\n",
       "    <tr>\n",
       "      <th>4</th>\n",
       "      <td>111</td>\n",
       "      <td>Digital_Cameras/pr-Fuji_Finepix_MX-1200_Digita...</td>\n",
       "      <td>Yes</td>\n",
       "      <td>5.0</td>\n",
       "      <td>http://www.epinions.com/elec-review-4179-153E2...</td>\n",
       "      <td>Camera</td>\n",
       "      <td>This is a great camera. From it's picture qual...</td>\n",
       "    </tr>\n",
       "  </tbody>\n",
       "</table>\n",
       "</div>"
      ],
      "text/plain": [
       "  DOCID                                            PRODUCT LABEL RATING  \\\n",
       "0   107  Digital_Cameras/pr-Fuji_Finepix_MX-1200_Digita...   Yes    4.0   \n",
       "1   108  Digital_Cameras/pr-Fuji_Finepix_MX-1200_Digita...   Yes    4.0   \n",
       "2   109  Digital_Cameras/pr-Fuji_Finepix_MX-1200_Digita...   Yes    5.0   \n",
       "3   110  Digital_Cameras/pr-Fuji_Finepix_MX-1200_Digita...    No    2.0   \n",
       "4   111  Digital_Cameras/pr-Fuji_Finepix_MX-1200_Digita...   Yes    5.0   \n",
       "\n",
       "                                                 URL   CLASS  \\\n",
       "0  http://www.epinions.com/elec-review-31F6-E9DA6...  Camera   \n",
       "1  http://www.epinions.com/elec-review-B67-D4F9A3...  Camera   \n",
       "2  http://www.epinions.com/elec-review-7463-6CD18...  Camera   \n",
       "3  http://www.epinions.com/elec-review-2E51-6E04C...  Camera   \n",
       "4  http://www.epinions.com/elec-review-4179-153E2...  Camera   \n",
       "\n",
       "                                                TEXT  \n",
       "0  [NOTE: I have the Japanese version of this cam...  \n",
       "1  Ah, finally, A great little camera for the beg...  \n",
       "2  Okay, I've written three negative reviews in a...  \n",
       "3  \\nThis camera is a great deal.  Wal-Mart has t...  \n",
       "4  This is a great camera. From it's picture qual...  "
      ]
     },
     "execution_count": 13,
     "metadata": {},
     "output_type": "execute_result"
    }
   ],
   "source": [
    "fuji_camera.head()"
   ]
  },
  {
   "cell_type": "markdown",
   "metadata": {},
   "source": [
    "### Data Exploration\n",
    "In this section, we perform visual analysis of given data to explore the distribution of positive and negative reviews."
   ]
  },
  {
   "cell_type": "markdown",
   "metadata": {},
   "source": [
    "#### 1. Distribution of data for consumer recommending a product from Class = [Auto, Camera]"
   ]
  },
  {
   "cell_type": "code",
   "execution_count": 14,
   "metadata": {
    "collapsed": false
   },
   "outputs": [
    {
     "data": {
      "image/png": "[encoded data removed]",
      "text/plain": [
       "<matplotlib.figure.Figure at 0x3f1bdd8>"
      ]
     },
     "metadata": {},
     "output_type": "display_data"
    }
   ],
   "source": [
    "sns.countplot(x=\"CLASS\", hue = \"LABEL\", data=tab, palette=cmap)\n",
    "plt.ylabel('Count of Label', fontsize=14)\n",
    "plt.xlabel('Class of Product', fontsize=14)\n",
    "plt.tight_layout()"
   ]
  },
  {
   "cell_type": "markdown",
   "metadata": {},
   "source": [
    "#### 2. Distribution of data for consumer ratings of products from Class = [Auto, Camera]"
   ]
  },
  {
   "cell_type": "code",
   "execution_count": 15,
   "metadata": {
    "collapsed": false,
    "scrolled": false
   },
   "outputs": [
    {
     "data": {
      "image/png": "[encoded data removed]",
      "text/plain": [
       "<matplotlib.figure.Figure at 0x2f266a20>"
      ]
     },
     "metadata": {},
     "output_type": "display_data"
    }
   ],
   "source": [
    "sns.countplot(x=\"CLASS\", hue = \"RATING\", data=tab, palette = cmap)\n",
    "plt.ylabel('Count of Rating', fontsize=14)\n",
    "plt.xlabel('Class of Product', fontsize=14)\n",
    "plt.tight_layout()"
   ]
  },
  {
   "cell_type": "markdown",
   "metadata": {},
   "source": [
    "#### 3. Distribution of data for consumer ratings for Camera vs if the recommend the product or not."
   ]
  },
  {
   "cell_type": "code",
   "execution_count": 16,
   "metadata": {
    "collapsed": false,
    "scrolled": true
   },
   "outputs": [
    {
     "data": {
      "image/png": "[encoded data removed]",
      "text/plain": [
       "<matplotlib.figure.Figure at 0x1652d400>"
      ]
     },
     "metadata": {},
     "output_type": "display_data"
    }
   ],
   "source": [
    "sns.countplot(x=\"LABEL\", hue = \"RATING\", data=camera, palette = cmap)\n",
    "plt.ylabel('Count of Rating', fontsize=14)\n",
    "plt.xlabel('Label of Product (Camera)', fontsize=14)\n",
    "plt.tight_layout()"
   ]
  },
  {
   "cell_type": "markdown",
   "metadata": {},
   "source": [
    "#### 4. Distribution of data for consumer ratings for Fuji Camera vs if the recommend the product or not."
   ]
  },
  {
   "cell_type": "code",
   "execution_count": 17,
   "metadata": {
    "collapsed": false
   },
   "outputs": [
    {
     "data": {
      "image/png": "[encoded data removed]",
      "text/plain": [
       "<matplotlib.figure.Figure at 0x128397f0>"
      ]
     },
     "metadata": {},
     "output_type": "display_data"
    }
   ],
   "source": [
    "sns.countplot(x=\"LABEL\", hue = \"RATING\", data=fuji_camera, palette = cmap)\n",
    "plt.ylabel('Count of Rating', fontsize=14)\n",
    "plt.xlabel('Label of Product (Fuji Camera)', fontsize=14)\n",
    "plt.legend(loc='upper right')\n",
    "plt.tight_layout()"
   ]
  },
  {
   "cell_type": "markdown",
   "metadata": {},
   "source": [
    "From the above visualizations, we can infer that the data is highly biased with about 10% data with Label \"No\" and the rest with Label \"Yes\"."
   ]
  },
  {
   "cell_type": "markdown",
   "metadata": {},
   "source": [
    "## Data Cleaning\n",
    "\n",
    "In this section, we will create functions that clean the text of every review using regular expressions and various functions offered by nltk package."
   ]
  },
  {
   "cell_type": "markdown",
   "metadata": {},
   "source": [
    "The following function processes and tokenizes raw text. We use nltk package to tokenize and clean the text. This includes removing numbers, stopwords, punctuations, converting the text to lower case and lemmatizing."
   ]
  },
  {
   "cell_type": "code",
   "execution_count": 18,
   "metadata": {
    "collapsed": false
   },
   "outputs": [],
   "source": [
    "def process(text, lemmatizer=nltk.stem.wordnet.WordNetLemmatizer()):\n",
    "    \"\"\"\n",
    "    input:\n",
    "        text: string of one review\n",
    "        lemmatizer: default is nltk.stem.wordnet.WordNetLemmatizer()\n",
    "    output:\n",
    "        result: list of tokenized words\n",
    "    \"\"\"\n",
    "    \n",
    "    tokenized = []\n",
    "    lemmatized = []\n",
    "    \n",
    "    # Remove numbers\n",
    "    text = re.sub('\\d', ' ', text)\n",
    "    \n",
    "    # Normalizes case\n",
    "    text = text.lower()\n",
    "    \n",
    "    # remove apostrophes, delete 's\n",
    "    text = text.replace('\\'s', '')\n",
    "    text = text.replace('\\'', ' ')\n",
    "    \n",
    "    # Remove punctuations  \n",
    "    for char in string.punctuation:\n",
    "        text = text.replace(char, ' ')\n",
    "        \n",
    "    # Tokenize text\n",
    "    tokenized = nltk.word_tokenize(text)\n",
    "    \n",
    "    for word in tokenized:\n",
    "        # Remove stopwords\n",
    "        if word not in stopwords.words('english'):\n",
    "            try:\n",
    "                # lemmatize word\n",
    "                lemmatized.append(lemmatizer.lemmatize(word))\n",
    "            except Exception:\n",
    "                pass\n",
    "    return ' '.join(word for word in lemmatized)"
   ]
  },
  {
   "cell_type": "code",
   "execution_count": 19,
   "metadata": {
    "collapsed": false
   },
   "outputs": [
    {
     "name": "stdout",
     "output_type": "stream",
     "text": [
      "sample test input processing love\n"
     ]
    }
   ],
   "source": [
    "# Example\n",
    "\n",
    "text = \"This is a sample test input for 's processing loves.\"\n",
    "print process(text)"
   ]
  },
  {
   "cell_type": "markdown",
   "metadata": {},
   "source": [
    "The following function makes use of the process() function that we defined earlier to clean all the text in the last column of pandas dataframe. Here, we assume the last column has all the text reviews."
   ]
  },
  {
   "cell_type": "code",
   "execution_count": 20,
   "metadata": {
    "collapsed": true
   },
   "outputs": [],
   "source": [
    "def process_all(df, lemmatizer=nltk.stem.wordnet.WordNetLemmatizer()):\n",
    "    \"\"\"\n",
    "    Inputs\n",
    "        df: pd.DataFrame: dataframe containing a column 'text' in last column\n",
    "        lemmatizer: the default argument is of type nltk.stem.wordnet.WordNetLemmatizer\n",
    "    Outputs\n",
    "        pd.DataFrame: dataframe in which the values of text column have been changed from str to list(str),\n",
    "                        the output from process_text() function. Other columns are unaffected.\n",
    "    \"\"\"\n",
    "    df_copy = df.copy()\n",
    "    df_length = len(df_copy.iloc[:,-1])\n",
    "        \n",
    "    temp = [process(df_copy.iloc[i,-1]) for i in range(df_length)]  \n",
    "    df_copy.loc[:,'TEXT'] = temp\n",
    "    \n",
    "    return df_copy"
   ]
  },
  {
   "cell_type": "markdown",
   "metadata": {},
   "source": [
    "## Feature Construction"
   ]
  },
  {
   "cell_type": "markdown",
   "metadata": {},
   "source": [
    "In this section, we will create functions to create Bag-Of-Words feature vectors from the processed reviews. "
   ]
  },
  {
   "cell_type": "markdown",
   "metadata": {},
   "source": [
    "Since the number of possible words is large and not all of them may be useful for our classification task. We first determine which words to retain, and which to omit. Since we have already pruned the stopwords, we will now prune words that are used rarely and usually tend to be typos. We consider a word rare if it occurs not more than once."
   ]
  },
  {
   "cell_type": "markdown",
   "metadata": {},
   "source": [
    "Different approaches for parameterization of text:\n",
    "- Binary: tells whether a term t is present in a document or not\n",
    "- Counts: frequency of occurrences of term t in a document\n",
    "- Weighted frequencies: TF-IDF (Term Frequency - Inverse Document Frequency)\n",
    "\n",
    "Where each row in matrix corresponds to the document and each column corresponds to a different term. For simplicity, we only consider TF-IDF with unigrams(single words). For advanced analysis, combination of other parameterization methods with Bi-grams/N-grams will yeild interesting results for comparison."
   ]
  },
  {
   "cell_type": "markdown",
   "metadata": {},
   "source": [
    "### 1. Get Rare Words"
   ]
  },
  {
   "cell_type": "markdown",
   "metadata": {},
   "source": [
    "The below function use the word count information across all reviews in data to come up with a feature list of rare words."
   ]
  },
  {
   "cell_type": "code",
   "execution_count": 21,
   "metadata": {
    "collapsed": false
   },
   "outputs": [],
   "source": [
    "def get_rare_words(processed_data):\n",
    "    \"\"\" \n",
    "    Inputs:\n",
    "        processed_data: pd.DataFrame: the output of process_all() function\n",
    "    Outputs:\n",
    "        list(str): list of rare words, sorted alphabetically.\n",
    "    \"\"\"\n",
    "    c = []\n",
    "    [c.extend(nltk.word_tokenize(sentence)) for sentence in processed_data.TEXT]\n",
    "    k = Counter(c)\n",
    "    words = (Counter(el for el in k.elements() if k[el] < 2))\n",
    "    wordlist = list(words.elements())\n",
    "    return sorted(wordlist)"
   ]
  },
  {
   "cell_type": "markdown",
   "metadata": {},
   "source": [
    "### 2. TF-IDF"
   ]
  },
  {
   "cell_type": "markdown",
   "metadata": {},
   "source": [
    "Below function helps construct a sparse matrix of features for each text review with the help of sklearn.feature_extraction.text.TfidfVectorizer"
   ]
  },
  {
   "cell_type": "code",
   "execution_count": 22,
   "metadata": {
    "collapsed": false
   },
   "outputs": [],
   "source": [
    "def create_tfidf_features(processed_data):\n",
    "    \"\"\" creates the feature matrix using the processed reviews\n",
    "    Inputs:\n",
    "        processed_data: pd.DataFrame: processed reviews containing the column 'TEXT'\n",
    "\n",
    "    Outputs:\n",
    "        sklearn.feature_extraction.text.TfidfVectorizer: the TfidfVectorizer object used\n",
    "                                                we need this to tranform the test records in the same way as train records\n",
    "        scipy.sparse.csr.csr_matrix: sparse bag-of-words TF-IDF feature matrix\n",
    "    \"\"\"\n",
    "    \n",
    "#     processed_data.reset_index(inplace=True, drop=True)\n",
    "    \n",
    "    # Call the get_rare_words function to filter rare words from the text\n",
    "    rare_words = get_rare_words(processed_data)\n",
    "    \n",
    "    # List of stopwords\n",
    "    stp_wrds = [str(words) for words in nltk.corpus.stopwords.words('english')]\n",
    "    stp_wrds.extend(rare_words)\n",
    "    \n",
    "    # Tfidf Vectorizer object\n",
    "    vectorizer = sklearn.feature_extraction.text.TfidfVectorizer(stop_words = stp_wrds)\n",
    "    \n",
    "    # Sparse bag-of-words TF-IDF feature matrix\n",
    "    data = processed_data['TEXT']\n",
    "    tfidf_matrix = vectorizer.fit_transform(data)\n",
    "    \n",
    "    return (vectorizer, tfidf_matrix)"
   ]
  },
  {
   "cell_type": "markdown",
   "metadata": {},
   "source": [
    "## Feature Extraction/Selection"
   ]
  },
  {
   "cell_type": "markdown",
   "metadata": {},
   "source": [
    "In this section, we reduce the dimension of features which transform the data representation into a shorter, more compact, and more predictive one. \n",
    "\n",
    "Dimensionality Reduction Techniques are broadly classified into two types:\n",
    "- Feature Extraction: All the original features are transformed into the new reduced space without deleting them but replacing the original features by a smaller representative set\n",
    "    - Eg: Principal Components Analysis (PCA) and Latent semantic Analysis (LSA)\n",
    "\n",
    "- Feature Selection: A subset of original features is selected, and only the selected features are used for training and testing the classifiers.\n",
    "    - Eg. Chi-Square and Information Gain\n",
    "    \n",
    "Here, we are using scikit-learn to select top features using a chi-squared test. This method calculates the chi-squared score, and analyzes the dependency between the term and the class. If the term is independent from the class, then its score is equal to 0, other wise 1. A term with a higher chi-squared score is more informative."
   ]
  },
  {
   "cell_type": "code",
   "execution_count": 23,
   "metadata": {
    "collapsed": false
   },
   "outputs": [],
   "source": [
    "from sklearn.feature_selection import SelectKBest, chi2\n",
    "\n",
    "def select_top_features(vectorizer, k, X, y_train, y):\n",
    "    \"\"\" reduces the dimension of the feature matrix\n",
    "    Inputs:\n",
    "        vectorizer: the TfidfVectorizer object\n",
    "        k: total number of features\n",
    "        X: sparse bag-of-words TF-IDF feature matrix of training data\n",
    "        y_train: training labels\n",
    "        y: parameterized test data\n",
    "        \n",
    "    Outputs:\n",
    "        sklearn.feature_extraction.text.TfidfVectorizer: the TfidfVectorizer object used\n",
    "                                                we need this to tranform the test records in the same way as train records\n",
    "        scipy.sparse.csr.csr_matrix: sparse bag-of-words TF-IDF feature matrix\n",
    "    \"\"\"\n",
    "    # Extracting 100 best features by a chi-squared test\n",
    "    feature_names = vectorizer.get_feature_names()\n",
    "    ch2 = SelectKBest(chi2, k)\n",
    "    \n",
    "    # Tranform the train and test data\n",
    "    X = ch2.fit_transform(X, y_train)\n",
    "    y = ch2.transform(y)\n",
    "\n",
    "    # Keep selected feature names\n",
    "    feature_names = [feature_names[i] for i in ch2.get_support(indices=True)]\n",
    "\n",
    "    return(X,y,feature_names)"
   ]
  },
  {
   "cell_type": "markdown",
   "metadata": {},
   "source": [
    "## Data Processing"
   ]
  },
  {
   "cell_type": "code",
   "execution_count": 24,
   "metadata": {
    "collapsed": false
   },
   "outputs": [
    {
     "data": {
      "text/plain": [
       "u\"Okay, I've written three negative reviews in a row so it's about time that I write about something tha\""
      ]
     },
     "execution_count": 24,
     "metadata": {},
     "output_type": "execute_result"
    }
   ],
   "source": [
    "# BEFORE \n",
    "fuji_camera.TEXT[2][:102]"
   ]
  },
  {
   "cell_type": "code",
   "execution_count": 25,
   "metadata": {
    "collapsed": false
   },
   "outputs": [],
   "source": [
    "# call process_all() function to clean the data\n",
    "processed_fuji_data = process_all(fuji_camera)"
   ]
  },
  {
   "cell_type": "code",
   "execution_count": 26,
   "metadata": {
    "collapsed": false
   },
   "outputs": [
    {
     "data": {
      "text/plain": [
       "u'okay written three negative review row time write something happy sister received fuji mx digital ca'"
      ]
     },
     "execution_count": 26,
     "metadata": {},
     "output_type": "execute_result"
    }
   ],
   "source": [
    "# AFTER\n",
    "processed_fuji_data.TEXT[2][:100]"
   ]
  },
  {
   "cell_type": "code",
   "execution_count": 27,
   "metadata": {
    "collapsed": false
   },
   "outputs": [
    {
     "data": {
      "text/html": [
       "<div>\n",
       "<table border=\"1\" class=\"dataframe\">\n",
       "  <thead>\n",
       "    <tr style=\"text-align: right;\">\n",
       "      <th></th>\n",
       "      <th>DOCID</th>\n",
       "      <th>PRODUCT</th>\n",
       "      <th>LABEL</th>\n",
       "      <th>RATING</th>\n",
       "      <th>URL</th>\n",
       "      <th>CLASS</th>\n",
       "      <th>TEXT</th>\n",
       "    </tr>\n",
       "  </thead>\n",
       "  <tbody>\n",
       "    <tr>\n",
       "      <th>482</th>\n",
       "      <td>35539</td>\n",
       "      <td>Digital_Cameras/510651_Fuji_Film_FinePix_6800_...</td>\n",
       "      <td>No</td>\n",
       "      <td>3.0</td>\n",
       "      <td>http://www.epinions.com/content_69759045252</td>\n",
       "      <td>Camera</td>\n",
       "      <td>unwrapped fuji digital thought would amazing c...</td>\n",
       "    </tr>\n",
       "    <tr>\n",
       "      <th>483</th>\n",
       "      <td>35540</td>\n",
       "      <td>Digital_Cameras/510651_Fuji_Film_FinePix_6800_...</td>\n",
       "      <td>Yes</td>\n",
       "      <td>5.0</td>\n",
       "      <td>http://www.epinions.com/content_25677565572</td>\n",
       "      <td>Camera</td>\n",
       "      <td>using week taking full advantage feature test ...</td>\n",
       "    </tr>\n",
       "    <tr>\n",
       "      <th>484</th>\n",
       "      <td>35541</td>\n",
       "      <td>Digital_Cameras/510651_Fuji_Film_FinePix_6800_...</td>\n",
       "      <td>No</td>\n",
       "      <td>1.0</td>\n",
       "      <td>http://www.epinions.com/content_28446133892</td>\n",
       "      <td>Camera</td>\n",
       "      <td>used fuji almost year loved great shot right b...</td>\n",
       "    </tr>\n",
       "    <tr>\n",
       "      <th>485</th>\n",
       "      <td>35542</td>\n",
       "      <td>Digital_Cameras/510651_Fuji_Film_FinePix_6800_...</td>\n",
       "      <td>Yes</td>\n",
       "      <td>4.0</td>\n",
       "      <td>http://www.epinions.com/content_72577355396</td>\n",
       "      <td>Camera</td>\n",
       "      <td>past one year bought different digital camera ...</td>\n",
       "    </tr>\n",
       "    <tr>\n",
       "      <th>486</th>\n",
       "      <td>35543</td>\n",
       "      <td>Digital_Cameras/510651_Fuji_Film_FinePix_6800_...</td>\n",
       "      <td>Yes</td>\n",
       "      <td>5.0</td>\n",
       "      <td>http://www.epinions.com/content_19942706820</td>\n",
       "      <td>Camera</td>\n",
       "      <td>second digital camera first kodak dc kodak tak...</td>\n",
       "    </tr>\n",
       "  </tbody>\n",
       "</table>\n",
       "</div>"
      ],
      "text/plain": [
       "     DOCID                                            PRODUCT LABEL RATING  \\\n",
       "482  35539  Digital_Cameras/510651_Fuji_Film_FinePix_6800_...    No    3.0   \n",
       "483  35540  Digital_Cameras/510651_Fuji_Film_FinePix_6800_...   Yes    5.0   \n",
       "484  35541  Digital_Cameras/510651_Fuji_Film_FinePix_6800_...    No    1.0   \n",
       "485  35542  Digital_Cameras/510651_Fuji_Film_FinePix_6800_...   Yes    4.0   \n",
       "486  35543  Digital_Cameras/510651_Fuji_Film_FinePix_6800_...   Yes    5.0   \n",
       "\n",
       "                                             URL   CLASS  \\\n",
       "482  http://www.epinions.com/content_69759045252  Camera   \n",
       "483  http://www.epinions.com/content_25677565572  Camera   \n",
       "484  http://www.epinions.com/content_28446133892  Camera   \n",
       "485  http://www.epinions.com/content_72577355396  Camera   \n",
       "486  http://www.epinions.com/content_19942706820  Camera   \n",
       "\n",
       "                                                  TEXT  \n",
       "482  unwrapped fuji digital thought would amazing c...  \n",
       "483  using week taking full advantage feature test ...  \n",
       "484  used fuji almost year loved great shot right b...  \n",
       "485  past one year bought different digital camera ...  \n",
       "486  second digital camera first kodak dc kodak tak...  "
      ]
     },
     "execution_count": 27,
     "metadata": {},
     "output_type": "execute_result"
    }
   ],
   "source": [
    "processed_fuji_data.tail()"
   ]
  },
  {
   "cell_type": "markdown",
   "metadata": {},
   "source": [
    "### Feature Analysis"
   ]
  },
  {
   "cell_type": "code",
   "execution_count": 28,
   "metadata": {
    "collapsed": false
   },
   "outputs": [
    {
     "data": {
      "text/plain": [
       "94375"
      ]
     },
     "execution_count": 28,
     "metadata": {},
     "output_type": "execute_result"
    }
   ],
   "source": [
    "# Calculate the total number of words in Fuji reviews\n",
    "words = []\n",
    "[words.extend(nltk.word_tokenize(processed_fuji_data.loc[i,'TEXT'])) for i in range(len(processed_fuji_data.loc[:,'TEXT']))]\n",
    "len(words)"
   ]
  },
  {
   "cell_type": "code",
   "execution_count": 29,
   "metadata": {
    "collapsed": false
   },
   "outputs": [
    {
     "data": {
      "text/plain": [
       "6839"
      ]
     },
     "execution_count": 29,
     "metadata": {},
     "output_type": "execute_result"
    }
   ],
   "source": [
    "# Unique words in Fuji reviews\n",
    "len(set(words))"
   ]
  },
  {
   "cell_type": "code",
   "execution_count": 30,
   "metadata": {
    "collapsed": false
   },
   "outputs": [
    {
     "data": {
      "text/plain": [
       "2988"
      ]
     },
     "execution_count": 30,
     "metadata": {},
     "output_type": "execute_result"
    }
   ],
   "source": [
    "# Call the get_rare_words function to find rare words in Fuji reviews\n",
    "rare_words = get_rare_words(processed_fuji_data)\n",
    "len(rare_words)"
   ]
  },
  {
   "cell_type": "code",
   "execution_count": 31,
   "metadata": {
    "collapsed": false
   },
   "outputs": [
    {
     "name": "stdout",
     "output_type": "stream",
     "text": [
      "[u'aaaaaaahhhh', u'aax', u'aa\\x92s', u'aa\\u2019s', u'aback', u'abaco', u'abberations', u'abbreviation', u'aberratons', u'abides', u'ably', u'abnormal', u'abound', u'absloutely', u'abstract', u'abstracted', u'abstraction', u'abundance', u'abut', u'academy']\n"
     ]
    }
   ],
   "source": [
    "print rare_words[:20]"
   ]
  },
  {
   "cell_type": "markdown",
   "metadata": {},
   "source": [
    "## Modelling"
   ]
  },
  {
   "cell_type": "markdown",
   "metadata": {},
   "source": [
    "In this section, we put try to learn a model to classify the opinions. We will be using two classifiers: Support Vector Machines and Naive Bayes Classifier. We will then score the clssifier based on how well it performs against test data and use it for predicting sentiments from opinions."
   ]
  },
  {
   "cell_type": "markdown",
   "metadata": {},
   "source": [
    "Although there are several metrics available (e.g., accuracy, precision, recall, etc), we will go with accuracy and determine how accurately our model is able to classify opinions."
   ]
  },
  {
   "cell_type": "markdown",
   "metadata": {},
   "source": [
    "### Metric Calculation"
   ]
  },
  {
   "cell_type": "markdown",
   "metadata": {},
   "source": [
    "For this project, we calculate the Fbeta metric to evaluate the performance of different models. The F-beta score is the weighted harmonic mean of precision and recall. \n",
    "\n",
    "The beta parameter determines the weight of precision in the combined score (beta < 1 lends more weight to precision, while beta > 1 favors recall). We choose beta = \"0.5\"."
   ]
  },
  {
   "cell_type": "code",
   "execution_count": 32,
   "metadata": {
    "collapsed": true
   },
   "outputs": [],
   "source": [
    "from sklearn import metrics\n",
    "\n",
    "def get_metrics(y, pred):\n",
    "    \"\"\" \n",
    "    Inputs:\n",
    "        y: Actual output\n",
    "        pred: Predicted output\n",
    "    Outputs:\n",
    "        score: fbeta score\n",
    "    \"\"\"\n",
    "    score = metrics.fbeta_score(y, pred, pos_label='Yes',  beta=0.5)\n",
    "    return(score)"
   ]
  },
  {
   "cell_type": "code",
   "execution_count": 33,
   "metadata": {
    "collapsed": true
   },
   "outputs": [],
   "source": [
    "# from sklearn.ensemble import RandomForestClassifier\n",
    "# from sklearn import svm\n",
    "\n",
    "# def get_classifier(model, X_train, X_test, y_train, y_test, num_forest):\n",
    "#     \"\"\" \n",
    "#     Inputs:\n",
    "#         model: name of classifier\n",
    "#     Outputs:\n",
    "#         score: fbeta score of the classifier\n",
    "#     \"\"\"\n",
    "    \n",
    "#     # initialize the result variable\n",
    "#     score = []\n",
    "    \n",
    "#     if(model == 'default'):\n",
    "#         pass\n",
    "    \n",
    "#     elif(model == 'SVM'):\n",
    "#         clf_svm = svm.SVC(kernel='rbf', C=1e4)\n",
    "#         clf_svm.fit(X_train, y_train.LABEL)\n",
    "#         pred = clf_svm.predict(X_test)\n",
    "\n",
    "#         score.append(get_metrics(y_test.LABEL, pred))\n",
    "                    \n",
    "#     elif(model == 'Random Forest'):\n",
    "#         # n_estimators: The number of trees in the forest'\n",
    "#         clf_rf = RandomForestClassifier(n_estimators=num_forest, max_features=None)\n",
    "#         clf_rf.fit(X_train, y_train.LABEL)\n",
    "#         pred = clf_rf.predict(X_test)\n",
    "            \n",
    "#         score.append(get_metrics(y_test.LABEL, pred))\n",
    "\n",
    "#     return(score)"
   ]
  },
  {
   "cell_type": "markdown",
   "metadata": {},
   "source": [
    "### Model Training"
   ]
  },
  {
   "cell_type": "markdown",
   "metadata": {},
   "source": [
    "In this section, we use cross-validation to split the data into k-folds for training and testing the model. Following steps are performed in chronological order within cross-validation:\n",
    "- Randomize input data to break any pattern\n",
    "- Split data into k-folds for cross-validation\n",
    "- Split data into training and test datasets\n",
    "- Remove bias: Since the 'No' labels form 9% and 'Yes' labels form 91% of total data, we replicate the 'No' labels 10 times to give equal weight to both Train and Test labels; Test data set is not modified\n",
    "- Extract features from the training data using a sparse TF-IDF vectorizer\n",
    "- Transform the test data using the same vectorizer\n",
    "- Get top features using select_top_features() function\n",
    "- Get model performance: calculate fbeta score for each iteration in k-fold\n",
    "\n",
    "The function returns mean of calculated fbeta score."
   ]
  },
  {
   "cell_type": "code",
   "execution_count": 41,
   "metadata": {
    "collapsed": false
   },
   "outputs": [],
   "source": [
    "import random\n",
    "from sklearn.model_selection import KFold\n",
    "from sklearn.ensemble import RandomForestClassifier\n",
    "from sklearn import svm\n",
    "\n",
    "def cross_validation(df, k, model, num_features, num_forest = 100):\n",
    "    \"\"\" Function implementing k-fold cross-validation for linear regression, connect-the-dots, and default predictor\n",
    "    Inputs:\n",
    "        df: pd.DataFrame: processed reviews containing the column 'TEXT'\n",
    "        k: value of k in k-fold cross validation\n",
    "        model: function name of the model to implement\n",
    "        num_features: number of top features to select\n",
    "        num_forest:  number of trees in the forest\n",
    "    Outputs:\n",
    "        score: fbeta score of the input model\n",
    "    \"\"\"  \n",
    "    \n",
    "    # Initialize the result variable\n",
    "    score = []\n",
    "    \n",
    "    # Randomize input data\n",
    "    random.seed(10)\n",
    "    df = df.sample(len(df))\n",
    "    \n",
    "    # Split data into input data and target column\n",
    "    df_data = df.ix[:, df.columns != 'LABEL']\n",
    "    df_target = df.ix[:, df.columns == 'LABEL']\n",
    "    \n",
    "    # Get train/test indices to split data in train/test sets\n",
    "    k_fold = KFold(n_splits=k, shuffle=False, random_state=0)\n",
    "    \n",
    "    # Split data into k-folds\n",
    "    for train_index, test_index in k_fold.split(df_data):\n",
    "        X_train, X_test = df_data.ix[train_index,],  df_data.ix[test_index,]\n",
    "        y_train, y_test = df_target.ix[train_index,], df_target.ix[test_index,]\n",
    "\n",
    "        # Remove bias: increase weight of 'No' labeled rows\n",
    "        idx = y_train[y_train.LABEL=='No'].index\n",
    "        X_train = X_train.append([X_train.ix[idx.values,]]*10,ignore_index=True)\n",
    "        y_train = y_train.append([y_train.ix[idx.values,]]*10,ignore_index=True)\n",
    "\n",
    "        # Extracting features from the training data using a sparse vectorizer\n",
    "        (vectorizer, X_train) = create_tfidf_features(X_train)\n",
    "        \n",
    "        # Transform the test data using the same vectorizer\n",
    "        X_test = vectorizer.transform(X_test.TEXT)\n",
    "        \n",
    "        # Select top features\n",
    "        if num_features > 0:\n",
    "            (X_train, X_test, feature_names) = select_top_features(vectorizer, num_features, X_train, y_train, X_test)\n",
    "            \n",
    "        # Get model performance: fbeta score\n",
    "        if(model == 'default'):\n",
    "            \n",
    "            pass\n",
    "        \n",
    "        if(model == 'SVM'):\n",
    "            clf_svm = svm.SVC(kernel='rbf', C=1e4)\n",
    "            clf_svm.fit(X_train, y_train.LABEL)\n",
    "            pred = clf_svm.predict(X_test)\n",
    "            score.append(get_metrics(y_test.LABEL, pred))\n",
    "            \n",
    "        elif(model == 'Random Forest'):\n",
    "            # n_estimators: The number of trees in the forest\n",
    "            clf_rf = RandomForestClassifier(n_estimators=num_forest, max_features=None)\n",
    "            clf_rf.fit(X_train, y_train.LABEL)\n",
    "            pred = clf_rf.predict(X_test)\n",
    "            score.append(get_metrics(y_test.LABEL, pred))\n",
    "        \n",
    "        elif(model == 'Logistic Regression'):\n",
    "            pass\n",
    "        \n",
    "    return np.mean(score)\n",
    "\n",
    "\n",
    "\n",
    "\n",
    "#             print(\"fbeta_score:   %0.3f\" % score)\n",
    "#             pca = TruncatedSVD(n_components=300)\n",
    "#             X_reduced_train = pca.fit_transform(X_train)\n",
    "            "
   ]
  },
  {
   "cell_type": "markdown",
   "metadata": {},
   "source": [
    "### Model Selection"
   ]
  },
  {
   "cell_type": "code",
   "execution_count": 42,
   "metadata": {
    "collapsed": false
   },
   "outputs": [
    {
     "name": "stdout",
     "output_type": "stream",
     "text": [
      "Num Features: 100 | Fbeta Score: 0.919125707794\n",
      "Num Features: 300 | Fbeta Score: 0.924417500622\n",
      "Num Features: 500 | Fbeta Score: 0.924442696966\n",
      "Num Features: 700 | Fbeta Score: 0.925068345503\n",
      "Num Features: 900 | Fbeta Score: 0.925653311033\n",
      "Num Features: 1100 | Fbeta Score: 0.925653311033\n",
      "Num Features: 1300 | Fbeta Score: 0.925653311033\n",
      "Num Features: 1500 | Fbeta Score: 0.925653311033\n",
      "Num Features: 1700 | Fbeta Score: 0.925653311033\n",
      "Num Features: 1900 | Fbeta Score: 0.925653311033\n"
     ]
    }
   ],
   "source": [
    "# without feature reduction\n",
    "for num_features in range(100, 2000, 200):\n",
    "    score = cross_validation(processed_fuji_data, 8, 'SVM', num_features)\n",
    "    print 'Num Features:', num_features, '| Fbeta Score:', np.mean(score)"
   ]
  },
  {
   "cell_type": "code",
   "execution_count": 43,
   "metadata": {
    "collapsed": false
   },
   "outputs": [
    {
     "name": "stdout",
     "output_type": "stream",
     "text": [
      "Num Forest: 100 | Fbeta Score: 0.917455848499\n",
      "Num Forest: 200 | Fbeta Score: 0.919305037354\n",
      "Num Forest: 300 | Fbeta Score: 0.916577091085\n",
      "Num Forest: 400 | Fbeta Score: 0.916325829534\n",
      "Num Forest: 500 | Fbeta Score: 0.919255918892\n",
      "Num Forest: 600 | Fbeta Score: 0.918818769977\n",
      "Num Forest: 700 | Fbeta Score: 0.921052236589\n",
      "Num Forest: 800 | Fbeta Score: 0.918746392502\n",
      "Num Forest: 900 | Fbeta Score: 0.918715395131\n",
      "Num Forest: 1000 | Fbeta Score: 0.919303169425\n"
     ]
    }
   ],
   "source": [
    "for num_forest in range(100, 1001, 100):\n",
    "    score = cross_validation(processed_fuji_data, 8, 'Random Forest', 900, num_forest)\n",
    "    print 'Num Forest:', num_forest, '| Fbeta Score:', score"
   ]
  },
  {
   "cell_type": "code",
   "execution_count": null,
   "metadata": {
    "collapsed": false
   },
   "outputs": [],
   "source": [
    "# without feature reduction\n",
    "score = cross_validation(processed_fuji_data, 8, 'SVM', 100, 0)\n",
    "print 'Num Features:', 100, '| Fbeta Score:', np.mean(score)"
   ]
  },
  {
   "cell_type": "code",
   "execution_count": null,
   "metadata": {
    "collapsed": false,
    "scrolled": true
   },
   "outputs": [],
   "source": [
    "cross_validation(processed_fuji_data, 6, 'SVM', 100)"
   ]
  },
  {
   "cell_type": "code",
   "execution_count": null,
   "metadata": {
    "collapsed": false
   },
   "outputs": [],
   "source": [
    "cross_validation(processed_fuji_data, 6, 'SVM', 400)"
   ]
  },
  {
   "cell_type": "code",
   "execution_count": null,
   "metadata": {
    "collapsed": false
   },
   "outputs": [],
   "source": [
    "processed_fuji_data.head()"
   ]
  },
  {
   "cell_type": "code",
   "execution_count": null,
   "metadata": {
    "collapsed": false
   },
   "outputs": [],
   "source": [
    "# n = int(0.7 * len(processed))\n",
    "# train = processed.TEXT[:n]\n",
    "# test = processed.TEXT[n: ]\n",
    "# train_label = processed.LABEL[:n]\n",
    "# test_label = processed.LABEL[n:]"
   ]
  },
  {
   "cell_type": "code",
   "execution_count": null,
   "metadata": {
    "collapsed": false
   },
   "outputs": [],
   "source": [
    "j = processed_fuji_data.loc[:20,]"
   ]
  },
  {
   "cell_type": "code",
   "execution_count": null,
   "metadata": {
    "collapsed": false
   },
   "outputs": [],
   "source": [
    "idx = j[j.LABEL=='No'].index"
   ]
  },
  {
   "cell_type": "code",
   "execution_count": null,
   "metadata": {
    "collapsed": false
   },
   "outputs": [],
   "source": [
    "j = j.append([j.ix[idx.values,]]*2,ignore_index=True)"
   ]
  },
  {
   "cell_type": "code",
   "execution_count": null,
   "metadata": {
    "collapsed": false
   },
   "outputs": [],
   "source": [
    "j[j.LABEL=='No']"
   ]
  },
  {
   "cell_type": "code",
   "execution_count": null,
   "metadata": {
    "collapsed": true
   },
   "outputs": [],
   "source": []
  },
  {
   "cell_type": "markdown",
   "metadata": {},
   "source": [
    "## Evaluating Model Performance"
   ]
  },
  {
   "cell_type": "code",
   "execution_count": null,
   "metadata": {
    "collapsed": true
   },
   "outputs": [],
   "source": []
  },
  {
   "cell_type": "markdown",
   "metadata": {},
   "source": [
    "## Result"
   ]
  },
  {
   "cell_type": "code",
   "execution_count": null,
   "metadata": {
    "collapsed": true
   },
   "outputs": [],
   "source": []
  },
  {
   "cell_type": "code",
   "execution_count": null,
   "metadata": {
    "collapsed": true
   },
   "outputs": [],
   "source": [
    "# # the TfidfVectorizer object used\n",
    "# stopwords = nltk.corpus.stopwords.words('english')\n",
    "# stopwords.extend(rare_words)\n",
    "# vectorizer = sklearn.feature_extraction.text.TfidfVectorizer(stop_words = stopwords)\n",
    "\n",
    "# # sparse bag-of-words TF-IDF feature matrix\n",
    "# X = vectorizer.fit_transform(train)\n",
    "\n",
    "# # transform the test data \n",
    "# y = vectorizer.transform(test)"
   ]
  },
  {
   "cell_type": "markdown",
   "metadata": {
    "collapsed": false
   },
   "source": [
    "### SVM Classifier"
   ]
  },
  {
   "cell_type": "markdown",
   "metadata": {},
   "source": [
    "We estimate the best parameters for the SVM classifier by experimenting with different kernel types and regularization term."
   ]
  },
  {
   "cell_type": "code",
   "execution_count": null,
   "metadata": {
    "collapsed": false
   },
   "outputs": [],
   "source": [
    "from sklearn import svm\n",
    "\n",
    "# Train the classifiers\n",
    "for kernel in ['rbf', 'linear', 'sigmoid', 'poly']:\n",
    "    for C in [1e2, 1e3, 1e4, 1e5]:\n",
    "        clf_svm = svm.SVC(kernel=kernel, C=C)\n",
    "        clf_svm.fit(tfidf, processed_fuji_data.LABEL)\n",
    "        print kernel, C, clf_svm.score(tfidf, list(processed_fuji_data.LABEL))"
   ]
  },
  {
   "cell_type": "markdown",
   "metadata": {},
   "source": [
    "Based on the above results, the best kernel type is rbf and the best C is 1e4."
   ]
  },
  {
   "cell_type": "markdown",
   "metadata": {},
   "source": [
    "### Naive Bayes Classifier"
   ]
  },
  {
   "cell_type": "code",
   "execution_count": null,
   "metadata": {
    "collapsed": false
   },
   "outputs": [],
   "source": [
    "# from sklearn.naive_bayes import MultinomialNB\n",
    "# X_nb = vectorizer.transform(train)\n",
    "# y_nb = vectorizer.transform(test)\n",
    "# clf_nb = MultinomialNB()\n",
    "# clf_nb.fit(X_nb, train_label)\n",
    "# clf_nb.score(y_nb, list(test_label))"
   ]
  },
  {
   "cell_type": "markdown",
   "metadata": {},
   "source": [
    "From the above results, we can conclude that SVM (kernel==rbf and C==1e4) performs better than Naive Bayes Classifier. Thus, we now train the classifier with the optimum parameters."
   ]
  },
  {
   "cell_type": "markdown",
   "metadata": {},
   "source": [
    "#### Test the performance of classifier on seen data"
   ]
  },
  {
   "cell_type": "code",
   "execution_count": null,
   "metadata": {
    "collapsed": false
   },
   "outputs": [],
   "source": [
    "y_svm = vectorizer.transform(processed.TEXT)\n",
    "clf_svm.score(y_svm, list(processed.LABEL))"
   ]
  },
  {
   "cell_type": "markdown",
   "metadata": {},
   "source": [
    "#### Validating the performance of the model parameters on unseen data (For this we use Automobiles data)"
   ]
  },
  {
   "cell_type": "code",
   "execution_count": null,
   "metadata": {
    "collapsed": false,
    "scrolled": true
   },
   "outputs": [],
   "source": [
    "y = vectorizer.transform(processed_auto.TEXT)\n",
    "clf_svm.score(y, list(processed_auto.LABEL))"
   ]
  }
 ],
 "metadata": {
  "anaconda-cloud": {},
  "kernelspec": {
   "display_name": "Python [Root]",
   "language": "python",
   "name": "Python [Root]"
  },
  "language_info": {
   "codemirror_mode": {
    "name": "ipython",
    "version": 2
   },
   "file_extension": ".py",
   "mimetype": "text/x-python",
   "name": "python",
   "nbconvert_exporter": "python",
   "pygments_lexer": "ipython2",
   "version": "2.7.11"
  }
 },
 "nbformat": 4,
 "nbformat_minor": 1
}
