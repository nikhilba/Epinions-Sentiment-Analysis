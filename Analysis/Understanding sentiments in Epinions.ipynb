{
 "cells": [
  {
   "cell_type": "markdown",
   "metadata": {},
   "source": [
    "# UNDERSTANDING SENTIMENTS IN EPINIONS"
   ]
  },
  {
   "cell_type": "markdown",
   "metadata": {},
   "source": [
    "In this project, we are analysing customer reviews for Fuji Digital Camera obtained from Epinions data.com. Given data consists 50% of the reviews about Digital Cameras and remining 50% is about Automobiles.\n",
    "\n",
    "For every record, we are considering the review \"TEXT\" and \"Label\" value after where “Yes” means that a consumer recommends that product and “No” denotes the opposite.\n",
    "\n",
    "We split the data into two parts: Train and Test and identify the best classification model. We then validate the performance of this model on Automobile data.\n"
   ]
  },
  {
   "cell_type": "markdown",
   "metadata": {},
   "source": [
    "## Libraries"
   ]
  },
  {
   "cell_type": "code",
   "execution_count": 442,
   "metadata": {
    "collapsed": false
   },
   "outputs": [],
   "source": [
    "# Load required libraries \n",
    "\n",
    "import pandas as pd\n",
    "import numpy as np\n",
    "import os\n",
    "import nltk\n",
    "from nltk.corpus import stopwords\n",
    "import string\n",
    "from string import digits\n",
    "import re\n",
    "import sklearn\n",
    "from collections import Counter\n",
    "from bs4 import BeautifulSoup\n",
    "import codecs"
   ]
  },
  {
   "cell_type": "code",
   "execution_count": 330,
   "metadata": {
    "collapsed": false
   },
   "outputs": [],
   "source": [
    "# Libraries & parameters used for plotting\n",
    "\n",
    "%matplotlib inline\n",
    "import seaborn as sns\n",
    "sns.set(style=\"whitegrid\", color_codes=True)\n",
    "colors = ['cobalt', 'orangey yellow', 'steel grey', 'tomato', 'dark lilac', 'bluish green']\n",
    "cmap = sns.xkcd_palette(colors)\n",
    "import matplotlib.pyplot as plt"
   ]
  },
  {
   "cell_type": "markdown",
   "metadata": {},
   "source": [
    "## Data Loading"
   ]
  },
  {
   "cell_type": "code",
   "execution_count": 2,
   "metadata": {
    "collapsed": false
   },
   "outputs": [],
   "source": [
    "# Set path of the epinions file\n",
    "filepath = os.path.join('..\\Datasets\\D1.txt')"
   ]
  },
  {
   "cell_type": "code",
   "execution_count": 444,
   "metadata": {
    "collapsed": false
   },
   "outputs": [],
   "source": [
    "# Load data from file\n",
    "with open(filepath) as myfile:\n",
    "    data = myfile.read()"
   ]
  },
  {
   "cell_type": "code",
   "execution_count": 4,
   "metadata": {
    "collapsed": false
   },
   "outputs": [],
   "source": [
    "# Using BeautifulSoup to parse the data\n",
    "soup = BeautifulSoup(data, 'lxml')"
   ]
  },
  {
   "cell_type": "code",
   "execution_count": 5,
   "metadata": {
    "collapsed": false
   },
   "outputs": [
    {
     "name": "stdout",
     "output_type": "stream",
     "text": [
      "<class 'bs4.BeautifulSoup'>\n"
     ]
    }
   ],
   "source": [
    "print type(soup)"
   ]
  },
  {
   "cell_type": "code",
   "execution_count": 6,
   "metadata": {
    "collapsed": false
   },
   "outputs": [
    {
     "name": "stdout",
     "output_type": "stream",
     "text": [
      "<html>\n",
      " <body>\n",
      "  <doc>\n",
      "   <docid>\n",
      "    36\n",
      "   </docid>\n",
      "   <product>\n",
      "    Digital_Cameras/Casio_QV_4000_4_0_Megapixel_Digital_Camera_EX_Plus_Outfit__Camera_QV4000EXK\n",
      "   </product>\n",
      "   <label>\n",
      "    Yes\n",
      "    \n"
     ]
    }
   ],
   "source": [
    "print soup.prettify()[:199]"
   ]
  },
  {
   "cell_type": "code",
   "execution_count": 7,
   "metadata": {
    "collapsed": false
   },
   "outputs": [],
   "source": [
    "# Split all the documents in the file\n",
    "documents = soup.find_all('doc')"
   ]
  },
  {
   "cell_type": "code",
   "execution_count": 8,
   "metadata": {
    "collapsed": false
   },
   "outputs": [
    {
     "data": {
      "text/plain": [
       "12000"
      ]
     },
     "execution_count": 8,
     "metadata": {},
     "output_type": "execute_result"
    }
   ],
   "source": [
    "# Total number of documents\n",
    "len(documents)"
   ]
  },
  {
   "cell_type": "code",
   "execution_count": 11,
   "metadata": {
    "collapsed": false,
    "scrolled": true
   },
   "outputs": [],
   "source": [
    "# Add the data to pandas dataframe\n",
    "tab = pd.DataFrame()\n",
    "\n",
    "for idx, doc in enumerate(documents):\n",
    "    tab.loc[idx,'DOCID'] = str(doc.docid.contents[0]).strip('\\n').strip(' ')\n",
    "    tab.loc[idx,'PRODUCT'] =  str(doc.product.contents[0]).strip('\\n').strip(' ')\n",
    "    tab.loc[idx,'LABEL'] =  str(doc.label.contents[0]).strip('\\n').strip(' ')\n",
    "    tab.loc[idx,'RATING'] =  str(doc.rating.contents[0]).strip('\\n').strip(' ')\n",
    "    tab.loc[idx,'URL'] =  str(doc.url.contents[0]).strip('\\n').strip(' ')\n",
    "    tab.loc[idx,'CLASS'] =  str(doc.find('class').contents[0]).strip('\\n').strip(' ')\n",
    "    tab.loc[idx,'TEXT'] =  doc.find('text').contents[0].strip('\\n').strip(' ')"
   ]
  },
  {
   "cell_type": "code",
   "execution_count": 12,
   "metadata": {
    "collapsed": false,
    "scrolled": true
   },
   "outputs": [
    {
     "data": {
      "text/html": [
       "<div>\n",
       "<table border=\"1\" class=\"dataframe\">\n",
       "  <thead>\n",
       "    <tr style=\"text-align: right;\">\n",
       "      <th></th>\n",
       "      <th>DOCID</th>\n",
       "      <th>PRODUCT</th>\n",
       "      <th>LABEL</th>\n",
       "      <th>RATING</th>\n",
       "      <th>URL</th>\n",
       "      <th>CLASS</th>\n",
       "      <th>TEXT</th>\n",
       "    </tr>\n",
       "  </thead>\n",
       "  <tbody>\n",
       "    <tr>\n",
       "      <th>11995</th>\n",
       "      <td>36432</td>\n",
       "      <td>auto_Make/auto_Make-1994_Ford_Probe</td>\n",
       "      <td>Yes</td>\n",
       "      <td>5.0</td>\n",
       "      <td>http://www.epinions.com/content_110045859460</td>\n",
       "      <td>Auto</td>\n",
       "      <td>I just traded-in my Ford Probe GT, auto. Coupe...</td>\n",
       "    </tr>\n",
       "    <tr>\n",
       "      <th>11996</th>\n",
       "      <td>36437</td>\n",
       "      <td>auto_Make/auto_Make-1987_Dodge_Diplomat</td>\n",
       "      <td>Yes</td>\n",
       "      <td>5.0</td>\n",
       "      <td>http://www.epinions.com/content_38862753412</td>\n",
       "      <td>Auto</td>\n",
       "      <td>In my younger days",
       ".driving a cool car was a ...</td>\n",
       "    </tr>\n",
       "    <tr>\n",
       "      <th>11997</th>\n",
       "      <td>36442</td>\n",
       "      <td>auto_Make/auto_Make-2002_Nissan_Altima</td>\n",
       "      <td>Yes</td>\n",
       "      <td>4.0</td>\n",
       "      <td>http://www.epinions.com/content_46086590084</td>\n",
       "      <td>Auto</td>\n",
       "      <td>I bought the 2.5S w/floor mats, in-cabin micro...</td>\n",
       "    </tr>\n",
       "    <tr>\n",
       "      <th>11998</th>\n",
       "      <td>36447</td>\n",
       "      <td>auto_Make/auto_Make-2002_Nissan_Altima</td>\n",
       "      <td>Yes</td>\n",
       "      <td>5.0</td>\n",
       "      <td>http://www.epinions.com/content_63460839044</td>\n",
       "      <td>Auto</td>\n",
       "      <td>I got this car about two weeks ago. I have the...</td>\n",
       "    </tr>\n",
       "    <tr>\n",
       "      <th>11999</th>\n",
       "      <td>36452</td>\n",
       "      <td>auto_Make/auto_Make-2002_Nissan_Altima</td>\n",
       "      <td>No</td>\n",
       "      <td>4.0</td>\n",
       "      <td>http://www.epinions.com/content_88014163588</td>\n",
       "      <td>Auto</td>\n",
       "      <td>The contestants:\\n2003 Mazda 6s, 5-Speed Manua...</td>\n",
       "    </tr>\n",
       "  </tbody>\n",
       "</table>\n",
       "</div>"
      ],
      "text/plain": [
       "       DOCID                                  PRODUCT LABEL RATING  \\\n",
       "11995  36432      auto_Make/auto_Make-1994_Ford_Probe   Yes    5.0   \n",
       "11996  36437  auto_Make/auto_Make-1987_Dodge_Diplomat   Yes    5.0   \n",
       "11997  36442   auto_Make/auto_Make-2002_Nissan_Altima   Yes    4.0   \n",
       "11998  36447   auto_Make/auto_Make-2002_Nissan_Altima   Yes    5.0   \n",
       "11999  36452   auto_Make/auto_Make-2002_Nissan_Altima    No    4.0   \n",
       "\n",
       "                                                URL CLASS  \\\n",
       "11995  http://www.epinions.com/content_110045859460  Auto   \n",
       "11996   http://www.epinions.com/content_38862753412  Auto   \n",
       "11997   http://www.epinions.com/content_46086590084  Auto   \n",
       "11998   http://www.epinions.com/content_63460839044  Auto   \n",
       "11999   http://www.epinions.com/content_88014163588  Auto   \n",
       "\n",
       "                                                    TEXT  \n",
       "11995  I just traded-in my Ford Probe GT, auto. Coupe...  \n",
       "11996  In my younger days",
       ".driving a cool car was a ...  \n",
       "11997  I bought the 2.5S w/floor mats, in-cabin micro...  \n",
       "11998  I got this car about two weeks ago. I have the...  \n",
       "11999  The contestants:\\n2003 Mazda 6s, 5-Speed Manua...  "
      ]
     },
     "execution_count": 12,
     "metadata": {},
     "output_type": "execute_result"
    }
   ],
   "source": [
    "tab.tail()"
   ]
  },
  {
   "cell_type": "markdown",
   "metadata": {},
   "source": [
    "### Split the data by the Class"
   ]
  },
  {
   "cell_type": "code",
   "execution_count": 305,
   "metadata": {
    "collapsed": true
   },
   "outputs": [],
   "source": [
    "# Split the data into two dataframes by CLASS\n",
    "\n",
    "auto = (tab[tab.CLASS == 'Auto'])\n",
    "camera = (tab[tab.CLASS == 'Camera'])"
   ]
  },
  {
   "cell_type": "markdown",
   "metadata": {},
   "source": [
    "## Visual Analysis of Data"
   ]
  },
  {
   "cell_type": "markdown",
   "metadata": {},
   "source": [
    "### Distribution of data for consumer recommending a product from Class = [Auto, Camera]"
   ]
  },
  {
   "cell_type": "code",
   "execution_count": 338,
   "metadata": {
    "collapsed": false
   },
   "outputs": [
    {
     "data": {
      "image/png": "[encoded data removed]",
      "text/plain": [
       "<matplotlib.figure.Figure at 0x39adc358>"
      ]
     },
     "metadata": {},
     "output_type": "display_data"
    }
   ],
   "source": [
    "sns.countplot(x=\"CLASS\", hue = \"LABEL\", data=tab, palette=cmap)\n",
    "plt.ylabel('Count of Label', fontsize=14)\n",
    "plt.xlabel('Class of Product', fontsize=14)\n",
    "plt.tight_layout()"
   ]
  },
  {
   "cell_type": "markdown",
   "metadata": {},
   "source": [
    "### Distribution of data for consumer ratings of products from Class = [Auto, Camera]"
   ]
  },
  {
   "cell_type": "code",
   "execution_count": 337,
   "metadata": {
    "collapsed": false,
    "scrolled": false
   },
   "outputs": [
    {
     "data": {
      "image/png": "[encoded data removed]",
      "text/plain": [
       "<matplotlib.figure.Figure at 0x15e10400>"
      ]
     },
     "metadata": {},
     "output_type": "display_data"
    }
   ],
   "source": [
    "sns.countplot(x=\"CLASS\", hue = \"RATING\", data=tab, palette = cmap)\n",
    "sns.color_palette('colorblind', n_colors=8)\n",
    "plt.ylabel('Count of Rating', fontsize=14)\n",
    "plt.xlabel('Class of Product', fontsize=14)\n",
    "plt.tight_layout()"
   ]
  },
  {
   "cell_type": "markdown",
   "metadata": {},
   "source": [
    "### Distribution of data for consumer ratings for Camera vs if the recommend the product or not."
   ]
  },
  {
   "cell_type": "code",
   "execution_count": 340,
   "metadata": {
    "collapsed": false
   },
   "outputs": [
    {
     "data": {
      "image/png": "[encoded data removed]",
      "text/plain": [
       "<matplotlib.figure.Figure at 0x3789b048>"
      ]
     },
     "metadata": {},
     "output_type": "display_data"
    }
   ],
   "source": [
    "sns.countplot(x=\"LABEL\", hue = \"RATING\", data=camera, palette = cmap)\n",
    "plt.ylabel('Count of Rating', fontsize=14)\n",
    "plt.xlabel('Label of Product (Camera)', fontsize=14)\n",
    "plt.tight_layout()"
   ]
  },
  {
   "cell_type": "markdown",
   "metadata": {},
   "source": [
    "## Data Pre-processing\n",
    "\n",
    "We will clean up the text of reviews using regex and functions offered by nltk package."
   ]
  },
  {
   "cell_type": "markdown",
   "metadata": {},
   "source": [
    "The following function processes and tokenizes raw text. We use nltk package to tokenize and clean the text. This includes removing numbers, stopwords, punctuations, converting the text to lower case and lemmatizing."
   ]
  },
  {
   "cell_type": "code",
   "execution_count": 251,
   "metadata": {
    "collapsed": false
   },
   "outputs": [],
   "source": [
    "def process(text, lemmatizer=nltk.stem.wordnet.WordNetLemmatizer()):\n",
    "    \"\"\"\n",
    "    input:\n",
    "        text: string of one review\n",
    "        lemmatizer: default is nltk.stem.wordnet.WordNetLemmatizer()\n",
    "    output:\n",
    "        result: list of tokenized words\n",
    "    \"\"\"\n",
    "    \n",
    "    tokenized = []\n",
    "    lemmatized = []\n",
    "    \n",
    "    # Remove numbers\n",
    "    text = re.sub('\\d', ' ', text)\n",
    "    \n",
    "    # Normalizes case\n",
    "    text = text.lower()\n",
    "    \n",
    "#     remove bad characters\n",
    "#     text = re.sub(r'[\\x92]', \" \",text)\n",
    "    \n",
    "    # remove apostrophes, delete 's\n",
    "    text = text.replace('\\'s', '')\n",
    "    text = text.replace('\\'', ' ')\n",
    "    \n",
    "    # Remove punctuations  \n",
    "    for char in string.punctuation:\n",
    "        text = text.replace(char, ' ')\n",
    "        \n",
    "    # Tokenize text\n",
    "    tokenized = nltk.word_tokenize(text)\n",
    "    \n",
    "    for word in tokenized:\n",
    "        # Remove stopwords\n",
    "        if word not in stopwords.words('english'):\n",
    "            try:\n",
    "                # lemmatize word\n",
    "                lemmatized.append(lemmatizer.lemmatize(word))\n",
    "            except Exception:\n",
    "                pass\n",
    "    return ' '.join(word for word in lemmatized)"
   ]
  },
  {
   "cell_type": "code",
   "execution_count": 252,
   "metadata": {
    "collapsed": false
   },
   "outputs": [
    {
     "name": "stdout",
     "output_type": "stream",
     "text": [
      "sample test input processing love\n"
     ]
    }
   ],
   "source": [
    "# Example\n",
    "\n",
    "text = \"This is a sample test input for 's processing loves.\"\n",
    "print process(text)"
   ]
  },
  {
   "cell_type": "markdown",
   "metadata": {},
   "source": [
    "The following function makes use of the process() function that we defined earlier to clean all the text in the last column of pandas dataframe. Here, we assume the last column has all the reviews."
   ]
  },
  {
   "cell_type": "code",
   "execution_count": 253,
   "metadata": {
    "collapsed": true
   },
   "outputs": [],
   "source": [
    "def process_all(df, lemmatizer=nltk.stem.wordnet.WordNetLemmatizer()):\n",
    "    \"\"\"\n",
    "    Inputs\n",
    "        df: pd.DataFrame: dataframe containing a column 'text' in last column\n",
    "        lemmatizer: the default argument is of type nltk.stem.wordnet.WordNetLemmatizer\n",
    "    Outputs\n",
    "        pd.DataFrame: dataframe in which the values of text column have been changed from str to list(str),\n",
    "                        the output from process_text() function. Other columns are unaffected.\n",
    "    \"\"\"\n",
    "    df_copy = df.copy()\n",
    "    df_length = len(df_copy.iloc[:,-1])\n",
    "        \n",
    "    temp = [process(df_copy.iloc[i,-1]) for i in range(df_length)]  \n",
    "    df_copy.loc[:,'TEXT'] = temp\n",
    "    \n",
    "    return df_copy"
   ]
  },
  {
   "cell_type": "markdown",
   "metadata": {},
   "source": [
    "### Performing data cleaning for Camera reviews"
   ]
  },
  {
   "cell_type": "code",
   "execution_count": 345,
   "metadata": {
    "collapsed": false
   },
   "outputs": [
    {
     "data": {
      "text/plain": [
       "u'Ah, finally, A great little camera for the beginner at an easy to swallow price.\\n\\nThis is one of man'"
      ]
     },
     "execution_count": 345,
     "metadata": {},
     "output_type": "execute_result"
    }
   ],
   "source": [
    "# BEFORE \n",
    "camera.TEXT[2][:100]"
   ]
  },
  {
   "cell_type": "code",
   "execution_count": 265,
   "metadata": {
    "collapsed": false
   },
   "outputs": [],
   "source": [
    "processed = process_all(camera)"
   ]
  },
  {
   "cell_type": "code",
   "execution_count": 342,
   "metadata": {
    "collapsed": false
   },
   "outputs": [
    {
     "data": {
      "text/plain": [
       "u'ah finally great little camera beginner easy swallow price one many digital camera series reviewing '"
      ]
     },
     "execution_count": 342,
     "metadata": {},
     "output_type": "execute_result"
    }
   ],
   "source": [
    "# AFTER\n",
    "processed.TEXT[2][:100]"
   ]
  },
  {
   "cell_type": "markdown",
   "metadata": {},
   "source": [
    "### Performing data cleaning for Automobile reviews"
   ]
  },
  {
   "cell_type": "code",
   "execution_count": 271,
   "metadata": {
    "collapsed": true
   },
   "outputs": [],
   "source": [
    "processed_auto = process_all(auto)"
   ]
  },
  {
   "cell_type": "code",
   "execution_count": 341,
   "metadata": {
    "collapsed": false
   },
   "outputs": [
    {
     "data": {
      "text/plain": [
       "u'im car snob like driving foreign car little trepidation actually agreed take gasp taurus rental car '"
      ]
     },
     "execution_count": 341,
     "metadata": {},
     "output_type": "execute_result"
    }
   ],
   "source": [
    "processed_auto.TEXT[6002][:100]"
   ]
  },
  {
   "cell_type": "code",
   "execution_count": 423,
   "metadata": {
    "collapsed": false
   },
   "outputs": [
    {
     "data": {
      "text/html": [
       "<div>\n",
       "<table border=\"1\" class=\"dataframe\">\n",
       "  <thead>\n",
       "    <tr style=\"text-align: right;\">\n",
       "      <th></th>\n",
       "      <th>DOCID</th>\n",
       "      <th>PRODUCT</th>\n",
       "      <th>LABEL</th>\n",
       "      <th>RATING</th>\n",
       "      <th>URL</th>\n",
       "      <th>CLASS</th>\n",
       "      <th>TEXT</th>\n",
       "    </tr>\n",
       "  </thead>\n",
       "  <tbody>\n",
       "    <tr>\n",
       "      <th>0</th>\n",
       "      <td>36</td>\n",
       "      <td>Digital_Cameras/Casio_QV_4000_4_0_Megapixel_Di...</td>\n",
       "      <td>Yes</td>\n",
       "      <td>5.0</td>\n",
       "      <td>http://www.epinions.com/content_66677280388</td>\n",
       "      <td>Camera</td>\n",
       "      <td>stumbled upon camera much research hard unders...</td>\n",
       "    </tr>\n",
       "    <tr>\n",
       "      <th>1</th>\n",
       "      <td>107</td>\n",
       "      <td>Digital_Cameras/pr-Fuji_Finepix_MX-1200_Digita...</td>\n",
       "      <td>Yes</td>\n",
       "      <td>4.0</td>\n",
       "      <td>http://www.epinions.com/elec-review-31F6-E9DA6...</td>\n",
       "      <td>Camera</td>\n",
       "      <td>note japanese version camera difference though...</td>\n",
       "    </tr>\n",
       "    <tr>\n",
       "      <th>2</th>\n",
       "      <td>108</td>\n",
       "      <td>Digital_Cameras/pr-Fuji_Finepix_MX-1200_Digita...</td>\n",
       "      <td>Yes</td>\n",
       "      <td>4.0</td>\n",
       "      <td>http://www.epinions.com/elec-review-B67-D4F9A3...</td>\n",
       "      <td>Camera</td>\n",
       "      <td>ah finally great little camera beginner easy s...</td>\n",
       "    </tr>\n",
       "    <tr>\n",
       "      <th>3</th>\n",
       "      <td>109</td>\n",
       "      <td>Digital_Cameras/pr-Fuji_Finepix_MX-1200_Digita...</td>\n",
       "      <td>Yes</td>\n",
       "      <td>5.0</td>\n",
       "      <td>http://www.epinions.com/elec-review-7463-6CD18...</td>\n",
       "      <td>Camera</td>\n",
       "      <td>okay ive written three negative review row tim...</td>\n",
       "    </tr>\n",
       "    <tr>\n",
       "      <th>4</th>\n",
       "      <td>110</td>\n",
       "      <td>Digital_Cameras/pr-Fuji_Finepix_MX-1200_Digita...</td>\n",
       "      <td>No</td>\n",
       "      <td>2.0</td>\n",
       "      <td>http://www.epinions.com/elec-review-2E51-6E04C...</td>\n",
       "      <td>Camera</td>\n",
       "      <td>camera great deal wal mart right going fast ab...</td>\n",
       "    </tr>\n",
       "  </tbody>\n",
       "</table>\n",
       "</div>"
      ],
      "text/plain": [
       "  DOCID                                            PRODUCT LABEL RATING  \\\n",
       "0    36  Digital_Cameras/Casio_QV_4000_4_0_Megapixel_Di...   Yes    5.0   \n",
       "1   107  Digital_Cameras/pr-Fuji_Finepix_MX-1200_Digita...   Yes    4.0   \n",
       "2   108  Digital_Cameras/pr-Fuji_Finepix_MX-1200_Digita...   Yes    4.0   \n",
       "3   109  Digital_Cameras/pr-Fuji_Finepix_MX-1200_Digita...   Yes    5.0   \n",
       "4   110  Digital_Cameras/pr-Fuji_Finepix_MX-1200_Digita...    No    2.0   \n",
       "\n",
       "                                                 URL   CLASS  \\\n",
       "0        http://www.epinions.com/content_66677280388  Camera   \n",
       "1  http://www.epinions.com/elec-review-31F6-E9DA6...  Camera   \n",
       "2  http://www.epinions.com/elec-review-B67-D4F9A3...  Camera   \n",
       "3  http://www.epinions.com/elec-review-7463-6CD18...  Camera   \n",
       "4  http://www.epinions.com/elec-review-2E51-6E04C...  Camera   \n",
       "\n",
       "                                                TEXT  \n",
       "0  stumbled upon camera much research hard unders...  \n",
       "1  note japanese version camera difference though...  \n",
       "2  ah finally great little camera beginner easy s...  \n",
       "3  okay ive written three negative review row tim...  \n",
       "4  camera great deal wal mart right going fast ab...  "
      ]
     },
     "execution_count": 423,
     "metadata": {},
     "output_type": "execute_result"
    }
   ],
   "source": [
    "processed.head()"
   ]
  },
  {
   "cell_type": "markdown",
   "metadata": {},
   "source": [
    "### Split data into Training and Testing set"
   ]
  },
  {
   "cell_type": "markdown",
   "metadata": {},
   "source": [
    "Here we split the data into train (70%) and test (30%) set."
   ]
  },
  {
   "cell_type": "code",
   "execution_count": 267,
   "metadata": {
    "collapsed": false
   },
   "outputs": [],
   "source": [
    "n = int(0.7 * len(processed))\n",
    "train = processed.TEXT[:n]\n",
    "test = processed.TEXT[n: ]\n",
    "train_label = processed.LABEL[:n]\n",
    "test_label = processed.LABEL[n:]"
   ]
  },
  {
   "cell_type": "code",
   "execution_count": 391,
   "metadata": {
    "collapsed": false
   },
   "outputs": [
    {
     "data": {
      "text/plain": [
       "0    stumbled upon camera much research hard unders...\n",
       "1    note japanese version camera difference though...\n",
       "2    ah finally great little camera beginner easy s...\n",
       "3    okay ive written three negative review row tim...\n",
       "4    camera great deal wal mart right going fast ab...\n",
       "Name: TEXT, dtype: object"
      ]
     },
     "execution_count": 391,
     "metadata": {},
     "output_type": "execute_result"
    }
   ],
   "source": [
    "train.head()"
   ]
  },
  {
   "cell_type": "code",
   "execution_count": 392,
   "metadata": {
    "collapsed": false
   },
   "outputs": [
    {
     "data": {
      "text/plain": [
       "0    Yes\n",
       "1    Yes\n",
       "2    Yes\n",
       "3    Yes\n",
       "4     No\n",
       "Name: LABEL, dtype: object"
      ]
     },
     "execution_count": 392,
     "metadata": {},
     "output_type": "execute_result"
    }
   ],
   "source": [
    "train_label.head()"
   ]
  },
  {
   "cell_type": "markdown",
   "metadata": {},
   "source": [
    "## Feature Construction"
   ]
  },
  {
   "cell_type": "markdown",
   "metadata": {},
   "source": [
    "Our goal here is to derive feature vectors from the processed reviews. In this section, we are constructing a bag-of-words TF-IDF feature vector."
   ]
  },
  {
   "cell_type": "code",
   "execution_count": 389,
   "metadata": {
    "collapsed": false
   },
   "outputs": [
    {
     "data": {
      "text/plain": [
       "1174852"
      ]
     },
     "execution_count": 389,
     "metadata": {},
     "output_type": "execute_result"
    }
   ],
   "source": [
    "# Calculate the total number of words\n",
    "words = []\n",
    "[words.extend(nltk.word_tokenize(processed.loc[i,'TEXT'])) for i in range(len(processed.loc[:,'TEXT']))]\n",
    "len(words)"
   ]
  },
  {
   "cell_type": "markdown",
   "metadata": {},
   "source": [
    "Since the number of possible words is large and not all of them may be useful for our classification task. We first determine which words to retain, and which to omit. Since we have already pruned the stopwords, we will now prune words that are used rarely and usually tend to be typos. We consider a word rare if it occurs not more than once."
   ]
  },
  {
   "cell_type": "markdown",
   "metadata": {},
   "source": [
    "The below function use the word count information across all reviews in data to come up with a feature list."
   ]
  },
  {
   "cell_type": "code",
   "execution_count": 424,
   "metadata": {
    "collapsed": true
   },
   "outputs": [],
   "source": [
    "def get_rare_words(processed_data):\n",
    "    \"\"\" \n",
    "    Inputs:\n",
    "        processed_data: pd.DataFrame: the output of process_all() function\n",
    "    Outputs:\n",
    "        list(str): list of rare words, sorted alphabetically.\n",
    "    \"\"\"\n",
    "    c = []\n",
    "    [c.extend(nltk.word_tokenize(processed_data.loc[i,'TEXT'])) for i in range(len(processed_data.loc[:,'TEXT']))]\n",
    "    k = Counter(c)\n",
    "    words = (Counter(el for el in k.elements() if k[el] < 5))\n",
    "    wordlist = list(words.elements())\n",
    "    return sorted(wordlist)"
   ]
  },
  {
   "cell_type": "code",
   "execution_count": 425,
   "metadata": {
    "collapsed": false
   },
   "outputs": [],
   "source": [
    "rare_words = get_rare_words(processed)"
   ]
  },
  {
   "cell_type": "code",
   "execution_count": 426,
   "metadata": {
    "collapsed": false
   },
   "outputs": [
    {
     "data": {
      "text/plain": [
       "21850"
      ]
     },
     "execution_count": 426,
     "metadata": {},
     "output_type": "execute_result"
    }
   ],
   "source": [
    "len(rare_words)"
   ]
  },
  {
   "cell_type": "code",
   "execution_count": 414,
   "metadata": {
    "collapsed": false
   },
   "outputs": [
    {
     "name": "stdout",
     "output_type": "stream",
     "text": [
      "[u'aaaa', u'aaaaaaahhhh', u'aaaah', u'aaaalkaline', u'aaahs', u'aaarrrgghhh', u'aahs', u'aan', u'aashook', u'aax', u'aaxes', u'aback', u'abaco', u'abb', u'abberration', u'abbreviated', u'abc', u'abel', u'aberratons', u'abesofmaine']\n"
     ]
    }
   ],
   "source": [
    "print rare_words[:20]"
   ]
  },
  {
   "cell_type": "markdown",
   "metadata": {},
   "source": [
    "We now construct a sparse matrix of features for each review with the help of sklearn.feature_extraction.text.TfidfVectorizer."
   ]
  },
  {
   "cell_type": "code",
   "execution_count": 429,
   "metadata": {
    "collapsed": true
   },
   "outputs": [],
   "source": [
    "# the TfidfVectorizer object used\n",
    "stopwords = nltk.corpus.stopwords.words('english')\n",
    "stopwords.extend(rare_words)\n",
    "vectorizer = sklearn.feature_extraction.text.TfidfVectorizer(stop_words = stopwords)\n",
    "\n",
    "# sparse bag-of-words TF-IDF feature matrix\n",
    "X = vectorizer.fit_transform(processed.TEXT)\n",
    "\n",
    "# transform the test data \n",
    "y = vectorizer.transform(test)"
   ]
  },
  {
   "cell_type": "code",
   "execution_count": 432,
   "metadata": {
    "collapsed": false
   },
   "outputs": [
    {
     "data": {
      "text/plain": [
       "(6000, 7271)"
      ]
     },
     "execution_count": 432,
     "metadata": {},
     "output_type": "execute_result"
    }
   ],
   "source": [
    "X.get_shape()"
   ]
  },
  {
   "cell_type": "code",
   "execution_count": null,
   "metadata": {
    "collapsed": true
   },
   "outputs": [],
   "source": []
  },
  {
   "cell_type": "code",
   "execution_count": null,
   "metadata": {
    "collapsed": true
   },
   "outputs": [],
   "source": []
  },
  {
   "cell_type": "markdown",
   "metadata": {},
   "source": [
    "## Classification"
   ]
  },
  {
   "cell_type": "markdown",
   "metadata": {},
   "source": [
    "In this section, we put try to larn a model to classify the opinions. We will be using two classifiers: Support Vector Machines and Naive Bayes Classifier. We will then score the clssifier based on how well it performs against test data and use it for predicting sentiments from opinions."
   ]
  },
  {
   "cell_type": "markdown",
   "metadata": {},
   "source": [
    "Although there are several metrics available (e.g., accuracy, precision, recall, etc), we will go with accuracy and determine how accurately our model is able to classify opinions."
   ]
  },
  {
   "cell_type": "markdown",
   "metadata": {
    "collapsed": false
   },
   "source": [
    "### SVM Classifier"
   ]
  },
  {
   "cell_type": "code",
   "execution_count": 398,
   "metadata": {
    "collapsed": false
   },
   "outputs": [
    {
     "name": "stdout",
     "output_type": "stream",
     "text": [
      "rbf 100.0 0.852777777778\n",
      "rbf 1000.0 0.852777777778\n",
      "rbf 10000.0 0.887777777778\n",
      "rbf 100000.0 0.869444444444\n",
      "linear 100.0 0.869444444444\n",
      "linear 1000.0 0.869444444444\n",
      "linear 10000.0 0.869444444444\n",
      "linear 100000.0 0.869444444444\n",
      "sigmoid 100.0 0.852777777778\n",
      "sigmoid 1000.0 0.852777777778\n",
      "sigmoid 10000.0 0.868333333333\n",
      "sigmoid 100000.0 0.873333333333\n",
      "poly 100.0 0.852777777778\n",
      "poly 1000.0 0.852777777778\n",
      "poly 10000.0 0.852777777778\n",
      "poly 100000.0 0.852777777778\n"
     ]
    }
   ],
   "source": [
    "from sklearn import svm\n",
    "\n",
    "# Train both classifiers\n",
    "for kernel in ['rbf', 'linear', 'sigmoid', 'poly']:\n",
    "    for C in [1e2, 1e3, 1e4, 1e5]:\n",
    "        clf_svm = svm.SVC(kernel=kernel, C=C)\n",
    "        clf_svm.fit(X, train_label)\n",
    "        print kernel, C, clf_svm.score(y, list(test_label))"
   ]
  },
  {
   "cell_type": "markdown",
   "metadata": {},
   "source": [
    "Based on the above results, the best kernel type is rbf and the best C is 1e4."
   ]
  },
  {
   "cell_type": "markdown",
   "metadata": {},
   "source": [
    "### Naive Bayes Classifier"
   ]
  },
  {
   "cell_type": "code",
   "execution_count": 269,
   "metadata": {
    "collapsed": false
   },
   "outputs": [
    {
     "data": {
      "text/plain": [
       "0.85277777777777775"
      ]
     },
     "execution_count": 269,
     "metadata": {},
     "output_type": "execute_result"
    }
   ],
   "source": [
    "from sklearn.naive_bayes import MultinomialNB\n",
    "X = vectorizer.transform(train)\n",
    "X_dev = vectorizer.transform(test)\n",
    "clf_nb = MultinomialNB()\n",
    "clf_nb.fit(X, train_label)\n",
    "clf_nb.score(X_dev, list(test_label))"
   ]
  },
  {
   "cell_type": "markdown",
   "metadata": {},
   "source": [
    "From the above results, we can conclude that SVM (kernel==rbf and C==1e4) performs better than Naive Bayes Classifier. Thus, we will trin the classifier with the optimum parameters."
   ]
  },
  {
   "cell_type": "code",
   "execution_count": 416,
   "metadata": {
    "collapsed": false
   },
   "outputs": [
    {
     "data": {
      "text/plain": [
       "0.97283333333333333"
      ]
     },
     "execution_count": 416,
     "metadata": {},
     "output_type": "execute_result"
    }
   ],
   "source": [
    "X = vectorizer.fit_transform(processed.TEXT)\n",
    "clf_svm = svm.SVC(kernel = 'rbf', C = 1e4)\n",
    "clf_svm.fit(X, processed.LABEL)\n",
    "y = vectorizer.transform(processed.TEXT)\n",
    "clf_svm.score(y, list(processed.LABEL))"
   ]
  },
  {
   "cell_type": "markdown",
   "metadata": {},
   "source": [
    "Validating the performance of the model parameters on Automobiles data:"
   ]
  },
  {
   "cell_type": "code",
   "execution_count": 417,
   "metadata": {
    "collapsed": false
   },
   "outputs": [
    {
     "data": {
      "text/plain": [
       "0.94733333333333336"
      ]
     },
     "execution_count": 417,
     "metadata": {},
     "output_type": "execute_result"
    }
   ],
   "source": [
    "X = vectorizer.fit_transform(processed_auto.TEXT)\n",
    "clf_svm = svm.SVC(kernel = 'rbf', C = 1e4)\n",
    "clf_svm.fit(X, processed_auto.LABEL)\n",
    "y = vectorizer.transform(processed_auto.TEXT)\n",
    "clf_svm.score(y, list(processed_auto.LABEL))"
   ]
  },
  {
   "cell_type": "code",
   "execution_count": null,
   "metadata": {
    "collapsed": true
   },
   "outputs": [],
   "source": []
  },
  {
   "cell_type": "code",
   "execution_count": 420,
   "metadata": {
    "collapsed": false
   },
   "outputs": [
    {
     "name": "stdout",
     "output_type": "stream",
     "text": [
      "[u'zowie', u'harmless', u'handicam', u'handiwork', u'handstrap', u'handwriting', u'handycam', u'hardwarestreet', u'harping', u'handgun', u'hasty', u'srgb', u'srelectronics', u'haunting', u'haveing', u'squeal', u'stall', u'hampshire', u'squarely', u'starlight', u'statestreetdirect', u'statendam', u'greasy', u'startling', u'grind', u'groom', u'grouped', u'hah', u'grownup', u'grrrr', u'stanford', u'gto', u'guideline', u'gush', u'hazard', u'headstone', u'discreet', u'holographic', u'hired', u'splotch', u'hitachi', u'ho', u'splatter', u'splashed', u'spiritual', u'himalaya', u'honduras', u'spill', u'spiffy', u'honored', u'hoodman', u'spherical', u'hire', u'hight', u'health', u'spotting', u'heartache', u'heated', u'heating', u'sprouting', u'heckuva', u'hehehe', u'helm', u'spontaneously', u'henry', u'herd', u'hesitates', u'hewlet', u'hg', u'highend', u'grayscales', u'stationery', u'grant', u'futureshop', u'funflash', u'furby', u'furry', u'furthest', u'stowed', u'stove', u'gag', u'fuchsia', u'storable', u'gamut', u'garish', u'garyd', u'gasp', u'stomp', u'fulfilling', u'stratospheric', u'grainyness', u'freeservers', u'stripping', u'framework', u'stripe', u'frantic', u'freakin', u'strikingly', u'fridge', u'frown']\n"
     ]
    }
   ],
   "source": [
    "indices = np.argsort(vectorizer.idf_)[::-1]\n",
    "features = vectorizer.get_feature_names()\n",
    "top_n = 100\n",
    "top_features = [features[i] for i in indices[:top_n]]\n",
    "print top_features"
   ]
  },
  {
   "cell_type": "code",
   "execution_count": 421,
   "metadata": {
    "collapsed": false
   },
   "outputs": [
    {
     "data": {
      "text/plain": [
       "[u'aa',\n",
       " u'aaa',\n",
       " u'aac',\n",
       " u'ab',\n",
       " u'abandon',\n",
       " u'abandoned',\n",
       " u'abberation',\n",
       " u'abberations',\n",
       " u'abbreviation',\n",
       " u'aberration',\n",
       " u'ability',\n",
       " u'abit',\n",
       " u'able',\n",
       " u'ablility',\n",
       " u'abnormally',\n",
       " u'aboard',\n",
       " u'abort',\n",
       " u'abound',\n",
       " u'abreast',\n",
       " u'abroad',\n",
       " u'absence',\n",
       " u'absent',\n",
       " u'absolute',\n",
       " u'absolutely',\n",
       " u'absolutley',\n",
       " u'absolutly',\n",
       " u'abstract',\n",
       " u'absurd',\n",
       " u'absurdly',\n",
       " u'abundance',\n",
       " u'abundant',\n",
       " u'abuse',\n",
       " u'abused',\n",
       " u'abut',\n",
       " u'abysmal',\n",
       " u'ac',\n",
       " u'academic',\n",
       " u'acc',\n",
       " u'accent',\n",
       " u'accept',\n",
       " u'acceptable',\n",
       " u'acceptably',\n",
       " u'acceptance',\n",
       " u'accepted',\n",
       " u'accepting',\n",
       " u'accepts',\n",
       " u'accesible',\n",
       " u'accesories',\n",
       " u'accesory',\n",
       " u'access',\n",
       " u'accessable',\n",
       " u'accessed',\n",
       " u'accessibility',\n",
       " u'accessible',\n",
       " u'accessing',\n",
       " u'accessory',\n",
       " u'accident',\n",
       " u'accidental',\n",
       " u'accidentally',\n",
       " u'accidently',\n",
       " u'acclaim',\n",
       " u'acclaimed',\n",
       " u'accolade',\n",
       " u'accomidate',\n",
       " u'accommodate',\n",
       " u'accommodates',\n",
       " u'accomodate',\n",
       " u'accomodates',\n",
       " u'accompanied',\n",
       " u'accompanies',\n",
       " u'accompany',\n",
       " u'accompanying',\n",
       " u'accomplish',\n",
       " u'accomplished',\n",
       " u'accomplishes',\n",
       " u'accomplishment',\n",
       " u'accordance',\n",
       " u'according',\n",
       " u'accordingly',\n",
       " u'account',\n",
       " u'accounted',\n",
       " u'accuchargeable',\n",
       " u'accumulator',\n",
       " u'accupower',\n",
       " u'accuracy',\n",
       " u'accurate',\n",
       " u'accurately',\n",
       " u'accused',\n",
       " u'accustomed',\n",
       " u'acd',\n",
       " u'acdsee',\n",
       " u'acheive',\n",
       " u'achieve',\n",
       " u'achieved',\n",
       " u'achievement',\n",
       " u'achieves',\n",
       " u'achieving',\n",
       " u'achilles',\n",
       " u'acid',\n",
       " u'ack',\n",
       " u'acknowledged',\n",
       " u'acne',\n",
       " u'acquaint',\n",
       " u'acquaintance',\n",
       " u'acquainted',\n",
       " u'acquire',\n",
       " u'acquired',\n",
       " u'acquiring',\n",
       " u'acquisition',\n",
       " u'acre',\n",
       " u'acrobat',\n",
       " u'acronym',\n",
       " u'across',\n",
       " u'act',\n",
       " u'acted',\n",
       " u'acting',\n",
       " u'action',\n",
       " u'activate',\n",
       " u'activated',\n",
       " u'activates',\n",
       " u'activating',\n",
       " u'activation',\n",
       " u'active',\n",
       " u'actively',\n",
       " u'activity',\n",
       " u'actor',\n",
       " u'actual',\n",
       " u'actuality',\n",
       " u'actually',\n",
       " u'ad',\n",
       " u'adage',\n",
       " u'adam',\n",
       " u'adamant',\n",
       " u'adapt',\n",
       " u'adaptability',\n",
       " u'adaptable',\n",
       " u'adaptation',\n",
       " u'adaptec',\n",
       " u'adapted',\n",
       " u'adapter',\n",
       " u'adapting',\n",
       " u'adaptive',\n",
       " u'adaptor',\n",
       " u'adapts',\n",
       " u'add',\n",
       " u'added',\n",
       " u'addendum',\n",
       " u'addict',\n",
       " u'addicted',\n",
       " u'addicting',\n",
       " u'addiction',\n",
       " u'addictive',\n",
       " u'adding',\n",
       " u'addition',\n",
       " u'additional',\n",
       " u'additionally',\n",
       " u'addon',\n",
       " u'address',\n",
       " u'addressed',\n",
       " u'addressing',\n",
       " u'adelphia',\n",
       " u'adept',\n",
       " u'adequate',\n",
       " u'adequately',\n",
       " u'adequete',\n",
       " u'adjacent',\n",
       " u'adjunct',\n",
       " u'adjust',\n",
       " u'adjustability',\n",
       " u'adjustable',\n",
       " u'adjusted',\n",
       " u'adjuster',\n",
       " u'adjusting',\n",
       " u'adjustment',\n",
       " u'adjustor',\n",
       " u'adjusts',\n",
       " u'adjutages',\n",
       " u'admin',\n",
       " u'administrator',\n",
       " u'admirable',\n",
       " u'admirably',\n",
       " u'admiration',\n",
       " u'admire',\n",
       " u'admired',\n",
       " u'admiring',\n",
       " u'admit',\n",
       " u'admitted',\n",
       " u'admittedly',\n",
       " u'admitting',\n",
       " u'ado',\n",
       " u'adobe',\n",
       " u'adope',\n",
       " u'adopt',\n",
       " u'adopted',\n",
       " u'adopter',\n",
       " u'adorable',\n",
       " u'adore',\n",
       " u'adored',\n",
       " u'adult',\n",
       " u'advance',\n",
       " u'advanced',\n",
       " u'advancement',\n",
       " u'advancing',\n",
       " u'advantage',\n",
       " u'advantix',\n",
       " u'advent',\n",
       " u'adventure',\n",
       " u'adventurous',\n",
       " u'adverse',\n",
       " u'advertise',\n",
       " u'advertised',\n",
       " u'advertisement',\n",
       " u'advertiser',\n",
       " u'advertises',\n",
       " u'advertising',\n",
       " u'advice',\n",
       " u'advisable',\n",
       " u'advise',\n",
       " u'advised',\n",
       " u'advocate',\n",
       " u'adware',\n",
       " u'adz',\n",
       " u'ae',\n",
       " u'aeb',\n",
       " u'ael',\n",
       " u'aerial',\n",
       " u'aesthetic',\n",
       " u'aesthetically',\n",
       " u'af',\n",
       " u'afar',\n",
       " u'afb',\n",
       " u'affair',\n",
       " u'affect',\n",
       " u'affected',\n",
       " u'affecting',\n",
       " u'affiliated',\n",
       " u'afford',\n",
       " u'affordability',\n",
       " u'affordable',\n",
       " u'affordably',\n",
       " u'afforded',\n",
       " u'affords',\n",
       " u'afga',\n",
       " u'aficionado',\n",
       " u'afore',\n",
       " u'aforementioned',\n",
       " u'afraid',\n",
       " u'afriad',\n",
       " u'africa',\n",
       " u'african',\n",
       " u'afs',\n",
       " u'afterall',\n",
       " u'aftermarket',\n",
       " u'afternoon',\n",
       " u'afterthought',\n",
       " u'afterward',\n",
       " u'afterwards',\n",
       " u'afterwhich',\n",
       " u'age',\n",
       " u'aged',\n",
       " u'agency',\n",
       " u'agenda',\n",
       " u'agent',\n",
       " u'agfa',\n",
       " u'agfahome',\n",
       " u'agfanet',\n",
       " u'aggravated',\n",
       " u'aggravates',\n",
       " u'aggravating',\n",
       " u'aggravation',\n",
       " u'aggressive',\n",
       " u'aggressively',\n",
       " u'aging',\n",
       " u'ago',\n",
       " u'agonized',\n",
       " u'agonizing',\n",
       " u'agree',\n",
       " u'agreeable',\n",
       " u'agreed',\n",
       " u'agreement',\n",
       " u'ah',\n",
       " u'ahead',\n",
       " u'ahem',\n",
       " u'ahh',\n",
       " u'ahhh',\n",
       " u'ahold',\n",
       " u'ahs',\n",
       " u'ai',\n",
       " u'aiaf',\n",
       " u'aid',\n",
       " u'aide',\n",
       " u'aim',\n",
       " u'aimed',\n",
       " u'aiming',\n",
       " u'aint',\n",
       " u'aiptek',\n",
       " u'air',\n",
       " u'airborne',\n",
       " u'airbrush',\n",
       " u'aircraft',\n",
       " u'airline',\n",
       " u'airplane',\n",
       " u'airport',\n",
       " u'aisle',\n",
       " u'aiwa',\n",
       " u'aka',\n",
       " u'akin',\n",
       " u'akward',\n",
       " u'al',\n",
       " u'ala',\n",
       " u'alabama',\n",
       " u'alarm',\n",
       " u'alarming',\n",
       " u'alaska',\n",
       " u'alb',\n",
       " u'albeit',\n",
       " u'album',\n",
       " u'albumindex',\n",
       " u'albumlist',\n",
       " u'alert',\n",
       " u'alerting',\n",
       " u'algorithm',\n",
       " u'aliasing',\n",
       " u'alien',\n",
       " u'align',\n",
       " u'aligned',\n",
       " u'aligning',\n",
       " u'alignment',\n",
       " u'alike',\n",
       " u'alittle',\n",
       " u'alive',\n",
       " u'alkaline',\n",
       " u'alkalines',\n",
       " u'alleged',\n",
       " u'allegedly',\n",
       " u'alleviate',\n",
       " u'alley',\n",
       " u'allmost',\n",
       " u'allocation',\n",
       " u'allot',\n",
       " u'allow',\n",
       " u'allowance',\n",
       " u'allowed',\n",
       " u'allowing',\n",
       " u'allows',\n",
       " u'alloy',\n",
       " u'allready',\n",
       " u'allright',\n",
       " u'allure',\n",
       " u'almost',\n",
       " u'aloha',\n",
       " u'alone',\n",
       " u'along',\n",
       " u'alongside',\n",
       " u'alot',\n",
       " u'already',\n",
       " u'alright',\n",
       " u'also',\n",
       " u'alter',\n",
       " u'alteration',\n",
       " u'altered',\n",
       " u'altering',\n",
       " u'alternate',\n",
       " u'alternately',\n",
       " u'alternative',\n",
       " u'alternatively',\n",
       " u'alters',\n",
       " u'altho',\n",
       " u'although',\n",
       " u'altogether',\n",
       " u'altoid',\n",
       " u'altoids',\n",
       " u'aluminium',\n",
       " u'aluminum',\n",
       " u'always',\n",
       " u'amateur',\n",
       " u'amatuer',\n",
       " u'amature',\n",
       " u'amaze',\n",
       " u'amazed',\n",
       " u'amazement',\n",
       " u'amazes',\n",
       " u'amazing',\n",
       " u'amazingly',\n",
       " u'amazon',\n",
       " u'amber',\n",
       " u'ambience',\n",
       " u'ambient',\n",
       " u'ambiguity',\n",
       " u'ambiguous',\n",
       " u'ambition',\n",
       " u'ambitious',\n",
       " u'amd',\n",
       " u'america',\n",
       " u'american',\n",
       " u'amex',\n",
       " u'amicable',\n",
       " u'ammount',\n",
       " u'among',\n",
       " u'amongst',\n",
       " u'amount',\n",
       " u'amp',\n",
       " u'amperage',\n",
       " u'ample',\n",
       " u'amply',\n",
       " u'amsterdam',\n",
       " u'amt',\n",
       " u'amused',\n",
       " u'amusement',\n",
       " u'amusing',\n",
       " u'amy',\n",
       " u'anal',\n",
       " u'analog',\n",
       " u'analogous',\n",
       " u'analogue',\n",
       " u'analysis',\n",
       " u'analyze',\n",
       " u'analyzing',\n",
       " u'ancestor',\n",
       " u'anchor',\n",
       " u'ancient',\n",
       " u'anemic',\n",
       " u'angel',\n",
       " u'angeles',\n",
       " u'angelfire',\n",
       " u'anger',\n",
       " u'angle',\n",
       " u'angled',\n",
       " u'angry',\n",
       " u'animal',\n",
       " u'animated',\n",
       " u'animating',\n",
       " u'animation',\n",
       " u'ann',\n",
       " u'anniversary',\n",
       " u'annotate',\n",
       " u'annotation',\n",
       " u'announced',\n",
       " u'announcement',\n",
       " u'annoy',\n",
       " u'annoyance',\n",
       " u'annoyed',\n",
       " u'annoying',\n",
       " u'annoyingly',\n",
       " u'annoys',\n",
       " u'annual',\n",
       " u'anodized',\n",
       " u'anomaly',\n",
       " u'another',\n",
       " u'ansel',\n",
       " u'answer',\n",
       " u'answered',\n",
       " u'ant',\n",
       " u'ante',\n",
       " u'anti',\n",
       " u'antic',\n",
       " u'anticipate',\n",
       " u'anticipated',\n",
       " u'anticipating',\n",
       " u'anticipation',\n",
       " u'antiquated',\n",
       " u'antique',\n",
       " u'antonio',\n",
       " u'anxious',\n",
       " u'anxiously',\n",
       " u'anybody',\n",
       " u'anyday',\n",
       " u'anyhow',\n",
       " u'anymore',\n",
       " u'anyone',\n",
       " u'anything',\n",
       " u'anytime',\n",
       " u'anyway',\n",
       " u'anyways',\n",
       " u'anywhere',\n",
       " u'aol',\n",
       " u'ap',\n",
       " u'apart',\n",
       " u'apartment',\n",
       " u'aparture',\n",
       " u'apature',\n",
       " u'aperature',\n",
       " u'aperatures',\n",
       " u'aperture',\n",
       " u'apeture',\n",
       " u'apiece',\n",
       " u'aplomb',\n",
       " u'apo',\n",
       " u'apologize',\n",
       " u'apologized',\n",
       " u'apology',\n",
       " u'app',\n",
       " u'appalling',\n",
       " u'apparantly',\n",
       " u'apparatus',\n",
       " u'apparent',\n",
       " u'apparently',\n",
       " u'appeal',\n",
       " u'appealed',\n",
       " u'appealing',\n",
       " u'appear',\n",
       " u'appearance',\n",
       " u'appeared',\n",
       " u'appearing',\n",
       " u'appears',\n",
       " u'appetite',\n",
       " u'apple',\n",
       " u'appliance',\n",
       " u'applicable',\n",
       " u'application',\n",
       " u'applied',\n",
       " u'applies',\n",
       " u'apply',\n",
       " u'applying',\n",
       " u'appraisal',\n",
       " u'appraiser',\n",
       " u'appreciable',\n",
       " u'appreciate',\n",
       " u'appreciated',\n",
       " u'appreciates',\n",
       " u'appreciation',\n",
       " u'appreciative',\n",
       " u'apprehensive',\n",
       " u'approach',\n",
       " u'approaching',\n",
       " u'appropriate',\n",
       " u'appropriately',\n",
       " u'approval',\n",
       " u'approve',\n",
       " u'approx',\n",
       " u'approximate',\n",
       " u'approximately',\n",
       " u'approximation',\n",
       " u'apps',\n",
       " u'appx',\n",
       " u'apr',\n",
       " u'april',\n",
       " u'aprox',\n",
       " u'aps',\n",
       " u'apt',\n",
       " u'aptly',\n",
       " u'aquainted',\n",
       " u'aquapac',\n",
       " u'aquarium',\n",
       " u'aquisition',\n",
       " u'ar',\n",
       " u'arabia',\n",
       " u'arc',\n",
       " u'archaic',\n",
       " u'architect',\n",
       " u'architectural',\n",
       " u'architecture',\n",
       " u'archival',\n",
       " u'archive',\n",
       " u'archived',\n",
       " u'archiving',\n",
       " u'arcsoft',\n",
       " u'area',\n",
       " u'arena',\n",
       " u'arent',\n",
       " u'argh',\n",
       " u'arguably',\n",
       " u'argue',\n",
       " u'argued',\n",
       " u'arguing',\n",
       " u'argument',\n",
       " u'argus',\n",
       " u'arise',\n",
       " u'arises',\n",
       " u'arizona',\n",
       " u'arm',\n",
       " u'armature',\n",
       " u'armed',\n",
       " u'army',\n",
       " u'around',\n",
       " u'arounds',\n",
       " u'arrange',\n",
       " u'arranged',\n",
       " u'arrangement',\n",
       " u'arranges',\n",
       " u'arranging',\n",
       " u'array',\n",
       " u'arrayed',\n",
       " u'arrgh',\n",
       " u'arrival',\n",
       " u'arrive',\n",
       " u'arrived',\n",
       " u'arrives',\n",
       " u'arriving',\n",
       " u'arrow',\n",
       " u'arsenal',\n",
       " u'art',\n",
       " u'arta',\n",
       " u'artefact',\n",
       " u'artful',\n",
       " u'arthritis',\n",
       " u'article',\n",
       " u'articulated',\n",
       " u'artifact',\n",
       " u'artifacted',\n",
       " u'artifacting',\n",
       " u'artificial',\n",
       " u'artificially',\n",
       " u'artist',\n",
       " u'artistic',\n",
       " u'artistically',\n",
       " u'artsy',\n",
       " u'artwork',\n",
       " u'asa',\n",
       " u'asap',\n",
       " u'ash',\n",
       " u'ashamed',\n",
       " u'ashraf',\n",
       " u'ashshoot',\n",
       " u'asia',\n",
       " u'asian',\n",
       " u'aside',\n",
       " u'ask',\n",
       " u'asked',\n",
       " u'askew',\n",
       " u'asking',\n",
       " u'asks',\n",
       " u'asleep',\n",
       " u'asp',\n",
       " u'aspect',\n",
       " u'aspen',\n",
       " u'asphalt',\n",
       " u'aspheric',\n",
       " u'aspherical',\n",
       " u'aspiration',\n",
       " u'aspire',\n",
       " u'aspiring',\n",
       " u'ass',\n",
       " u'assecories',\n",
       " u'assemble',\n",
       " u'assembled',\n",
       " u'assembling',\n",
       " u'assembly',\n",
       " u'assessment',\n",
       " u'asset',\n",
       " u'assign',\n",
       " u'assigned',\n",
       " u'assignment',\n",
       " u'assigns',\n",
       " u'assist',\n",
       " u'assistance',\n",
       " u'assistant',\n",
       " u'assisted',\n",
       " u'associate',\n",
       " u'associated',\n",
       " u'association',\n",
       " u'assortment',\n",
       " u'assume',\n",
       " u'assumed',\n",
       " u'assumes',\n",
       " u'assuming',\n",
       " u'assumption',\n",
       " u'assurance',\n",
       " u'assure',\n",
       " u'assured',\n",
       " u'assures',\n",
       " u'assuring',\n",
       " u'astonished',\n",
       " u'astonishing',\n",
       " u'astonishingly',\n",
       " u'astound',\n",
       " u'astounded',\n",
       " u'astounding',\n",
       " u'astoundingly',\n",
       " u'astra',\n",
       " u'astracam',\n",
       " u'astronomical',\n",
       " u'astrophotography',\n",
       " u'ata',\n",
       " u'ate',\n",
       " u'athlete',\n",
       " u'athletic',\n",
       " u'atlanta',\n",
       " u'atlantic',\n",
       " u'atleast',\n",
       " u'atmosphere',\n",
       " u'atop',\n",
       " u'atrocious',\n",
       " u'attach',\n",
       " u'attachable',\n",
       " u'attache',\n",
       " u'attached',\n",
       " u'attaching',\n",
       " u'attachment',\n",
       " u'attack',\n",
       " u'attain',\n",
       " u'attainable',\n",
       " u'attatch',\n",
       " u'attatched',\n",
       " u'attempt',\n",
       " u'attempted',\n",
       " u'attempting',\n",
       " u'attend',\n",
       " u'attendant',\n",
       " u'attended',\n",
       " u'attending',\n",
       " u'attention',\n",
       " u'attentive',\n",
       " u'attest',\n",
       " u'attic',\n",
       " u'attitude',\n",
       " u'attorney',\n",
       " u'attract',\n",
       " u'attracted',\n",
       " u'attraction',\n",
       " u'attractive',\n",
       " u'attracts',\n",
       " u'attributable',\n",
       " u'attribute',\n",
       " u'attributed',\n",
       " u'au',\n",
       " u'auction',\n",
       " u'auctioned',\n",
       " u'auctioneer',\n",
       " u'auctioning',\n",
       " u'audi',\n",
       " u'audible',\n",
       " u'audibly',\n",
       " u'audience',\n",
       " u'audio',\n",
       " u'audiophile',\n",
       " u'auditorium',\n",
       " u'aug',\n",
       " u'augment',\n",
       " u'august',\n",
       " u'aunt',\n",
       " u'australia',\n",
       " u'australian',\n",
       " u'authentic',\n",
       " u'author',\n",
       " u'authority',\n",
       " u'authorized',\n",
       " u'auto',\n",
       " u'autobrite',\n",
       " u'autoconnect',\n",
       " u'autodownload',\n",
       " u'autoexposure',\n",
       " u'autoflash',\n",
       " u'autofocus',\n",
       " u'autofocusing',\n",
       " u'automagically',\n",
       " u'automate',\n",
       " u'automated',\n",
       " u'automatic',\n",
       " u'automatically',\n",
       " u'automation',\n",
       " u'automobile',\n",
       " u'automode',\n",
       " u'autoproducer',\n",
       " u'autostart',\n",
       " u'autumn',\n",
       " u'aux',\n",
       " u'auxiliary',\n",
       " u'av',\n",
       " u'avail',\n",
       " u'availabe',\n",
       " u'availability',\n",
       " u'available',\n",
       " u'availble',\n",
       " u'availiable',\n",
       " u'ave',\n",
       " u'avenue',\n",
       " u'average',\n",
       " u'averaged',\n",
       " u'averaging',\n",
       " u'avg',\n",
       " u'avi',\n",
       " u'avid',\n",
       " u'avis',\n",
       " u'avoid',\n",
       " u'avoidable',\n",
       " u'avoided',\n",
       " u'avoiding',\n",
       " u'avoids',\n",
       " u'aw',\n",
       " u'await',\n",
       " u'awaited',\n",
       " u'awaiting',\n",
       " u'awake',\n",
       " u'awaken',\n",
       " u'awakening',\n",
       " u'award',\n",
       " u'aware',\n",
       " u'away',\n",
       " u'aways',\n",
       " u'awe',\n",
       " u'awed',\n",
       " u'aweful',\n",
       " u'awesome',\n",
       " u'awful',\n",
       " u'awfully',\n",
       " u'awhile',\n",
       " u'awkward',\n",
       " u'awkwardly',\n",
       " u'awry',\n",
       " u'awsome',\n",
       " u'axis',\n",
       " u'ba',\n",
       " u'babble',\n",
       " u'baby',\n",
       " u'back',\n",
       " u'backboard',\n",
       " u'backdrop',\n",
       " u'backed',\n",
       " u'backgroud',\n",
       " u'background',\n",
       " u'backing',\n",
       " u'backlight',\n",
       " u'backlighted',\n",
       " u'backlighting',\n",
       " u'backlights',\n",
       " u'backlit',\n",
       " u'backorder',\n",
       " u'backordered',\n",
       " u'backpack',\n",
       " u'backpacker',\n",
       " u'backpacking',\n",
       " u'backside',\n",
       " u'backstory',\n",
       " u'backup',\n",
       " u'backward',\n",
       " u'backwards',\n",
       " u'backyard',\n",
       " u'bacon',\n",
       " u'bad',\n",
       " u'badge',\n",
       " u'badly',\n",
       " u'baffling',\n",
       " u'bag',\n",
       " u'baggie',\n",
       " u'baggy',\n",
       " u'baha',\n",
       " u'bahamas',\n",
       " u'bait',\n",
       " u'baked',\n",
       " u'balance',\n",
       " u'balanced',\n",
       " u'balancing',\n",
       " u'balcony',\n",
       " u'bald',\n",
       " u'bali',\n",
       " u'ball',\n",
       " u'ballance',\n",
       " u'balloon',\n",
       " u'bam',\n",
       " u'band',\n",
       " u'banding',\n",
       " u'bandwagon',\n",
       " u'bang',\n",
       " u'banged',\n",
       " u'banging',\n",
       " u'bank',\n",
       " u'bankrupt',\n",
       " u'banner',\n",
       " u'banquet',\n",
       " u'bar',\n",
       " u'barbie',\n",
       " u'bare',\n",
       " u'barebones',\n",
       " u'barely',\n",
       " u'bargain',\n",
       " u'bargained',\n",
       " u'bargin',\n",
       " u'barn',\n",
       " u'barrel',\n",
       " u'barrier',\n",
       " u'barring',\n",
       " u'barrle',\n",
       " u'barry',\n",
       " u'base',\n",
       " u'baseball',\n",
       " u'based',\n",
       " u'baseline',\n",
       " u'basement',\n",
       " u'basic',\n",
       " u'basically',\n",
       " u'basis',\n",
       " u'basket',\n",
       " u'basketball',\n",
       " u'bass',\n",
       " u'bastard',\n",
       " u'bat',\n",
       " u'batch',\n",
       " u'bateries',\n",
       " u'baterries',\n",
       " u'batery',\n",
       " u'bath',\n",
       " u'batman',\n",
       " u'batt',\n",
       " u'battaries',\n",
       " u'batteies',\n",
       " u'batter',\n",
       " u'batteries',\n",
       " u'batteris',\n",
       " u'batterries',\n",
       " u'battery',\n",
       " u'batterybarn',\n",
       " u'battey',\n",
       " u'battle',\n",
       " u'battling',\n",
       " u'batts',\n",
       " u'baud',\n",
       " u'bay',\n",
       " u'bayonet',\n",
       " u'bb',\n",
       " u'bc',\n",
       " u'bday',\n",
       " u'beach',\n",
       " u'beachcamera',\n",
       " u'beam',\n",
       " u'bean',\n",
       " u'bear',\n",
       " u'bearable',\n",
       " u'bearing',\n",
       " u'beast',\n",
       " u'beastly',\n",
       " u'beat',\n",
       " u'beaten',\n",
       " u'beating',\n",
       " u'beaut',\n",
       " u'beautiful',\n",
       " u'beautifully',\n",
       " u'beauty',\n",
       " u'became',\n",
       " u'becasue',\n",
       " u'beckoning',\n",
       " u'become',\n",
       " u'becomes',\n",
       " u'becoming',\n",
       " u'becouse',\n",
       " u'becuase',\n",
       " u'bed',\n",
       " u'bedroom',\n",
       " u'bee',\n",
       " u'beef',\n",
       " u'beefy',\n",
       " u'beep',\n",
       " u'beeped',\n",
       " u'beeping',\n",
       " u'beer',\n",
       " u'beforehand',\n",
       " u'began',\n",
       " u'beggar',\n",
       " u'begged',\n",
       " u'begging',\n",
       " u'begin',\n",
       " u'beginers',\n",
       " u'begining',\n",
       " u'beginner',\n",
       " u'beginning',\n",
       " u'begs',\n",
       " u'begun',\n",
       " u'behave',\n",
       " u'behaved',\n",
       " u'behaves',\n",
       " u'behaving',\n",
       " u'behavior',\n",
       " u'behind',\n",
       " u'behold',\n",
       " u'beholder',\n",
       " u'beijing',\n",
       " u'belabor',\n",
       " u'beleive',\n",
       " u'belgium',\n",
       " u'belief',\n",
       " u'belies',\n",
       " u'believe',\n",
       " u'believed',\n",
       " u'believer',\n",
       " u'believing',\n",
       " u'belive',\n",
       " u'bell',\n",
       " u'belly',\n",
       " u'belong',\n",
       " u'belongs',\n",
       " u'beloved',\n",
       " u'belt',\n",
       " u'ben',\n",
       " u'bench',\n",
       " u'benchmark',\n",
       " u'bend',\n",
       " u'bending',\n",
       " u'beneath',\n",
       " u'beneficial',\n",
       " u'benefit',\n",
       " u'benefited',\n",
       " u'bent',\n",
       " u'beos',\n",
       " u'berlin',\n",
       " u'beside',\n",
       " u'besides',\n",
       " u'best',\n",
       " u'bestbuy',\n",
       " u'bestbuys',\n",
       " u'bestshot',\n",
       " ...]"
      ]
     },
     "execution_count": 421,
     "metadata": {},
     "output_type": "execute_result"
    }
   ],
   "source": [
    "vectorizer.get_feature_names()"
   ]
  },
  {
   "cell_type": "code",
   "execution_count": 422,
   "metadata": {
    "collapsed": false
   },
   "outputs": [
    {
     "data": {
      "text/plain": [
       "array([ 2.90853135,  5.49293027,  8.64993069, ...,  4.77872968,\n",
       "        7.95678351,  8.64993069])"
      ]
     },
     "execution_count": 422,
     "metadata": {},
     "output_type": "execute_result"
    }
   ],
   "source": [
    "vectorizer."
   ]
  },
  {
   "cell_type": "code",
   "execution_count": null,
   "metadata": {
    "collapsed": true
   },
   "outputs": [],
   "source": []
  }
 ],
 "metadata": {
  "anaconda-cloud": {},
  "kernelspec": {
   "display_name": "Python 2",
   "language": "python",
   "name": "python2"
  },
  "language_info": {
   "codemirror_mode": {
    "name": "ipython",
    "version": 2
   },
   "file_extension": ".py",
   "mimetype": "text/x-python",
   "name": "python",
   "nbconvert_exporter": "python",
   "pygments_lexer": "ipython2",
   "version": "2.7.13"
  }
 },
 "nbformat": 4,
 "nbformat_minor": 1
}
