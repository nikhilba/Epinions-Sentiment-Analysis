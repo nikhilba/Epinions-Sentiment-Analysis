{
 "cells": [
  {
   "cell_type": "markdown",
   "metadata": {},
   "source": [
    "# UNDERSTANDING SENTIMENTS IN EPINIONS"
   ]
  },
  {
   "cell_type": "markdown",
   "metadata": {},
   "source": [
    "In this project, we are analysing customer reviews for Fuji Digital Camera obtained from Epinions data.com. Given data consists 50% of the reviews about Digital Cameras and remining 50% is about Automobiles.\n",
    "\n",
    "For every record, we are considering the review \"TEXT\" and \"Label\" value after where “Yes” means that a consumer recommends that product and “No” denotes the opposite.\n",
    "\n",
    "We split the data into two parts: Train and Test and identify the best classification model. We then validate the performance of this model on Automobile data.\n"
   ]
  },
  {
   "cell_type": "markdown",
   "metadata": {},
   "source": [
    "## Index\n",
    "- [Libraries](#Libraries)\n",
    "- [Data Loading](#Data-Loading)\n",
    "    - [Identify Fuji Reviews](#Identify-Fuji-Reviews)\n",
    "    - [Data Exploration](#Data-Exploration)\n",
    "- [Data Cleaning](#Data-Cleaning)\n",
    "- [Feature Construction](#Feature-Construction)\n",
    "- [Feature Extraction/Selection](#Feature-Extraction/Selection)\n",
    "- [Data Processing](#Data-Processing)\n",
    "- [Modelling](#Modelling)\n",
    "- [Metrics](#Metrics)\n",
    "- [Validation](#Validation)"
   ]
  },
  {
   "cell_type": "markdown",
   "metadata": {},
   "source": [
    "## Libraries"
   ]
  },
  {
   "cell_type": "markdown",
   "metadata": {},
   "source": [
    "This project has been developed using Python 2.7. Following libraries are loaded for Data processing, Data visualization and Data Modelling."
   ]
  },
  {
   "cell_type": "code",
   "execution_count": 2,
   "metadata": {
    "collapsed": false
   },
   "outputs": [],
   "source": [
    "# Load required libraries \n",
    "import pandas as pd\n",
    "import numpy as np\n",
    "import os\n",
    "import nltk\n",
    "from nltk.corpus import stopwords\n",
    "import string\n",
    "from string import digits\n",
    "import re\n",
    "import sklearn\n",
    "from collections import Counter\n",
    "from bs4 import BeautifulSoup"
   ]
  },
  {
   "cell_type": "code",
   "execution_count": 4,
   "metadata": {
    "collapsed": false
   },
   "outputs": [],
   "source": [
    "# Libraries & parameters used for visualization\n",
    "%matplotlib inline\n",
    "import seaborn as sns\n",
    "sns.set(style=\"whitegrid\", color_codes=True)\n",
    "colors = ['cobalt', 'orangey yellow', 'steel grey', 'tomato', 'dark lilac', 'bluish green']\n",
    "cmap = sns.xkcd_palette(colors)\n",
    "import matplotlib.pyplot as plt"
   ]
  },
  {
   "cell_type": "markdown",
   "metadata": {},
   "source": [
    "## Data Loading"
   ]
  },
  {
   "cell_type": "markdown",
   "metadata": {},
   "source": [
    "In this secion, we will load the data downloaded from epinions.com. The data consists of more than 10,000 reviews about Camera/Automobiles. We will extract reviews related to Fuji Digital Cameras and explore data using visualization techniques."
   ]
  },
  {
   "cell_type": "code",
   "execution_count": 5,
   "metadata": {
    "collapsed": false
   },
   "outputs": [],
   "source": [
    "# Set path of the epinions file\n",
    "filepath = os.path.join('..\\Datasets\\D1.txt')"
   ]
  },
  {
   "cell_type": "code",
   "execution_count": 6,
   "metadata": {
    "collapsed": false
   },
   "outputs": [],
   "source": [
    "# Load data from file\n",
    "with open(filepath) as myfile:\n",
    "    data = myfile.read()"
   ]
  },
  {
   "cell_type": "code",
   "execution_count": 7,
   "metadata": {
    "collapsed": false
   },
   "outputs": [],
   "source": [
    "# Using BeautifulSoup to parse the data\n",
    "soup = BeautifulSoup(data, 'lxml')"
   ]
  },
  {
   "cell_type": "code",
   "execution_count": 29,
   "metadata": {
    "collapsed": false
   },
   "outputs": [
    {
     "name": "stdout",
     "output_type": "stream",
     "text": [
      "<html>\n",
      " <body>\n",
      "  <doc>\n",
      "   <docid>\n",
      "    36\n",
      "   </docid>\n",
      "   <product>\n",
      "    Digital_Cameras/Casio_QV_4000_4_0_Megapixel_Digital_Camera_EX_Plus_Outfit__Camera_QV4000EXK\n",
      "   </product>\n",
      "   <label>\n",
      "    Yes\n",
      "    \n"
     ]
    }
   ],
   "source": [
    "print soup.prettify()[:199]"
   ]
  },
  {
   "cell_type": "code",
   "execution_count": 10,
   "metadata": {
    "collapsed": false
   },
   "outputs": [],
   "source": [
    "# Split all the documents in the file\n",
    "documents = soup.find_all('doc')"
   ]
  },
  {
   "cell_type": "code",
   "execution_count": 11,
   "metadata": {
    "collapsed": false
   },
   "outputs": [
    {
     "data": {
      "text/plain": [
       "12000"
      ]
     },
     "execution_count": 11,
     "metadata": {},
     "output_type": "execute_result"
    }
   ],
   "source": [
    "# Total number of documents\n",
    "len(documents)"
   ]
  },
  {
   "cell_type": "code",
   "execution_count": 12,
   "metadata": {
    "collapsed": false,
    "scrolled": true
   },
   "outputs": [],
   "source": [
    "# Add the data to pandas dataframe\n",
    "tab = pd.DataFrame()\n",
    "\n",
    "for idx, doc in enumerate(documents):\n",
    "    tab.loc[idx,'DOCID'] = str(doc.docid.contents[0]).strip('\\n').strip(' ')\n",
    "    tab.loc[idx,'PRODUCT'] =  str(doc.product.contents[0]).strip('\\n').strip(' ')\n",
    "    tab.loc[idx,'LABEL'] =  str(doc.label.contents[0]).strip('\\n').strip(' ')\n",
    "    tab.loc[idx,'RATING'] =  str(doc.rating.contents[0]).strip('\\n').strip(' ')\n",
    "    tab.loc[idx,'URL'] =  str(doc.url.contents[0]).strip('\\n').strip(' ')\n",
    "    tab.loc[idx,'CLASS'] =  str(doc.find('class').contents[0]).strip('\\n').strip(' ')\n",
    "    tab.loc[idx,'TEXT'] =  doc.find('text').contents[0].strip('\\n').strip(' ')"
   ]
  },
  {
   "cell_type": "markdown",
   "metadata": {},
   "source": [
    "### Identify Fuji Reviews"
   ]
  },
  {
   "cell_type": "markdown",
   "metadata": {},
   "source": [
    "In this section, we extract reviews related to Fuji Digital Cameras."
   ]
  },
  {
   "cell_type": "code",
   "execution_count": 14,
   "metadata": {
    "collapsed": true
   },
   "outputs": [],
   "source": [
    "# Split the data into two dataframes by CLASS\n",
    "auto = (tab[tab.CLASS == 'Auto'])\n",
    "camera = (tab[tab.CLASS == 'Camera'])"
   ]
  },
  {
   "cell_type": "code",
   "execution_count": 58,
   "metadata": {
    "collapsed": false
   },
   "outputs": [],
   "source": [
    "# Filter reviews of Fuji Digital Cameras \n",
    "fuji_camera = camera[camera['PRODUCT'].str.contains(\"Fuji\")]\n",
    "fuji_camera.reset_index(inplace=True, drop=True)"
   ]
  },
  {
   "cell_type": "code",
   "execution_count": 59,
   "metadata": {
    "collapsed": false
   },
   "outputs": [
    {
     "data": {
      "text/plain": [
       "487"
      ]
     },
     "execution_count": 59,
     "metadata": {},
     "output_type": "execute_result"
    }
   ],
   "source": [
    "# Total number of Fuji reviews\n",
    "len(fuji_camera)"
   ]
  },
  {
   "cell_type": "code",
   "execution_count": 60,
   "metadata": {
    "collapsed": false
   },
   "outputs": [
    {
     "data": {
      "text/html": [
       "<div>\n",
       "<table border=\"1\" class=\"dataframe\">\n",
       "  <thead>\n",
       "    <tr style=\"text-align: right;\">\n",
       "      <th></th>\n",
       "      <th>DOCID</th>\n",
       "      <th>PRODUCT</th>\n",
       "      <th>LABEL</th>\n",
       "      <th>RATING</th>\n",
       "      <th>URL</th>\n",
       "      <th>CLASS</th>\n",
       "      <th>TEXT</th>\n",
       "    </tr>\n",
       "  </thead>\n",
       "  <tbody>\n",
       "    <tr>\n",
       "      <th>0</th>\n",
       "      <td>107</td>\n",
       "      <td>Digital_Cameras/pr-Fuji_Finepix_MX-1200_Digita...</td>\n",
       "      <td>Yes</td>\n",
       "      <td>4.0</td>\n",
       "      <td>http://www.epinions.com/elec-review-31F6-E9DA6...</td>\n",
       "      <td>Camera</td>\n",
       "      <td>[NOTE: I have the Japanese version of this cam...</td>\n",
       "    </tr>\n",
       "    <tr>\n",
       "      <th>1</th>\n",
       "      <td>108</td>\n",
       "      <td>Digital_Cameras/pr-Fuji_Finepix_MX-1200_Digita...</td>\n",
       "      <td>Yes</td>\n",
       "      <td>4.0</td>\n",
       "      <td>http://www.epinions.com/elec-review-B67-D4F9A3...</td>\n",
       "      <td>Camera</td>\n",
       "      <td>Ah, finally, A great little camera for the beg...</td>\n",
       "    </tr>\n",
       "    <tr>\n",
       "      <th>2</th>\n",
       "      <td>109</td>\n",
       "      <td>Digital_Cameras/pr-Fuji_Finepix_MX-1200_Digita...</td>\n",
       "      <td>Yes</td>\n",
       "      <td>5.0</td>\n",
       "      <td>http://www.epinions.com/elec-review-7463-6CD18...</td>\n",
       "      <td>Camera</td>\n",
       "      <td>Okay, I've written three negative reviews in a...</td>\n",
       "    </tr>\n",
       "    <tr>\n",
       "      <th>3</th>\n",
       "      <td>110</td>\n",
       "      <td>Digital_Cameras/pr-Fuji_Finepix_MX-1200_Digita...</td>\n",
       "      <td>No</td>\n",
       "      <td>2.0</td>\n",
       "      <td>http://www.epinions.com/elec-review-2E51-6E04C...</td>\n",
       "      <td>Camera</td>\n",
       "      <td>\\nThis camera is a great deal.  Wal-Mart has t...</td>\n",
       "    </tr>\n",
       "    <tr>\n",
       "      <th>4</th>\n",
       "      <td>111</td>\n",
       "      <td>Digital_Cameras/pr-Fuji_Finepix_MX-1200_Digita...</td>\n",
       "      <td>Yes</td>\n",
       "      <td>5.0</td>\n",
       "      <td>http://www.epinions.com/elec-review-4179-153E2...</td>\n",
       "      <td>Camera</td>\n",
       "      <td>This is a great camera. From it's picture qual...</td>\n",
       "    </tr>\n",
       "  </tbody>\n",
       "</table>\n",
       "</div>"
      ],
      "text/plain": [
       "  DOCID                                            PRODUCT LABEL RATING  \\\n",
       "0   107  Digital_Cameras/pr-Fuji_Finepix_MX-1200_Digita...   Yes    4.0   \n",
       "1   108  Digital_Cameras/pr-Fuji_Finepix_MX-1200_Digita...   Yes    4.0   \n",
       "2   109  Digital_Cameras/pr-Fuji_Finepix_MX-1200_Digita...   Yes    5.0   \n",
       "3   110  Digital_Cameras/pr-Fuji_Finepix_MX-1200_Digita...    No    2.0   \n",
       "4   111  Digital_Cameras/pr-Fuji_Finepix_MX-1200_Digita...   Yes    5.0   \n",
       "\n",
       "                                                 URL   CLASS  \\\n",
       "0  http://www.epinions.com/elec-review-31F6-E9DA6...  Camera   \n",
       "1  http://www.epinions.com/elec-review-B67-D4F9A3...  Camera   \n",
       "2  http://www.epinions.com/elec-review-7463-6CD18...  Camera   \n",
       "3  http://www.epinions.com/elec-review-2E51-6E04C...  Camera   \n",
       "4  http://www.epinions.com/elec-review-4179-153E2...  Camera   \n",
       "\n",
       "                                                TEXT  \n",
       "0  [NOTE: I have the Japanese version of this cam...  \n",
       "1  Ah, finally, A great little camera for the beg...  \n",
       "2  Okay, I've written three negative reviews in a...  \n",
       "3  \\nThis camera is a great deal.  Wal-Mart has t...  \n",
       "4  This is a great camera. From it's picture qual...  "
      ]
     },
     "execution_count": 60,
     "metadata": {},
     "output_type": "execute_result"
    }
   ],
   "source": [
    "fuji_camera.head()"
   ]
  },
  {
   "cell_type": "markdown",
   "metadata": {},
   "source": [
    "### Data Exploration\n",
    "In this section, we perform visual analysis of given data to explore the distribution of positive and negative reviews."
   ]
  },
  {
   "cell_type": "markdown",
   "metadata": {},
   "source": [
    "#### 1. Distribution of data for consumer recommending a product from Class = [Auto, Camera]"
   ]
  },
  {
   "cell_type": "code",
   "execution_count": 18,
   "metadata": {
    "collapsed": false
   },
   "outputs": [
    {
     "data": {
      "image/png": "[encoded data removed]",
      "text/plain": [
       "<matplotlib.figure.Figure at 0xc659240>"
      ]
     },
     "metadata": {},
     "output_type": "display_data"
    }
   ],
   "source": [
    "sns.countplot(x=\"CLASS\", hue = \"LABEL\", data=tab, palette=cmap)\n",
    "plt.ylabel('Count of Label', fontsize=14)\n",
    "plt.xlabel('Class of Product', fontsize=14)\n",
    "plt.tight_layout()"
   ]
  },
  {
   "cell_type": "markdown",
   "metadata": {},
   "source": [
    "#### 2. Distribution of data for consumer ratings of products from Class = [Auto, Camera]"
   ]
  },
  {
   "cell_type": "code",
   "execution_count": 19,
   "metadata": {
    "collapsed": false,
    "scrolled": false
   },
   "outputs": [
    {
     "data": {
      "image/png": "[encoded data removed]",
      "text/plain": [
       "<matplotlib.figure.Figure at 0x14f59a90>"
      ]
     },
     "metadata": {},
     "output_type": "display_data"
    }
   ],
   "source": [
    "sns.countplot(x=\"CLASS\", hue = \"RATING\", data=tab, palette = cmap)\n",
    "plt.ylabel('Count of Rating', fontsize=14)\n",
    "plt.xlabel('Class of Product', fontsize=14)\n",
    "plt.tight_layout()"
   ]
  },
  {
   "cell_type": "markdown",
   "metadata": {},
   "source": [
    "#### 3. Distribution of data for consumer ratings for Camera vs if the recommend the product or not."
   ]
  },
  {
   "cell_type": "code",
   "execution_count": 20,
   "metadata": {
    "collapsed": false,
    "scrolled": true
   },
   "outputs": [
    {
     "data": {
      "image/png": "[encoded data removed]",
      "text/plain": [
       "<matplotlib.figure.Figure at 0xc9e5fd0>"
      ]
     },
     "metadata": {},
     "output_type": "display_data"
    }
   ],
   "source": [
    "sns.countplot(x=\"LABEL\", hue = \"RATING\", data=camera, palette = cmap)\n",
    "plt.ylabel('Count of Rating', fontsize=14)\n",
    "plt.xlabel('Label of Product (Camera)', fontsize=14)\n",
    "plt.tight_layout()"
   ]
  },
  {
   "cell_type": "markdown",
   "metadata": {},
   "source": [
    "#### 4. Distribution of data for consumer ratings for Fuji Camera vs if the recommend the product or not."
   ]
  },
  {
   "cell_type": "code",
   "execution_count": 22,
   "metadata": {
    "collapsed": false
   },
   "outputs": [
    {
     "data": {
      "image/png": "[encoded data removed]",
      "text/plain": [
       "<matplotlib.figure.Figure at 0x16588160>"
      ]
     },
     "metadata": {},
     "output_type": "display_data"
    }
   ],
   "source": [
    "sns.countplot(x=\"LABEL\", hue = \"RATING\", data=fuji_camera, palette = cmap)\n",
    "plt.ylabel('Count of Rating', fontsize=14)\n",
    "plt.xlabel('Label of Product (Fuji Camera)', fontsize=14)\n",
    "plt.legend(loc='upper right')\n",
    "plt.tight_layout()"
   ]
  },
  {
   "cell_type": "markdown",
   "metadata": {},
   "source": [
    "From the above visualizations, we can infer that the data is highly biased with about 10% data with Label \"No\" and the rest with Label \"Yes\"."
   ]
  },
  {
   "cell_type": "markdown",
   "metadata": {},
   "source": [
    "## Data Cleaning\n",
    "\n",
    "In this section, we will create functions that clean the text of every review using regular expressions and various functions offered by nltk package."
   ]
  },
  {
   "cell_type": "markdown",
   "metadata": {},
   "source": [
    "The following function processes and tokenizes raw text. We use nltk package to tokenize and clean the text. This includes removing numbers, stopwords, punctuations, converting the text to lower case and lemmatizing."
   ]
  },
  {
   "cell_type": "code",
   "execution_count": 23,
   "metadata": {
    "collapsed": false
   },
   "outputs": [],
   "source": [
    "def process(text, lemmatizer=nltk.stem.wordnet.WordNetLemmatizer()):\n",
    "    \"\"\"\n",
    "    input:\n",
    "        text: string of one review\n",
    "        lemmatizer: default is nltk.stem.wordnet.WordNetLemmatizer()\n",
    "    output:\n",
    "        result: list of tokenized words\n",
    "    \"\"\"\n",
    "    \n",
    "    tokenized = []\n",
    "    lemmatized = []\n",
    "    \n",
    "    # Remove numbers\n",
    "    text = re.sub('\\d', ' ', text)\n",
    "    \n",
    "    # Normalizes case\n",
    "    text = text.lower()\n",
    "    \n",
    "    # remove apostrophes, delete 's\n",
    "    text = text.replace('\\'s', '')\n",
    "    text = text.replace('\\'', ' ')\n",
    "    \n",
    "    # Remove punctuations  \n",
    "    for char in string.punctuation:\n",
    "        text = text.replace(char, ' ')\n",
    "        \n",
    "    # Tokenize text\n",
    "    tokenized = nltk.word_tokenize(text)\n",
    "    \n",
    "    for word in tokenized:\n",
    "        # Remove stopwords\n",
    "        if word not in stopwords.words('english'):\n",
    "            try:\n",
    "                # lemmatize word\n",
    "                lemmatized.append(lemmatizer.lemmatize(word))\n",
    "            except Exception:\n",
    "                pass\n",
    "    return ' '.join(word for word in lemmatized)"
   ]
  },
  {
   "cell_type": "code",
   "execution_count": 24,
   "metadata": {
    "collapsed": false
   },
   "outputs": [
    {
     "name": "stdout",
     "output_type": "stream",
     "text": [
      "sample test input processing love\n"
     ]
    }
   ],
   "source": [
    "# Example\n",
    "\n",
    "text = \"This is a sample test input for 's processing loves.\"\n",
    "print process(text)"
   ]
  },
  {
   "cell_type": "markdown",
   "metadata": {},
   "source": [
    "The following function makes use of the process() function that we defined earlier to clean all the text in the last column of pandas dataframe. Here, we assume the last column has all the text reviews."
   ]
  },
  {
   "cell_type": "code",
   "execution_count": 25,
   "metadata": {
    "collapsed": true
   },
   "outputs": [],
   "source": [
    "def process_all(df, lemmatizer=nltk.stem.wordnet.WordNetLemmatizer()):\n",
    "    \"\"\"\n",
    "    Inputs\n",
    "        df: pd.DataFrame: dataframe containing a column 'text' in last column\n",
    "        lemmatizer: the default argument is of type nltk.stem.wordnet.WordNetLemmatizer\n",
    "    Outputs\n",
    "        pd.DataFrame: dataframe in which the values of text column have been changed from str to list(str),\n",
    "                        the output from process_text() function. Other columns are unaffected.\n",
    "    \"\"\"\n",
    "    df_copy = df.copy()\n",
    "    df_length = len(df_copy.iloc[:,-1])\n",
    "        \n",
    "    temp = [process(df_copy.iloc[i,-1]) for i in range(df_length)]  \n",
    "    df_copy.loc[:,'TEXT'] = temp\n",
    "    \n",
    "    return df_copy"
   ]
  },
  {
   "cell_type": "markdown",
   "metadata": {},
   "source": [
    "## Feature Construction"
   ]
  },
  {
   "cell_type": "markdown",
   "metadata": {},
   "source": [
    "In this section, we will create functions to create Bag-Of-Words feature vectors from the processed reviews. "
   ]
  },
  {
   "cell_type": "markdown",
   "metadata": {},
   "source": [
    "Since the number of possible words is large and not all of them may be useful for our classification task. We first determine which words to retain, and which to omit. Since we have already pruned the stopwords, we will now prune words that are used rarely and usually tend to be typos. We consider a word rare if it occurs not more than once."
   ]
  },
  {
   "cell_type": "markdown",
   "metadata": {},
   "source": [
    "Different approaches for parameterization of text:\n",
    "- Binary: tells whether a term t is present in a document or not\n",
    "- Counts: frequency of occurrences of term t in a document\n",
    "- Weighted frequencies: TF-IDF (Term Frequency - Inverse Document Frequency)\n",
    "\n",
    "Where each row in matrix corresponds to the document and each column corresponds to a different term. For simplicity, we only consider TF-IDF with unigrams(single words). For advanced analysis, combination of other parameterization methods with Bi-grams/N-grams will yeild interesting results for comparison."
   ]
  },
  {
   "cell_type": "markdown",
   "metadata": {},
   "source": [
    "### 1. Get Rare Words"
   ]
  },
  {
   "cell_type": "markdown",
   "metadata": {},
   "source": [
    "The below function use the word count information across all reviews in data to come up with a feature list of rare words."
   ]
  },
  {
   "cell_type": "code",
   "execution_count": 34,
   "metadata": {
    "collapsed": true
   },
   "outputs": [],
   "source": [
    "def get_rare_words(processed_data):\n",
    "    \"\"\" \n",
    "    Inputs:\n",
    "        processed_data: pd.DataFrame: the output of process_all() function\n",
    "    Outputs:\n",
    "        list(str): list of rare words, sorted alphabetically.\n",
    "    \"\"\"\n",
    "    c = []\n",
    "    [c.extend(nltk.word_tokenize(processed_data.loc[i,'TEXT'])) for i in range(len(processed_data.loc[:,'TEXT']))]\n",
    "    k = Counter(c)\n",
    "    words = (Counter(el for el in k.elements() if k[el] < 2))\n",
    "    wordlist = list(words.elements())\n",
    "    return sorted(wordlist)"
   ]
  },
  {
   "cell_type": "markdown",
   "metadata": {},
   "source": [
    "### 2. TF-IDF"
   ]
  },
  {
   "cell_type": "markdown",
   "metadata": {},
   "source": [
    "Below function helps construct a sparse matrix of features for each text review with the help of sklearn.feature_extraction.text.TfidfVectorizer"
   ]
  },
  {
   "cell_type": "code",
   "execution_count": 93,
   "metadata": {
    "collapsed": false
   },
   "outputs": [],
   "source": [
    "def create_tfidf_features(processed_data):\n",
    "    \"\"\" creates the feature matrix using the processed reviews\n",
    "    Inputs:\n",
    "        processed_data: pd.DataFrame: processed reviews containing the column 'TEXT'\n",
    "\n",
    "    Outputs:\n",
    "        sklearn.feature_extraction.text.TfidfVectorizer: the TfidfVectorizer object used\n",
    "                                                we need this to tranform the test records in the same way as train records\n",
    "        scipy.sparse.csr.csr_matrix: sparse bag-of-words TF-IDF feature matrix\n",
    "    \"\"\"\n",
    "    \n",
    "    # Call the get_rare_words function to filter rare words from the text\n",
    "    rare_words = get_rare_words(processed_data)\n",
    "    \n",
    "    # List of stopwords\n",
    "    stp_wrds = [str(words) for words in nltk.corpus.stopwords.words('english')]\n",
    "    stp_wrds.extend(rare_words)\n",
    "    \n",
    "    # Tfidf Vectorizer object\n",
    "    vectorizer = sklearn.feature_extraction.text.TfidfVectorizer(stop_words = stp_wrds)\n",
    "    \n",
    "    # Sparse bag-of-words TF-IDF feature matrix\n",
    "    data = processed_data.loc[:,'TEXT']\n",
    "    tfidf_matrix = vectorizer.fit_transform(data)\n",
    "    \n",
    "    return (vectorizer, tfidf_matrix)"
   ]
  },
  {
   "cell_type": "code",
   "execution_count": 94,
   "metadata": {
    "collapsed": false
   },
   "outputs": [],
   "source": [
    "(v, x) = create_tfidf_features(processed_fuji_data)"
   ]
  },
  {
   "cell_type": "code",
   "execution_count": 102,
   "metadata": {
    "collapsed": false
   },
   "outputs": [
    {
     "data": {
      "text/plain": [
       "(487, 3788)"
      ]
     },
     "execution_count": 102,
     "metadata": {},
     "output_type": "execute_result"
    }
   ],
   "source": [
    "x.shape"
   ]
  },
  {
   "cell_type": "code",
   "execution_count": 101,
   "metadata": {
    "collapsed": false
   },
   "outputs": [
    {
     "data": {
      "text/plain": [
       "matrix([[ 0.        ,  0.        ,  0.        , ...,  0.08310409,\n",
       "          0.        ,  0.        ],\n",
       "        [ 0.        ,  0.        ,  0.        , ...,  0.        ,\n",
       "          0.        ,  0.        ],\n",
       "        [ 0.        ,  0.        ,  0.        , ...,  0.        ,\n",
       "          0.        ,  0.        ],\n",
       "        ..., \n",
       "        [ 0.14675078,  0.        ,  0.        , ...,  0.        ,\n",
       "          0.        ,  0.        ],\n",
       "        [ 0.        ,  0.        ,  0.        , ...,  0.        ,\n",
       "          0.        ,  0.        ],\n",
       "        [ 0.        ,  0.        ,  0.07075651, ...,  0.        ,\n",
       "          0.        ,  0.        ]])"
      ]
     },
     "execution_count": 101,
     "metadata": {},
     "output_type": "execute_result"
    }
   ],
   "source": [
    "x.todense()"
   ]
  },
  {
   "cell_type": "code",
   "execution_count": 34,
   "metadata": {
    "collapsed": true
   },
   "outputs": [],
   "source": [
    "# # the TfidfVectorizer object used\n",
    "# stopwords = nltk.corpus.stopwords.words('english')\n",
    "# stopwords.extend(rare_words)\n",
    "# vectorizer = sklearn.feature_extraction.text.TfidfVectorizer(stop_words = stopwords)\n",
    "\n",
    "# # sparse bag-of-words TF-IDF feature matrix\n",
    "# X = vectorizer.fit_transform(train)\n",
    "\n",
    "# # transform the test data \n",
    "# y = vectorizer.transform(test)"
   ]
  },
  {
   "cell_type": "markdown",
   "metadata": {},
   "source": [
    "## Feature Extraction/Selection"
   ]
  },
  {
   "cell_type": "markdown",
   "metadata": {},
   "source": [
    "In this section, we reduce the dimension of features which transform the data representation into a shorter, more compact, and more predictive one. Two important techniques are: Principal Components Analysis (PCA) and Latent semantic Analysis (LSA)"
   ]
  },
  {
   "cell_type": "code",
   "execution_count": null,
   "metadata": {
    "collapsed": true
   },
   "outputs": [],
   "source": []
  },
  {
   "cell_type": "code",
   "execution_count": null,
   "metadata": {
    "collapsed": true
   },
   "outputs": [],
   "source": []
  },
  {
   "cell_type": "code",
   "execution_count": null,
   "metadata": {
    "collapsed": true
   },
   "outputs": [],
   "source": []
  },
  {
   "cell_type": "markdown",
   "metadata": {},
   "source": [
    "### Data Processing"
   ]
  },
  {
   "cell_type": "code",
   "execution_count": 63,
   "metadata": {
    "collapsed": false
   },
   "outputs": [
    {
     "data": {
      "text/plain": [
       "u\"Okay, I've written three negative reviews in a row so it's about time that I write about something tha\""
      ]
     },
     "execution_count": 63,
     "metadata": {},
     "output_type": "execute_result"
    }
   ],
   "source": [
    "# BEFORE \n",
    "fuji_camera.TEXT[2][:102]"
   ]
  },
  {
   "cell_type": "code",
   "execution_count": 61,
   "metadata": {
    "collapsed": false
   },
   "outputs": [],
   "source": [
    "# call process_all() function to clean the data\n",
    "processed_fuji_data = process_all(fuji_camera)"
   ]
  },
  {
   "cell_type": "code",
   "execution_count": 78,
   "metadata": {
    "collapsed": false
   },
   "outputs": [
    {
     "data": {
      "text/plain": [
       "u'okay written three negative review row time write something happy sister received fuji mx digital ca'"
      ]
     },
     "execution_count": 78,
     "metadata": {},
     "output_type": "execute_result"
    }
   ],
   "source": [
    "# AFTER\n",
    "processed_fuji_data.TEXT[2][:100]"
   ]
  },
  {
   "cell_type": "code",
   "execution_count": 79,
   "metadata": {
    "collapsed": false
   },
   "outputs": [
    {
     "data": {
      "text/html": [
       "<div>\n",
       "<table border=\"1\" class=\"dataframe\">\n",
       "  <thead>\n",
       "    <tr style=\"text-align: right;\">\n",
       "      <th></th>\n",
       "      <th>DOCID</th>\n",
       "      <th>PRODUCT</th>\n",
       "      <th>LABEL</th>\n",
       "      <th>RATING</th>\n",
       "      <th>URL</th>\n",
       "      <th>CLASS</th>\n",
       "      <th>TEXT</th>\n",
       "    </tr>\n",
       "  </thead>\n",
       "  <tbody>\n",
       "    <tr>\n",
       "      <th>0</th>\n",
       "      <td>107</td>\n",
       "      <td>Digital_Cameras/pr-Fuji_Finepix_MX-1200_Digita...</td>\n",
       "      <td>Yes</td>\n",
       "      <td>4.0</td>\n",
       "      <td>http://www.epinions.com/elec-review-31F6-E9DA6...</td>\n",
       "      <td>Camera</td>\n",
       "      <td>note japanese version camera difference though...</td>\n",
       "    </tr>\n",
       "    <tr>\n",
       "      <th>1</th>\n",
       "      <td>108</td>\n",
       "      <td>Digital_Cameras/pr-Fuji_Finepix_MX-1200_Digita...</td>\n",
       "      <td>Yes</td>\n",
       "      <td>4.0</td>\n",
       "      <td>http://www.epinions.com/elec-review-B67-D4F9A3...</td>\n",
       "      <td>Camera</td>\n",
       "      <td>ah finally great little camera beginner easy s...</td>\n",
       "    </tr>\n",
       "    <tr>\n",
       "      <th>2</th>\n",
       "      <td>109</td>\n",
       "      <td>Digital_Cameras/pr-Fuji_Finepix_MX-1200_Digita...</td>\n",
       "      <td>Yes</td>\n",
       "      <td>5.0</td>\n",
       "      <td>http://www.epinions.com/elec-review-7463-6CD18...</td>\n",
       "      <td>Camera</td>\n",
       "      <td>okay written three negative review row time wr...</td>\n",
       "    </tr>\n",
       "    <tr>\n",
       "      <th>3</th>\n",
       "      <td>110</td>\n",
       "      <td>Digital_Cameras/pr-Fuji_Finepix_MX-1200_Digita...</td>\n",
       "      <td>No</td>\n",
       "      <td>2.0</td>\n",
       "      <td>http://www.epinions.com/elec-review-2E51-6E04C...</td>\n",
       "      <td>Camera</td>\n",
       "      <td>camera great deal wal mart right going fast ab...</td>\n",
       "    </tr>\n",
       "    <tr>\n",
       "      <th>4</th>\n",
       "      <td>111</td>\n",
       "      <td>Digital_Cameras/pr-Fuji_Finepix_MX-1200_Digita...</td>\n",
       "      <td>Yes</td>\n",
       "      <td>5.0</td>\n",
       "      <td>http://www.epinions.com/elec-review-4179-153E2...</td>\n",
       "      <td>Camera</td>\n",
       "      <td>great camera picture quality form factor price...</td>\n",
       "    </tr>\n",
       "  </tbody>\n",
       "</table>\n",
       "</div>"
      ],
      "text/plain": [
       "  DOCID                                            PRODUCT LABEL RATING  \\\n",
       "0   107  Digital_Cameras/pr-Fuji_Finepix_MX-1200_Digita...   Yes    4.0   \n",
       "1   108  Digital_Cameras/pr-Fuji_Finepix_MX-1200_Digita...   Yes    4.0   \n",
       "2   109  Digital_Cameras/pr-Fuji_Finepix_MX-1200_Digita...   Yes    5.0   \n",
       "3   110  Digital_Cameras/pr-Fuji_Finepix_MX-1200_Digita...    No    2.0   \n",
       "4   111  Digital_Cameras/pr-Fuji_Finepix_MX-1200_Digita...   Yes    5.0   \n",
       "\n",
       "                                                 URL   CLASS  \\\n",
       "0  http://www.epinions.com/elec-review-31F6-E9DA6...  Camera   \n",
       "1  http://www.epinions.com/elec-review-B67-D4F9A3...  Camera   \n",
       "2  http://www.epinions.com/elec-review-7463-6CD18...  Camera   \n",
       "3  http://www.epinions.com/elec-review-2E51-6E04C...  Camera   \n",
       "4  http://www.epinions.com/elec-review-4179-153E2...  Camera   \n",
       "\n",
       "                                                TEXT  \n",
       "0  note japanese version camera difference though...  \n",
       "1  ah finally great little camera beginner easy s...  \n",
       "2  okay written three negative review row time wr...  \n",
       "3  camera great deal wal mart right going fast ab...  \n",
       "4  great camera picture quality form factor price...  "
      ]
     },
     "execution_count": 79,
     "metadata": {},
     "output_type": "execute_result"
    }
   ],
   "source": [
    "processed_fuji_data.head()"
   ]
  },
  {
   "cell_type": "markdown",
   "metadata": {},
   "source": [
    "## Modelling"
   ]
  },
  {
   "cell_type": "markdown",
   "metadata": {},
   "source": [
    "In this section, we put try to learn a model to classify the opinions. We will be using two classifiers: Support Vector Machines and Naive Bayes Classifier. We will then score the clssifier based on how well it performs against test data and use it for predicting sentiments from opinions."
   ]
  },
  {
   "cell_type": "markdown",
   "metadata": {},
   "source": [
    "Although there are several metrics available (e.g., accuracy, precision, recall, etc), we will go with accuracy and determine how accurately our model is able to classify opinions."
   ]
  },
  {
   "cell_type": "code",
   "execution_count": 66,
   "metadata": {
    "collapsed": false
   },
   "outputs": [
    {
     "data": {
      "text/plain": [
       "94375"
      ]
     },
     "execution_count": 66,
     "metadata": {},
     "output_type": "execute_result"
    }
   ],
   "source": [
    "# Calculate the total number of words in Fuji reviews\n",
    "words = []\n",
    "[words.extend(nltk.word_tokenize(processed_fuji_data.loc[i,'TEXT'])) for i in range(len(processed_fuji_data.loc[:,'TEXT']))]\n",
    "len(words)"
   ]
  },
  {
   "cell_type": "code",
   "execution_count": 67,
   "metadata": {
    "collapsed": false
   },
   "outputs": [
    {
     "data": {
      "text/plain": [
       "6839"
      ]
     },
     "execution_count": 67,
     "metadata": {},
     "output_type": "execute_result"
    }
   ],
   "source": [
    "# Unique words in Fuji reviews\n",
    "len(set(words))"
   ]
  },
  {
   "cell_type": "code",
   "execution_count": 69,
   "metadata": {
    "collapsed": false
   },
   "outputs": [
    {
     "data": {
      "text/plain": [
       "2988"
      ]
     },
     "execution_count": 69,
     "metadata": {},
     "output_type": "execute_result"
    }
   ],
   "source": [
    "# Call the get_rare_words function to find rare words in Fuji reviews\n",
    "rare_words = get_rare_words(processed_fuji_data)\n",
    "len(rare_words)"
   ]
  },
  {
   "cell_type": "code",
   "execution_count": 72,
   "metadata": {
    "collapsed": false
   },
   "outputs": [
    {
     "name": "stdout",
     "output_type": "stream",
     "text": [
      "[u'aaaaaaahhhh', u'aax', u'aa\\x92s', u'aa\\u2019s', u'aback', u'abaco', u'abberations', u'abbreviation', u'aberratons', u'abides', u'ably', u'abnormal', u'abound', u'absloutely', u'abstract', u'abstracted', u'abstraction', u'abundance', u'abut', u'academy']\n"
     ]
    }
   ],
   "source": [
    "print rare_words[:20]"
   ]
  },
  {
   "cell_type": "code",
   "execution_count": 70,
   "metadata": {
    "collapsed": false
   },
   "outputs": [
    {
     "data": {
      "text/plain": [
       "3851"
      ]
     },
     "execution_count": 70,
     "metadata": {},
     "output_type": "execute_result"
    }
   ],
   "source": [
    "# Expected feature length\n",
    "len(set(words)) - len(rare_words)"
   ]
  },
  {
   "cell_type": "code",
   "execution_count": 103,
   "metadata": {
    "collapsed": false
   },
   "outputs": [],
   "source": [
    "(Vect, tfidf) = create_tfidf_features(processed_fuji_data)"
   ]
  },
  {
   "cell_type": "code",
   "execution_count": 104,
   "metadata": {
    "collapsed": false
   },
   "outputs": [
    {
     "data": {
      "text/plain": [
       "(487, 3788)"
      ]
     },
     "execution_count": 104,
     "metadata": {},
     "output_type": "execute_result"
    }
   ],
   "source": [
    "tfidf.shape"
   ]
  },
  {
   "cell_type": "markdown",
   "metadata": {},
   "source": [
    "### 1. Split data into Training and Testing set"
   ]
  },
  {
   "cell_type": "markdown",
   "metadata": {},
   "source": [
    "Here we split the data into train (70%) and test (30%) set. Here we split the data into training and testing sets first, and then create the tfidf verctorizer to test the performance of classifier on unseen reviews."
   ]
  },
  {
   "cell_type": "code",
   "execution_count": 25,
   "metadata": {
    "collapsed": false
   },
   "outputs": [],
   "source": [
    "n = int(0.7 * len(processed))\n",
    "train = processed.TEXT[:n]\n",
    "test = processed.TEXT[n: ]\n",
    "train_label = processed.LABEL[:n]\n",
    "test_label = processed.LABEL[n:]"
   ]
  },
  {
   "cell_type": "code",
   "execution_count": 26,
   "metadata": {
    "collapsed": false
   },
   "outputs": [
    {
     "data": {
      "text/plain": [
       "0    stumbled upon camera much research hard unders...\n",
       "1    note japanese version camera difference though...\n",
       "2    ah finally great little camera beginner easy s...\n",
       "3    okay written three negative review row time wr...\n",
       "4    camera great deal wal mart right going fast ab...\n",
       "Name: TEXT, dtype: object"
      ]
     },
     "execution_count": 26,
     "metadata": {},
     "output_type": "execute_result"
    }
   ],
   "source": [
    "train.head()"
   ]
  },
  {
   "cell_type": "code",
   "execution_count": 27,
   "metadata": {
    "collapsed": false,
    "scrolled": false
   },
   "outputs": [
    {
     "data": {
      "text/plain": [
       "0    Yes\n",
       "1    Yes\n",
       "2    Yes\n",
       "3    Yes\n",
       "4     No\n",
       "Name: LABEL, dtype: object"
      ]
     },
     "execution_count": 27,
     "metadata": {},
     "output_type": "execute_result"
    }
   ],
   "source": [
    "train_label.head()"
   ]
  },
  {
   "cell_type": "markdown",
   "metadata": {
    "collapsed": false
   },
   "source": [
    "### SVM Classifier"
   ]
  },
  {
   "cell_type": "markdown",
   "metadata": {},
   "source": [
    "We estimate the best parameters for the SVM classifier by experimenting with different kernel types and regularization term."
   ]
  },
  {
   "cell_type": "code",
   "execution_count": 35,
   "metadata": {
    "collapsed": false
   },
   "outputs": [
    {
     "name": "stdout",
     "output_type": "stream",
     "text": [
      "rbf 100.0 0.852777777778\n",
      "rbf 1000.0 0.852777777778\n",
      "rbf 10000.0 0.884444444444\n",
      "rbf 100000.0 0.874444444444\n",
      "linear 100.0 0.872222222222\n",
      "linear 1000.0 0.872222222222\n",
      "linear 10000.0 0.872222222222\n",
      "linear 100000.0 0.872222222222\n",
      "sigmoid 100.0 0.852777777778\n",
      "sigmoid 1000.0 0.852777777778\n",
      "sigmoid 10000.0 0.867777777778\n",
      "sigmoid 100000.0 0.876666666667\n",
      "poly 100.0 0.852777777778\n",
      "poly 1000.0 0.852777777778\n",
      "poly 10000.0 0.852777777778\n",
      "poly 100000.0 0.852777777778\n"
     ]
    }
   ],
   "source": [
    "from sklearn import svm\n",
    "\n",
    "# Train the classifiers\n",
    "for kernel in ['rbf', 'linear', 'sigmoid', 'poly']:\n",
    "    for C in [1e2, 1e3, 1e4, 1e5]:\n",
    "        clf_svm = svm.SVC(kernel=kernel, C=C)\n",
    "        clf_svm.fit(X, train_label)\n",
    "        print kernel, C, clf_svm.score(y, list(test_label))"
   ]
  },
  {
   "cell_type": "markdown",
   "metadata": {},
   "source": [
    "Based on the above results, the best kernel type is rbf and the best C is 1e4."
   ]
  },
  {
   "cell_type": "markdown",
   "metadata": {},
   "source": [
    "### Naive Bayes Classifier"
   ]
  },
  {
   "cell_type": "code",
   "execution_count": 36,
   "metadata": {
    "collapsed": false
   },
   "outputs": [
    {
     "data": {
      "text/plain": [
       "0.85277777777777775"
      ]
     },
     "execution_count": 36,
     "metadata": {},
     "output_type": "execute_result"
    }
   ],
   "source": [
    "from sklearn.naive_bayes import MultinomialNB\n",
    "X_nb = vectorizer.transform(train)\n",
    "y_nb = vectorizer.transform(test)\n",
    "clf_nb = MultinomialNB()\n",
    "clf_nb.fit(X_nb, train_label)\n",
    "clf_nb.score(y_nb, list(test_label))"
   ]
  },
  {
   "cell_type": "markdown",
   "metadata": {},
   "source": [
    "From the above results, we can conclude that SVM (kernel==rbf and C==1e4) performs better than Naive Bayes Classifier. Thus, we now train the classifier with the optimum parameters."
   ]
  },
  {
   "cell_type": "code",
   "execution_count": 37,
   "metadata": {
    "collapsed": false,
    "scrolled": true
   },
   "outputs": [
    {
     "data": {
      "text/plain": [
       "SVC(C=10000.0, cache_size=200, class_weight=None, coef0=0.0,\n",
       "  decision_function_shape=None, degree=3, gamma='auto', kernel='rbf',\n",
       "  max_iter=-1, probability=False, random_state=None, shrinking=True,\n",
       "  tol=0.001, verbose=False)"
      ]
     },
     "execution_count": 37,
     "metadata": {},
     "output_type": "execute_result"
    }
   ],
   "source": [
    "# sparse bag-of-words TF-IDF feature matrix\n",
    "X_svm = vectorizer.fit_transform(processed.TEXT)\n",
    "\n",
    "# Train the classifier\n",
    "clf_svm = svm.SVC(kernel = 'rbf', C = 1e4)\n",
    "clf_svm.fit(X_svm, processed.LABEL)"
   ]
  },
  {
   "cell_type": "markdown",
   "metadata": {},
   "source": [
    "#### Test the performance of classifier on seen data"
   ]
  },
  {
   "cell_type": "code",
   "execution_count": 38,
   "metadata": {
    "collapsed": false
   },
   "outputs": [
    {
     "data": {
      "text/plain": [
       "0.96433333333333338"
      ]
     },
     "execution_count": 38,
     "metadata": {},
     "output_type": "execute_result"
    }
   ],
   "source": [
    "y_svm = vectorizer.transform(processed.TEXT)\n",
    "clf_svm.score(y_svm, list(processed.LABEL))"
   ]
  },
  {
   "cell_type": "markdown",
   "metadata": {},
   "source": [
    "#### Validating the performance of the model parameters on unseen data (For this we use Automobiles data)"
   ]
  },
  {
   "cell_type": "code",
   "execution_count": 39,
   "metadata": {
    "collapsed": false,
    "scrolled": true
   },
   "outputs": [
    {
     "data": {
      "text/plain": [
       "0.86266666666666669"
      ]
     },
     "execution_count": 39,
     "metadata": {},
     "output_type": "execute_result"
    }
   ],
   "source": [
    "y = vectorizer.transform(processed_auto.TEXT)\n",
    "clf_svm.score(y, list(processed_auto.LABEL))"
   ]
  },
  {
   "cell_type": "markdown",
   "metadata": {},
   "source": [
    "#### Find top features"
   ]
  },
  {
   "cell_type": "code",
   "execution_count": 64,
   "metadata": {
    "collapsed": false,
    "scrolled": true
   },
   "outputs": [
    {
     "name": "stdout",
     "output_type": "stream",
     "text": [
      "[u'camera', u'picture', u'digital', u'use', u'take', u'one', u'battery', u'quality', u'get', u'good', u'also', u'like', u'time', u'great', u'feature', u'would', u'photo', u'easy', u'flash', u'card', u'zoom', u'come', u'even', u'well', u'price', u'want', u'shot', u'computer', u'make', u'first', u'image', u'much', u'using', u'software', u'really', u'resolution', u'need', u'lcd', u'used', u'thing', u'memory', u'little', u'buy', u'taking', u'bought', u'lens', u'mb', u'many', u'work', u'go', u'still', u'better', u'lot', u'mode', u'best', u'setting', u'see', u'look', u'screen', u'could', u'high', u'second', u'size', u'problem', u'around', u'small', u'set', u'taken', u'light', u'manual', u'usb', u'found', u'way', u'point', u'back', u'find', u'nice', u'looking', u'got', u'without', u'two', u'life', u'film', u'year', u'another', u'enough', u'recommend', u'right', u'shoot', u'color', u'last', u'low', u'since', u'long', u'new', u'think', u'able', u'review', u'know', u'print']\n"
     ]
    }
   ],
   "source": [
    "indices = np.argsort(vectorizer.idf_)[:]\n",
    "features = vectorizer.get_feature_names()\n",
    "top_n = 100\n",
    "top_features = [features[i] for i in indices[:top_n]]\n",
    "print top_features"
   ]
  },
  {
   "cell_type": "code",
   "execution_count": 54,
   "metadata": {
    "collapsed": false
   },
   "outputs": [
    {
     "data": {
      "text/plain": [
       "12115"
      ]
     },
     "execution_count": 54,
     "metadata": {},
     "output_type": "execute_result"
    }
   ],
   "source": [
    "len(vectorizer.get_feature_names())"
   ]
  },
  {
   "cell_type": "code",
   "execution_count": 46,
   "metadata": {
    "collapsed": false
   },
   "outputs": [
    {
     "data": {
      "text/plain": [
       "{u'yellow': 5.4370015239481972,\n",
       " u'four': 3.6957943338829735,\n",
       " u'compatable': 7.9079219317614582,\n",
       " u'circuitry': 7.3970963079954668,\n",
       " u'hanging': 6.1733208763733511,\n",
       " u'centimeter': 7.301786128191142,\n",
       " u'looking': 2.4176077428960481,\n",
       " u'accupower': 8.313387039869621,\n",
       " u'electricity': 7.6202398593096765,\n",
       " u'pager': 8.313387039869621,\n",
       " u'eyehole': 8.6010691123214027,\n",
       " u'sunlit': 7.9079219317614582,\n",
       " u'wholeheartedly': 7.3970963079954668,\n",
       " u'lord': 8.313387039869621,\n",
       " u'semiautomatic': 8.6010691123214027,\n",
       " u'flicking': 8.0902434885554122,\n",
       " u'tweaked': 7.3970963079954668,\n",
       " u'digit': 7.3970963079954668,\n",
       " u'lumix': 7.301786128191142,\n",
       " u'digis': 8.6010691123214027,\n",
       " u'dell': 6.6086389476311966,\n",
       " u'replaces': 6.927092678749732,\n",
       " u'digic': 7.3970963079954668,\n",
       " u'utilized': 7.0606240713742539,\n",
       " u'malfunctioned': 7.7537712519341992,\n",
       " u'uncertain': 8.0902434885554122,\n",
       " u'bringing': 6.1443333395000987,\n",
       " u'disturb': 8.0902434885554122,\n",
       " u'internally': 7.2147747512015128,\n",
       " u'prize': 7.5024568236532936,\n",
       " u'reformatted': 8.6010691123214027,\n",
       " u'customizable': 7.0606240713742539,\n",
       " u'wednesday': 8.6010691123214027,\n",
       " u'oooh': 8.0902434885554122,\n",
       " u'commented': 6.4038445349851836,\n",
       " u'charter': 8.313387039869621,\n",
       " u'specially': 7.1347320435279764,\n",
       " u'nigh': 8.0902434885554122,\n",
       " u'maneuver': 7.1347320435279764,\n",
       " u'tolerate': 8.0902434885554122,\n",
       " u'preface': 7.3970963079954668,\n",
       " u'bacon': 8.6010691123214027,\n",
       " u'pulse': 8.0902434885554122,\n",
       " u'budget': 4.5406261017749845,\n",
       " u'elegant': 6.8664680569332965,\n",
       " u'rusty': 8.6010691123214027,\n",
       " u'tether': 7.2147747512015128,\n",
       " u'kodak': 2.9544450515051506,\n",
       " u'inanimate': 7.6202398593096765,\n",
       " u'ctlg': 9.0065342204295682,\n",
       " u'dangled': 8.313387039869621,\n",
       " u'puppy': 6.6551589632660901,\n",
       " u'dimagex': 9.0065342204295682,\n",
       " u'photofinishing': 8.0902434885554122,\n",
       " u'contributed': 8.0902434885554122,\n",
       " u'negates': 8.0902434885554122,\n",
       " u'dangles': 7.6202398593096765,\n",
       " u'designing': 7.301786128191142,\n",
       " u'resilient': 8.313387039869621,\n",
       " u'negated': 8.0902434885554122,\n",
       " u'contributes': 7.9079219317614582,\n",
       " u'camrea': 8.313387039869621,\n",
       " u'crouch': 8.6010691123214027,\n",
       " u'reliably': 7.301786128191142,\n",
       " u'reporter': 8.313387039869621,\n",
       " u'leaning': 7.7537712519341992,\n",
       " u'herd': 8.6010691123214027,\n",
       " u'reported': 6.441584862968031,\n",
       " u'ching': 8.313387039869621,\n",
       " u'chassis': 7.2147747512015128,\n",
       " u'china': 6.7039491274355223,\n",
       " u'auctioned': 8.313387039869621,\n",
       " u'granularity': 8.6010691123214027,\n",
       " u'dorm': 8.0902434885554122,\n",
       " u'affiliated': 8.6010691123214027,\n",
       " u'dork': 8.313387039869621,\n",
       " u'batery': 8.6010691123214027,\n",
       " u'substance': 8.313387039869621,\n",
       " u'unwillingness': 8.313387039869621,\n",
       " u'elaborate': 7.5024568236532936,\n",
       " u'controversy': 8.6010691123214027,\n",
       " u'quickcam': 7.6202398593096765,\n",
       " u'pocketsize': 8.6010691123214027,\n",
       " u'menu': 2.8379700605087823,\n",
       " u'military': 7.301786128191142,\n",
       " u'cancellation': 9.0065342204295682,\n",
       " u'missing': 5.084560884148253,\n",
       " u'criticism': 6.4038445349851836,\n",
       " u'appropriately': 7.7537712519341992,\n",
       " u'divide': 8.313387039869621,\n",
       " u'magically': 7.9079219317614582,\n",
       " u'pixelized': 8.6010691123214027,\n",
       " u'explained': 5.8495337992794543,\n",
       " u'lengthen': 8.313387039869621,\n",
       " u'replace': 4.1049700213876736,\n",
       " u'brought': 4.7438543433882518,\n",
       " u'pound': 6.2984840193273577,\n",
       " u'quadruple': 8.6010691123214027,\n",
       " u'txt': 8.0902434885554122,\n",
       " u'unit': 3.7834793383820777,\n",
       " u'cheating': 8.6010691123214027,\n",
       " u'spoke': 6.7552424218230724,\n",
       " u'browse': 6.2656941965043664,\n",
       " u'occupying': 8.6010691123214027,\n",
       " u'apperature': 9.0065342204295682,\n",
       " u'music': 6.0887634883452888,\n",
       " u'therefore': 4.8321469505339305,\n",
       " u'passport': 8.0902434885554122,\n",
       " u'strike': 6.9916311998873031,\n",
       " u'expiring': 8.0902434885554122,\n",
       " u'paperwork': 8.0902434885554122,\n",
       " u'standardized': 8.313387039869621,\n",
       " u'holy': 7.6202398593096765,\n",
       " u'relax': 8.0902434885554122,\n",
       " u'successful': 6.2984840193273577,\n",
       " u'brings': 5.4230152819734574,\n",
       " u'anywheres': 9.0065342204295682,\n",
       " u'yahoo': 5.7484376824080856,\n",
       " u'hurt': 6.1161624625334028,\n",
       " u'tilting': 7.5024568236532936,\n",
       " u'glass': 4.6890461068932572,\n",
       " u'tying': 8.313387039869621,\n",
       " u'teaching': 7.6202398593096765,\n",
       " u'hole': 5.8495337992794543,\n",
       " u'hold': 2.7002589334815519,\n",
       " u'unpack': 8.0902434885554122,\n",
       " u'addon': 8.6010691123214027,\n",
       " u'intake': 8.6010691123214027,\n",
       " u'locked': 6.0887634883452888,\n",
       " u'pursue': 7.9079219317614582,\n",
       " u'accomplishment': 7.9079219317614582,\n",
       " u'plunged': 8.6010691123214027,\n",
       " u'locker': 9.0065342204295682,\n",
       " u'leaped': 8.6010691123214027,\n",
       " u'example': 4.0542345033462759,\n",
       " u'household': 6.5216275706415674,\n",
       " u'organized': 6.062095241263127,\n",
       " u'swivel': 4.9375074661917573,\n",
       " u'currency': 8.6010691123214027,\n",
       " u'caution': 6.2031738395230329,\n",
       " u'calibration': 8.0902434885554122,\n",
       " u'want': 1.9620651181316084,\n",
       " u'ultracompact': 8.6010691123214027,\n",
       " u'organizer': 8.313387039869621,\n",
       " u'organizes': 8.6010691123214027,\n",
       " u'absolute': 5.3956163077853434,\n",
       " u'preferably': 6.8664680569332965,\n",
       " u'hog': 5.828480390081622,\n",
       " u'complaining': 5.9384812852959508,\n",
       " u'hoo': 8.0902434885554122,\n",
       " u'travel': 4.729868101413512,\n",
       " u'drying': 8.6010691123214027,\n",
       " u'damage': 5.5100266589630875,\n",
       " u'overlayed': 8.6010691123214027,\n",
       " u'machine': 4.7438543433882518,\n",
       " u'hot': 4.5638829639392515,\n",
       " u'epinions': 4.3383892352800881,\n",
       " u'hop': 8.313387039869621,\n",
       " u'significance': 7.301786128191142,\n",
       " u'audi': 8.6010691123214027,\n",
       " u'preferable': 7.301786128191142,\n",
       " u'void': 7.6202398593096765,\n",
       " u'classify': 8.0902434885554122,\n",
       " u'photomontage': 8.6010691123214027,\n",
       " u'credential': 8.6010691123214027,\n",
       " u'supplied': 4.2232178490580026,\n",
       " u'beauty': 5.4511861589401542,\n",
       " u'swing': 6.2339454981897866,\n",
       " u'minimized': 8.6010691123214027,\n",
       " u'cameraid': 8.313387039869621,\n",
       " u'misunderstanding': 8.313387039869621,\n",
       " u'diagram': 7.7537712519341992,\n",
       " u'pcmci': 8.6010691123214027,\n",
       " u'modest': 6.9916311998873031,\n",
       " u'destined': 7.5024568236532936,\n",
       " u'minimizes': 8.313387039869621,\n",
       " u'obscuring': 8.6010691123214027,\n",
       " u'opted': 5.7876583955613672,\n",
       " u'effective': 4.8554943145309215,\n",
       " u'attracts': 7.9079219317614582,\n",
       " u'geoport': 9.0065342204295682,\n",
       " u'baggage': 9.0065342204295682,\n",
       " u'beeping': 7.301786128191142,\n",
       " u'arounds': 8.6010691123214027,\n",
       " u'backdrop': 8.0902434885554122,\n",
       " u'leisurely': 8.313387039869621,\n",
       " u'undo': 8.6010691123214027,\n",
       " u'restriction': 7.7537712519341992,\n",
       " u'wideangle': 8.0902434885554122,\n",
       " u'snugly': 7.0606240713742539,\n",
       " u'feedback': 5.7876583955613672,\n",
       " u'welcomed': 7.7537712519341992,\n",
       " u'dreamed': 7.7537712519341992,\n",
       " u'vary': 5.6392383904430936,\n",
       " u'xi': 6.7039491274355223,\n",
       " u'instinctive': 8.6010691123214027,\n",
       " u'fidelity': 7.6202398593096765,\n",
       " u'activating': 7.9079219317614582,\n",
       " u'wrought': 8.6010691123214027,\n",
       " u'admirably': 7.301786128191142,\n",
       " u'fit': 3.0263834332218589,\n",
       " u'autoproducer': 9.0065342204295682,\n",
       " u'fractal': 7.6202398593096765,\n",
       " u'backpack': 6.1443333395000987,\n",
       " u'fanciest': 8.6010691123214027,\n",
       " u'distinguishing': 8.313387039869621,\n",
       " u'vast': 6.564187185060363,\n",
       " u'hidden': 6.0108019468755769,\n",
       " u'admirable': 8.0902434885554122,\n",
       " u'easier': 3.7284195611990505,\n",
       " u'workhorse': 6.7552424218230724,\n",
       " u'programed': 8.313387039869621,\n",
       " u'slate': 8.0902434885554122,\n",
       " u'photocell': 8.0902434885554122,\n",
       " u'beaut': 8.6010691123214027,\n",
       " u'velcro': 7.9079219317614582,\n",
       " u'interrupt': 8.0902434885554122,\n",
       " u'blink': 6.441584862968031,\n",
       " u'undeveloped': 6.9916311998873031,\n",
       " u'silver': 5.1563866187195089,\n",
       " u'glutted': 8.6010691123214027,\n",
       " u'represents': 6.7039491274355223,\n",
       " u'merrily': 8.6010691123214027,\n",
       " u'debut': 7.7537712519341992,\n",
       " u'noticably': 7.6202398593096765,\n",
       " u'powershots': 8.0902434885554122,\n",
       " u'wooden': 8.0902434885554122,\n",
       " u'noticable': 6.6086389476311966,\n",
       " u'arrow': 5.7293894874373912,\n",
       " u'addicted': 8.0902434885554122,\n",
       " u'interfering': 8.313387039869621,\n",
       " u'miniplug': 8.6010691123214027,\n",
       " u'whim': 6.7552424218230724,\n",
       " u'financial': 7.7537712519341992,\n",
       " u'telescope': 7.2147747512015128,\n",
       " u'concord': 7.7537712519341992,\n",
       " u'series': 4.1943498650571502,\n",
       " u'pictureit': 8.0902434885554122,\n",
       " u'displacement': 8.6010691123214027,\n",
       " u'whiz': 7.6202398593096765,\n",
       " u'substantially': 6.6086389476311966,\n",
       " u'cathedral': 8.313387039869621,\n",
       " u'blinded': 8.6010691123214027,\n",
       " u'whip': 6.8664680569332965,\n",
       " u'misfortune': 7.6202398593096765,\n",
       " u'rw': 6.2984840193273577,\n",
       " u'specialist': 7.7537712519341992,\n",
       " u'mayan': 8.6010691123214027,\n",
       " u'dsp': 7.7537712519341992,\n",
       " u'rd': 5.9861093342852048,\n",
       " u'dsl': 8.6010691123214027,\n",
       " u'adapt': 6.5216275706415674,\n",
       " u'rb': 8.6010691123214027,\n",
       " u'assignment': 7.301786128191142,\n",
       " u'dsf': 8.6010691123214027,\n",
       " u'rm': 8.313387039869621,\n",
       " u'cheerfully': 8.6010691123214027,\n",
       " u'ofcourse': 8.0902434885554122,\n",
       " u'dsc': 4.0059492621868138,\n",
       " u'foundation': 8.313387039869621,\n",
       " u'stamping': 7.301786128191142,\n",
       " u'assured': 6.7039491274355223,\n",
       " u'breathmynt': 9.0065342204295682,\n",
       " u'succession': 5.8710400045004176,\n",
       " u'threatened': 8.313387039869621,\n",
       " u'yesterday': 6.2656941965043664,\n",
       " u'sensory': 9.0065342204295682,\n",
       " u'assures': 7.6202398593096765,\n",
       " u'encountering': 8.6010691123214027,\n",
       " u'sheet': 5.5252941310938759,\n",
       " u'estimate': 6.7552424218230724,\n",
       " u'universally': 7.7537712519341992,\n",
       " u'molded': 7.6202398593096765,\n",
       " u'competes': 7.301786128191142,\n",
       " u'ate': 6.7039491274355223,\n",
       " u'exposing': 7.6202398593096765,\n",
       " u'ata': 8.313387039869621,\n",
       " u'ups': 4.2572636904677195,\n",
       " u'shelved': 8.6010691123214027,\n",
       " u'sacrafice': 8.313387039869621,\n",
       " u'disturbed': 8.313387039869621,\n",
       " u'speedy': 6.8664680569332965,\n",
       " u'tempting': 7.9079219317614582,\n",
       " u'loudness': 9.0065342204295682,\n",
       " u'whirlwind': 8.6010691123214027,\n",
       " u'resetting': 7.3970963079954668,\n",
       " u'purpose': 4.090209605804553,\n",
       " u'carryover': 8.6010691123214027,\n",
       " u'relysis': 8.6010691123214027,\n",
       " u'misplace': 7.9079219317614582,\n",
       " u'shopped': 5.9154917670712512,\n",
       " u'wash': 5.6743297102543639,\n",
       " u'instruct': 8.313387039869621,\n",
       " u'customization': 8.6010691123214027,\n",
       " u'clarity': 4.4901952481480922,\n",
       " u'basketball': 6.7552424218230724,\n",
       " u'quilt': 8.6010691123214027,\n",
       " u'service': 4.2486429474238125,\n",
       " u'similarly': 6.3674768908143093,\n",
       " u'summed': 7.7537712519341992,\n",
       " u'prepurchase': 8.6010691123214027,\n",
       " u'tired': 5.342972574299921,\n",
       " u'stack': 6.4808055761213117,\n",
       " u'needed': 3.1894230604663631,\n",
       " u'newegg': 7.2147747512015128,\n",
       " u'master': 5.3052322463170745,\n",
       " u'focal': 4.7797004751613876,\n",
       " u'halide': 8.313387039869621,\n",
       " u'recent': 5.1353332095216766,\n",
       " u'fuzziness': 7.2147747512015128,\n",
       " u'ranging': 5.828480390081622,\n",
       " u'listen': 6.8093096430933482,\n",
       " u'collapse': 8.313387039869621,\n",
       " u'panfocus': 7.3970963079954668,\n",
       " u'wisdom': 7.7537712519341992,\n",
       " u'nirvana': 8.6010691123214027,\n",
       " u'rectified': 8.313387039869621,\n",
       " u'task': 5.3302335485224912,\n",
       " u'predictable': 7.7537712519341992,\n",
       " u'defaulted': 8.0902434885554122,\n",
       " u'pricescan': 7.9079219317614582,\n",
       " u'photoalbum': 8.6010691123214027,\n",
       " u'crawl': 7.9079219317614582,\n",
       " u'positively': 7.6202398593096765,\n",
       " u'expanding': 7.2147747512015128,\n",
       " u'trek': 7.5024568236532936,\n",
       " u'muncie': 9.0065342204295682,\n",
       " u'aparture': 8.6010691123214027,\n",
       " u'mercata': 7.9079219317614582,\n",
       " u'piii': 8.6010691123214027,\n",
       " u'iteration': 8.313387039869621,\n",
       " u'likely': 4.5638829639392515,\n",
       " u'project': 5.4230152819734574,\n",
       " u'telezoom': 8.6010691123214027,\n",
       " u'idle': 7.7537712519341992,\n",
       " u'mysimon': 7.2147747512015128,\n",
       " u'endure': 8.6010691123214027,\n",
       " u'silky': 8.313387039869621,\n",
       " u'tres': 8.313387039869621,\n",
       " u'feeling': 5.0083335187603693,\n",
       " u'acquisition': 7.3970963079954668,\n",
       " u'seduced': 8.6010691123214027,\n",
       " u'acclaim': 8.6010691123214027,\n",
       " u'exploring': 6.927092678749732,\n",
       " u'runner': 7.9079219317614582,\n",
       " u'boston': 7.9079219317614582,\n",
       " u'politely': 8.6010691123214027,\n",
       " u'drivesavers': 9.0065342204295682,\n",
       " u'untrained': 7.301786128191142,\n",
       " u'pssd': 9.0065342204295682,\n",
       " u'corny': 8.6010691123214027,\n",
       " u'alive': 7.1347320435279764,\n",
       " u'dozen': 5.0083335187603693,\n",
       " u'implemented': 7.5024568236532936,\n",
       " u'mostly': 4.1984231904447853,\n",
       " u'easyshare': 6.1443333395000987,\n",
       " u'person': 3.9313604051957407,\n",
       " u'responsible': 7.0606240713742539,\n",
       " u'gripe': 4.758038978380208,\n",
       " u'vga': 5.3558759791358286,\n",
       " u'eagerly': 7.2147747512015128,\n",
       " u'metallic': 6.3674768908143093,\n",
       " u'recommended': 4.2747313835081098,\n",
       " u'causing': 6.062095241263127,\n",
       " u'amusing': 8.0902434885554122,\n",
       " u'angelfire': 8.6010691123214027,\n",
       " u'season': 6.2656941965043664,\n",
       " u'pns': 9.0065342204295682,\n",
       " u'pixilated': 7.6202398593096765,\n",
       " u'committing': 7.9079219317614582,\n",
       " u'shall': 7.2147747512015128,\n",
       " u'thrilled': 5.3821932874532026,\n",
       " u'screwing': 8.6010691123214027,\n",
       " u'limitless': 7.7537712519341992,\n",
       " u'diminishing': 8.0902434885554122,\n",
       " u'victoria': 9.0065342204295682,\n",
       " u'simplify': 7.301786128191142,\n",
       " u'mouth': 6.6086389476311966,\n",
       " u'addict': 7.7537712519341992,\n",
       " u'letter': 5.8078611028788867,\n",
       " u'organization': 6.6551589632660901,\n",
       " u'retaining': 7.6202398593096765,\n",
       " u'dealtime': 8.6010691123214027,\n",
       " u'expound': 8.313387039869621,\n",
       " u'dummy': 6.2656941965043664,\n",
       " u'singer': 8.313387039869621,\n",
       " u'emailing': 5.5252941310938759,\n",
       " u'professor': 8.313387039869621,\n",
       " u'camp': 8.0902434885554122,\n",
       " u'rotary': 7.5024568236532936,\n",
       " u'soften': 7.9079219317614582,\n",
       " u'tech': 4.7438543433882518,\n",
       " u'detriment': 8.313387039869621,\n",
       " u'mating': 8.6010691123214027,\n",
       " u'scream': 7.301786128191142,\n",
       " u'incomplete': 8.313387039869621,\n",
       " u'marvel': 6.3674768908143093,\n",
       " u'incorporate': 7.9079219317614582,\n",
       " u'luminance': 8.313387039869621,\n",
       " u'bomb': 7.6202398593096765,\n",
       " u'unopened': 8.0902434885554122,\n",
       " u'padded': 6.8093096430933482,\n",
       " u'gauge': 6.9916311998873031,\n",
       " u'hazy': 7.301786128191142,\n",
       " u'participate': 8.6010691123214027,\n",
       " u'tempted': 6.6551589632660901,\n",
       " u'cheaply': 6.6551589632660901,\n",
       " u'abreast': 8.313387039869621,\n",
       " u'busy': 6.0108019468755769,\n",
       " u'clicked': 6.6551589632660901,\n",
       " u'rca': 5.6743297102543639,\n",
       " u'liberated': 8.6010691123214027,\n",
       " u'quaint': 7.9079219317614582,\n",
       " u'holder': 6.2339454981897866,\n",
       " u'bust': 7.9079219317614582,\n",
       " u'rico': 8.6010691123214027,\n",
       " u'bush': 7.6202398593096765,\n",
       " u'touched': 6.441584862968031,\n",
       " u'rich': 5.1458045093889719,\n",
       " u'heartily': 7.301786128191142,\n",
       " u'butterflyphoto': 9.0065342204295682,\n",
       " u'rice': 8.6010691123214027,\n",
       " u'plate': 6.7039491274355223,\n",
       " u'foremost': 6.4038445349851836,\n",
       " u'pocket': 3.215046165354261,\n",
       " u'cushion': 8.0902434885554122,\n",
       " u'altogether': 6.7552424218230724,\n",
       " u'tungsten': 6.0108019468755769,\n",
       " u'rugged': 5.2808407931929144,\n",
       " u'layout': 5.3558759791358286,\n",
       " u'belabor': 8.6010691123214027,\n",
       " u'increasing': 6.4038445349851836,\n",
       " u'jaguar': 8.313387039869621,\n",
       " u'nicely': 4.5816875885727573,\n",
       " u'boarder': 9.0065342204295682,\n",
       " u'dipping': 8.0902434885554122,\n",
       " u'patch': 6.6551589632660901,\n",
       " u'piggy': 8.313387039869621,\n",
       " u'release': 4.4318232419261845,\n",
       " u'thirdly': 7.6202398593096765,\n",
       " u'respond': 6.6551589632660901,\n",
       " u'precluding': 8.6010691123214027,\n",
       " u'blew': 6.4038445349851836,\n",
       " u'mandatory': 7.0606240713742539,\n",
       " u'disaster': 7.1347320435279764,\n",
       " u'fair': 4.7160747792811764,\n",
       " u'heirloom': 8.6010691123214027,\n",
       " u'peripheral': 6.4038445349851836,\n",
       " u'palmpix': 9.0065342204295682,\n",
       " u'evolving': 7.7537712519341992,\n",
       " u'mepg': 9.0065342204295682,\n",
       " u'unexpectedly': 7.5024568236532936,\n",
       " u'radius': 8.313387039869621,\n",
       " u'imho': 6.6551589632660901,\n",
       " u'fail': 6.4038445349851836,\n",
       " u'resigned': 8.0902434885554122,\n",
       " u'hammer': 7.9079219317614582,\n",
       " u'best': 2.2215117068297277,\n",
       " u'moron': 7.7537712519341992,\n",
       " u'irq': 8.313387039869621,\n",
       " u'stealthy': 8.6010691123214027,\n",
       " u'mvcd': 9.0065342204295682,\n",
       " u'emptor': 8.6010691123214027,\n",
       " u'reccomend': 6.564187185060363,\n",
       " u'skimpy': 7.5024568236532936,\n",
       " u'preserve': 6.7039491274355223,\n",
       " u'letting': 5.9861093342852048,\n",
       " u'never': 2.707584973573625,\n",
       " u'rollei': 8.0902434885554122,\n",
       " u'extend': 5.494988781598547,\n",
       " u'appalling': 8.6010691123214027,\n",
       " u'rolled': 7.0606240713742539,\n",
       " u'remanufactured': 8.313387039869621,\n",
       " u'superficial': 8.6010691123214027,\n",
       " u'pdrm': 8.313387039869621,\n",
       " u'extent': 6.4038445349851836,\n",
       " u'accessed': 5.9620117827061447,\n",
       " u'downgrade': 8.313387039869621,\n",
       " u'roller': 7.7537712519341992,\n",
       " u'pity': 7.5024568236532936,\n",
       " u'accident': 6.0108019468755769,\n",
       " u'sacrificing': 7.1347320435279764,\n",
       " u'refinement': 7.7537712519341992,\n",
       " u'country': 5.5888075368162013,\n",
       " u'adapter': 2.9532692724161387,\n",
       " u'puter': 8.313387039869621,\n",
       " u'argus': 7.301786128191142,\n",
       " u'askew': 8.6010691123214027,\n",
       " u'planned': 5.8930189112191931,\n",
       " u'lookin': 8.6010691123214027,\n",
       " u'logic': 7.1347320435279764,\n",
       " u'adaptec': 8.0902434885554122,\n",
       " u'adapted': 7.301786128191142,\n",
       " u'asked': 4.7229476585689385,\n",
       " u'rehash': 8.6010691123214027,\n",
       " u'cityscape': 8.313387039869621,\n",
       " u'irresponsible': 8.6010691123214027,\n",
       " u'vaio': 7.301786128191142,\n",
       " u'personalcomputergeek': 9.0065342204295682,\n",
       " u'canyon': 6.9916311998873031,\n",
       " u'gleaming': 8.6010691123214027,\n",
       " u'diff': 7.7537712519341992,\n",
       " u'truthful': 8.6010691123214027,\n",
       " u'billing': 8.6010691123214027,\n",
       " u'shouting': 8.6010691123214027,\n",
       " u'chrome': 7.1347320435279764,\n",
       " u'fro': 8.313387039869621,\n",
       " u'rgb': 6.7039491274355223,\n",
       " u'tree': 5.8078611028788867,\n",
       " u'muck': 8.6010691123214027,\n",
       " u'much': 2.0222809704747053,\n",
       " u'west': 7.2147747512015128,\n",
       " u'stadium': 7.5024568236532936,\n",
       " u'fry': 6.441584862968031,\n",
       " u'wriststrap': 7.7537712519341992,\n",
       " u'correction': 5.494988781598547,\n",
       " u'angkor': 9.0065342204295682,\n",
       " u'toning': 8.313387039869621,\n",
       " u'graphical': 7.2147747512015128,\n",
       " u'recomend': 6.7552424218230724,\n",
       " u'spit': 7.9079219317614582,\n",
       " u'pri': 9.0065342204295682,\n",
       " u'worker': 6.4808055761213117,\n",
       " u'wish': 3.7542607923829379,\n",
       " u'dave': 8.6010691123214027,\n",
       " u'lift': 6.9916311998873031,\n",
       " u'slap': 6.927092678749732,\n",
       " u'blured': 8.313387039869621,\n",
       " u'child': 4.3573471490247018,\n",
       " u'unexperienced': 8.6010691123214027,\n",
       " u'contortion': 8.313387039869621,\n",
       " u'spin': 7.5024568236532936,\n",
       " u'commerce': 7.3970963079954668,\n",
       " u'gritty': 7.7537712519341992,\n",
       " u'technologically': 7.301786128191142,\n",
       " u'professionally': 5.9384812852959508,\n",
       " u'employ': 7.7537712519341992,\n",
       " u'visit': 5.233773282334929,\n",
       " u'picturing': 8.0902434885554122,\n",
       " u'remembering': 7.3970963079954668,\n",
       " u'ridiculously': 6.7039491274355223,\n",
       " u'congratulation': 8.6010691123214027,\n",
       " u'played': 5.0083335187603693,\n",
       " u'conditioned': 8.313387039869621,\n",
       " u'letdown': 8.313387039869621,\n",
       " u'characterize': 8.6010691123214027,\n",
       " u'outfitted': 8.6010691123214027,\n",
       " u'eighteen': 8.313387039869621,\n",
       " u'upscale': 7.1347320435279764,\n",
       " u'hygienist': 9.0065342204295682,\n",
       " u'trusted': 6.4038445349851836,\n",
       " u'hong': 7.1347320435279764,\n",
       " u'thingy': 7.9079219317614582,\n",
       " u'fotos': 9.0065342204295682,\n",
       " u'taped': 7.6202398593096765,\n",
       " u'cumulative': 9.0065342204295682,\n",
       " u'verify': 6.927092678749732,\n",
       " u'split': 6.0887634883452888,\n",
       " u'pricewatch': 6.9916311998873031,\n",
       " u'european': 6.8093096430933482,\n",
       " u'fairly': 3.5771885914751267,\n",
       " u'boiled': 7.9079219317614582,\n",
       " u'effortlessly': 7.7537712519341992,\n",
       " u'inadvertently': 7.2147747512015128,\n",
       " u'shtml': 8.0902434885554122,\n",
       " u'jamc': 9.0065342204295682,\n",
       " u'marched': 8.6010691123214027,\n",
       " u'ownership': 7.2147747512015128,\n",
       " u'supper': 9.0065342204295682,\n",
       " u'ezprints': 8.6010691123214027,\n",
       " u'tune': 6.564187185060363,\n",
       " u'registering': 8.0902434885554122,\n",
       " u'suitable': 5.4230152819734574,\n",
       " u'maximizing': 8.0902434885554122,\n",
       " u'rafting': 8.6010691123214027,\n",
       " u'echoed': 8.6010691123214027,\n",
       " u'controled': 8.6010691123214027,\n",
       " u'academic': 8.313387039869621,\n",
       " u'stillness': 8.6010691123214027,\n",
       " u'quest': 6.8664680569332965,\n",
       " u'goofing': 7.9079219317614582,\n",
       " u'simulated': 7.7537712519341992,\n",
       " u'corporate': 6.9916311998873031,\n",
       " u'pdc': 4.9038908553927723,\n",
       " u'amperage': 8.0902434885554122,\n",
       " u'golden': 7.2147747512015128,\n",
       " u'distribute': 8.313387039869621,\n",
       " u'rotated': 6.441584862968031,\n",
       " u'whatnot': 8.0902434885554122,\n",
       " u'disguise': 8.0902434885554122,\n",
       " u'financially': 8.0902434885554122,\n",
       " u'subdued': 8.0902434885554122,\n",
       " u'rotates': 6.4808055761213117,\n",
       " u'rushing': 8.0902434885554122,\n",
       " u'proofing': 8.6010691123214027,\n",
       " u'previous': 4.396376492930437,\n",
       " u'hah': 8.6010691123214027,\n",
       " u'reboot': 6.7039491274355223,\n",
       " u'replayed': 8.0902434885554122,\n",
       " u'enters': 8.313387039869621,\n",
       " u'ham': 7.7537712519341992,\n",
       " u'imacs': 8.0902434885554122,\n",
       " u'ease': 3.3349306441376014,\n",
       " u'advancement': 8.0902434885554122,\n",
       " u'scalable': 8.6010691123214027,\n",
       " u'beloved': 7.0606240713742539,\n",
       " u'supervisor': 8.6010691123214027,\n",
       " u'east': 6.9916311998873031,\n",
       " u'hat': 6.9916311998873031,\n",
       " u'elevation': 8.6010691123214027,\n",
       " u'casually': 8.6010691123214027,\n",
       " u'quirk': 5.8078611028788867,\n",
       " u'survival': 8.6010691123214027,\n",
       " u'posed': 6.6551589632660901,\n",
       " u'possible': 3.751646411808867,\n",
       " u'possibly': 5.3956163077853434,\n",
       " u'gameboy': 8.6010691123214027,\n",
       " u'indicative': 8.0902434885554122,\n",
       " u'birth': 6.564187185060363,\n",
       " u'unlikely': 7.1347320435279764,\n",
       " u'pertinent': 8.6010691123214027,\n",
       " u'shadow': 5.257030144499196,\n",
       " u'unique': 5.1045615508549229,\n",
       " u'pixelization': 7.0606240713742539,\n",
       " u'occurring': 8.0902434885554122,\n",
       " u'desire': 5.2223445865113067,\n",
       " u'psychological': 8.6010691123214027,\n",
       " u'articulated': 8.0902434885554122,\n",
       " u'vivitar': 5.6221439570837939,\n",
       " u'spared': 8.313387039869621,\n",
       " u'remind': 7.301786128191142,\n",
       " u'misled': 8.0902434885554122,\n",
       " u'ninety': 8.6010691123214027,\n",
       " u'attorney': 8.6010691123214027,\n",
       " u'right': 2.4785763028070171,\n",
       " u'old': 3.1658925630561692,\n",
       " u'creek': 8.313387039869621,\n",
       " u'crowd': 5.8710400045004176,\n",
       " u'people': 2.7527054088540943,\n",
       " u'commonplace': 8.0902434885554122,\n",
       " u'insistence': 8.6010691123214027,\n",
       " u'multiple': 4.3290433728618503,\n",
       " u'bottom': 4.2529440293232028,\n",
       " u'adjustor': 9.0065342204295682,\n",
       " u'creative': 4.7509215106113452,\n",
       " u'contributing': 8.0902434885554122,\n",
       " u'printable': 6.6551589632660901,\n",
       " u'fog': 7.6202398593096765,\n",
       " u'exposition': 7.301786128191142,\n",
       " u'pondered': 7.7537712519341992,\n",
       " u'umm': 8.6010691123214027,\n",
       " u'weckstrom': 8.6010691123214027,\n",
       " u'dental': 8.6010691123214027,\n",
       " u'lefty': 8.0902434885554122,\n",
       " u'binder': 9.0065342204295682,\n",
       " u'substituted': 8.6010691123214027,\n",
       " u'shifting': 7.5024568236532936,\n",
       " u'starring': 8.6010691123214027,\n",
       " u'stylish': 5.5565466745979801,\n",
       " u'losing': 5.4370015239481972,\n",
       " u'memorable': 6.8093096430933482,\n",
       " u'manufacturing': 6.564187185060363,\n",
       " u'breezebrowser': 8.6010691123214027,\n",
       " u'citizens': 9.0065342204295682,\n",
       " u'guilty': 7.3970963079954668,\n",
       " u'lacked': 6.4808055761213117,\n",
       " u'slightly': 3.9471087621638796,\n",
       " u'sooo': 7.1347320435279764,\n",
       " u'consulting': 7.0606240713742539,\n",
       " u'facility': 6.5216275706415674,\n",
       " u'honeymoon': 6.9916311998873031,\n",
       " u'sol': 8.6010691123214027,\n",
       " u'soo': 7.301786128191142,\n",
       " u'son': 4.7870265152534603,\n",
       " u'multiply': 8.6010691123214027,\n",
       " u'sow': 8.6010691123214027,\n",
       " u'wrap': 6.7552424218230724,\n",
       " u'reducing': 6.3674768908143093,\n",
       " u'unambiguous': 8.6010691123214027,\n",
       " u'despised': 8.6010691123214027,\n",
       " u'fabric': 7.6202398593096765,\n",
       " u'panorama': 4.6562562840702668,\n",
       " u'suffice': 6.0361197548598664,\n",
       " u'constantly': 4.8018416010386016,\n",
       " u'knowing': 4.9460912098831482,\n",
       " u'nova': 8.6010691123214027,\n",
       " u'avail': 6.8664680569332965,\n",
       " u'width': 6.8093096430933482,\n",
       " u'grasping': 8.313387039869621,\n",
       " u'authorized': 7.1347320435279764,\n",
       " u'obliged': 8.313387039869621,\n",
       " u'resulted': 6.927092678749732,\n",
       " u'overhead': 7.3970963079954668,\n",
       " u'icon': 4.7797004751613876,\n",
       " u'launching': 8.6010691123214027,\n",
       " u'happy': 3.1702625627272876,\n",
       " u'offer': 3.3401075323171354,\n",
       " u'forming': 8.6010691123214027,\n",
       " u'understandable': 6.8093096430933482,\n",
       " u'safeguard': 7.9079219317614582,\n",
       " u'handily': 8.313387039869621,\n",
       " u'silliness': 8.6010691123214027,\n",
       " u'genealogy': 8.0902434885554122,\n",
       " u'extremity': 8.6010691123214027,\n",
       " u'inside': 4.0829103033229419,\n",
       " u'devices': 9.0065342204295682,\n",
       " u'considered': 4.7509215106113452,\n",
       " u'nicest': 6.8093096430933482,\n",
       " u'pencam': 7.5024568236532936,\n",
       " u'palm': 5.7293894874373912,\n",
       " u'pricing': 5.9384812852959508,\n",
       " u'passenger': 8.313387039869621,\n",
       " u'khz': 8.313387039869621,\n",
       " u'later': 3.5469487062854084,\n",
       " u'liberal': 8.6010691123214027,\n",
       " u'tournament': 8.0902434885554122,\n",
       " u'proven': 5.7293894874373912,\n",
       " u'exist': 6.441584862968031,\n",
       " u'splotch': 8.313387039869621,\n",
       " u'dealer': 5.5888075368162013,\n",
       " u'relay': 8.0902434885554122,\n",
       " u'dotted': 8.6010691123214027,\n",
       " u'floor': 5.7484376824080856,\n",
       " u'actor': 7.9079219317614582,\n",
       " u'flood': 7.7537712519341992,\n",
       " u'warms': 8.6010691123214027,\n",
       " u'role': 6.8664680569332965,\n",
       " u'ambitious': 7.9079219317614582,\n",
       " u'sunset': 5.3689480607031816,\n",
       " u'becuase': 7.5024568236532936,\n",
       " u'roll': 4.2616020920663171,\n",
       " u'greenery': 8.6010691123214027,\n",
       " u'intend': 5.5888075368162013,\n",
       " u'pronounced': 7.3970963079954668,\n",
       " u'pcmia': 7.9079219317614582,\n",
       " u'stealing': 8.6010691123214027,\n",
       " u'scale': 5.7484376824080856,\n",
       " u'intent': 6.8093096430933482,\n",
       " u'rolling': 7.6202398593096765,\n",
       " u'senior': 7.6202398593096765,\n",
       " u'unmatched': 7.9079219317614582,\n",
       " u'mobshop': 7.7537712519341992,\n",
       " u'fastened': 8.6010691123214027,\n",
       " u'quandary': 8.313387039869621,\n",
       " u'superccd': 7.301786128191142,\n",
       " u'time': 1.6647263764873537,\n",
       " u'push': 4.2443602856318119,\n",
       " u'breadth': 8.6010691123214027,\n",
       " u'autoflash': 6.6551589632660901,\n",
       " u'chain': 6.3674768908143093,\n",
       " u'whoever': 7.2147747512015128,\n",
       " u'activated': 6.3674768908143093,\n",
       " u'skiing': 6.6086389476311966,\n",
       " u'trashcan': 8.313387039869621,\n",
       " u'chair': 7.7537712519341992,\n",
       " u'activates': 7.1347320435279764,\n",
       " u'midst': 8.6010691123214027,\n",
       " u'millisecond': 8.0902434885554122,\n",
       " u'vet': 8.6010691123214027,\n",
       " u'uneven': 8.0902434885554122,\n",
       " u'ver': 8.0902434885554122,\n",
       " u'freelance': 7.6202398593096765,\n",
       " u'blurriness': 7.301786128191142,\n",
       " u'methodically': 8.6010691123214027,\n",
       " u'reverting': 8.6010691123214027,\n",
       " u'himalaya': 8.6010691123214027,\n",
       " u'irksome': 8.6010691123214027,\n",
       " u'oversight': 7.3970963079954668,\n",
       " u'bogus': 8.6010691123214027,\n",
       " u'downloading': 3.5300706684980567,\n",
       " u'flatbed': 7.9079219317614582,\n",
       " u'jerk': 8.313387039869621,\n",
       " u'recipe': 8.6010691123214027,\n",
       " u'navigable': 8.313387039869621,\n",
       " u'olympus': 2.8369234879381118,\n",
       " u'choice': 3.2319826748851592,\n",
       " u'rechargable': 4.1984231904447853,\n",
       " u'fullest': 8.0902434885554122,\n",
       " u'exact': 5.257030144499196,\n",
       " u'grainyness': 8.313387039869621,\n",
       " u'minute': 2.9509218534978339,\n",
       " u'orifice': 8.6010691123214027,\n",
       " u'peg': 8.313387039869621,\n",
       " u'solves': 6.6086389476311966,\n",
       " u'tear': 6.927092678749732,\n",
       " u'maha': 6.7039491274355223,\n",
       " u'leave': 4.1584178558310869,\n",
       " u'solved': 5.4511861589401542,\n",
       " u'settle': 6.7039491274355223,\n",
       " u'subway': 8.313387039869621,\n",
       " u'team': 6.2339454981897866,\n",
       " u'inscribed': 8.6010691123214027,\n",
       " u'speculation': 8.6010691123214027,\n",
       " u'shooters': 9.0065342204295682,\n",
       " u'unaware': 7.9079219317614582,\n",
       " u'accessable': 8.6010691123214027,\n",
       " u'spiritual': 9.0065342204295682,\n",
       " u'blade': 7.5024568236532936,\n",
       " u'meadow': 8.6010691123214027,\n",
       " u'insignificant': 7.5024568236532936,\n",
       " u'attic': 8.6010691123214027,\n",
       " u'hindered': 8.313387039869621,\n",
       " u'thomasdistributing': 8.6010691123214027,\n",
       " u'sign': 5.9384812852959508,\n",
       " u'imprinting': 8.313387039869621,\n",
       " u'wannabee': 8.6010691123214027,\n",
       " u'rear': 5.5252941310938759,\n",
       " u'educate': 7.9079219317614582,\n",
       " u'taxing': 8.6010691123214027,\n",
       " u'realizing': 6.6086389476311966,\n",
       " u'current': 4.6758008801432371,\n",
       " u'remembered': 7.6202398593096765,\n",
       " u'bargin': 8.6010691123214027,\n",
       " u'view': 2.7584913459211382,\n",
       " u'falling': 6.2031738395230329,\n",
       " u'crashing': 7.3970963079954668,\n",
       " u'badge': 8.6010691123214027,\n",
       " u'meld': 8.313387039869621,\n",
       " u'jury': 8.313387039869621,\n",
       " u'niche': 6.6551589632660901,\n",
       " u'shelve': 8.313387039869621,\n",
       " u'understanding': 6.1443333395000987,\n",
       " u'magnetism': 8.6010691123214027,\n",
       " u'upgrade': 3.9158562186597754,\n",
       " u'splice': 8.0902434885554122,\n",
       " u'address': 5.5100266589630875,\n",
       " u'alone': 4.7944066225510831,\n",
       " u'along': 3.7335346618658209,\n",
       " u'photogenie': 6.8664680569332965,\n",
       " u'accomplishes': 8.0902434885554122,\n",
       " u'brilliant': 5.9154917670712512,\n",
       " u'impacted': 8.6010691123214027,\n",
       " u'studied': 7.0606240713742539,\n",
       " u'wherever': 5.7876583955613672,\n",
       " u'commonly': 6.5216275706415674,\n",
       " u'accomplished': 6.2339454981897866,\n",
       " u'ineffective': 8.313387039869621,\n",
       " u'cameraworld': 8.0902434885554122,\n",
       " u'bearable': 8.313387039869621,\n",
       " u'jerkiness': 8.313387039869621,\n",
       " u'inversed': 8.6010691123214027,\n",
       " u'love': 2.7252024899644676,\n",
       " u'oem': 7.7537712519341992,\n",
       " u'pentium': 6.4038445349851836,\n",
       " u'bs': 7.3970963079954668,\n",
       " u'prefer': 4.2835809987850926,\n",
       " u'logical': 5.8078611028788867,\n",
       " u'marvelous': 7.2147747512015128,\n",
       " u'logically': 6.7039491274355223,\n",
       " u'fake': 6.927092678749732,\n",
       " u'forefront': 8.313387039869621,\n",
       " u'red': 3.1176562620966863,\n",
       " u'crammed': 8.6010691123214027,\n",
       " u'comsumer': 8.6010691123214027,\n",
       " u'working': 3.9826536995832913,\n",
       " u'turret': 9.0065342204295682,\n",
       " u'positive': 4.8713676636872112,\n",
       " u'angry': 8.313387039869621,\n",
       " u'tightly': 7.301786128191142,\n",
       " u'readability': 8.313387039869621,\n",
       " u'wood': 7.2147747512015128,\n",
       " u'opposed': 5.2929621537252594,\n",
       " u'wondering': 5.9384812852959508,\n",
       " u'scope': 7.1347320435279764,\n",
       " u'replacment': 8.6010691123214027,\n",
       " u'loving': 7.2147747512015128,\n",
       " u'scratched': 5.7293894874373912,\n",
       " u'chelle': 9.0065342204295682,\n",
       " u'afford': 4.6758008801432371,\n",
       " u'apparent': 5.7484376824080856,\n",
       " u'propietary': 8.313387039869621,\n",
       " u'oregon': 7.6202398593096765,\n",
       " u'nevada': 8.6010691123214027,\n",
       " u'thompson': 8.6010691123214027,\n",
       " u'visual': 6.1161624625334028,\n",
       " u'ignorant': 7.9079219317614582,\n",
       " u'degrade': 6.9916311998873031,\n",
       " u'easiest': 5.4370015239481972,\n",
       " u'stringer': 8.313387039869621,\n",
       " u'involve': 8.0902434885554122,\n",
       " u'valued': 7.6202398593096765,\n",
       " u'anything': 3.2413431176447229,\n",
       " u'titanium': 6.927092678749732,\n",
       " u'snow': 5.5407983176298412,\n",
       " u'originally': 4.8018416010386016,\n",
       " u'backgroud': 8.6010691123214027,\n",
       " u'believer': 6.927092678749732,\n",
       " u'printing': 3.7107199840996494,\n",
       " u'slowness': 7.5024568236532936,\n",
       " u'believed': 6.7552424218230724,\n",
       " u'detached': 7.9079219317614582,\n",
       " u'reviewing': 4.8398689966278408,\n",
       " u'admired': 7.9079219317614582,\n",
       " u'pocketable': 6.8093096430933482,\n",
       " u'awesome': 4.3914137035883076,\n",
       " u'nascar': 8.6010691123214027,\n",
       " u'incremental': 8.313387039869621,\n",
       " u'unveiled': 8.6010691123214027,\n",
       " u'allowed': 4.9722935822771728,\n",
       " u'stole': 7.301786128191142,\n",
       " u'evidently': 8.6010691123214027,\n",
       " u'letterbox': 8.6010691123214027,\n",
       " u'monitoring': 8.313387039869621,\n",
       " u'winter': 6.6086389476311966,\n",
       " u'divided': 7.9079219317614582,\n",
       " u'poking': 7.9079219317614582,\n",
       " u'immune': 8.6010691123214027,\n",
       " u'ounce': 5.6221439570837939,\n",
       " u'vancouver': 8.6010691123214027,\n",
       " u'fps': 5.1998717306592477,\n",
       " u'convienient': 8.313387039869621,\n",
       " u'parameter': 5.8495337992794543,\n",
       " u'suffer': 5.8078611028788867,\n",
       " u'stood': 6.332385571003039,\n",
       " u'laundry': 8.6010691123214027,\n",
       " u'explorer': 5.4092219598411218,\n",
       " u'spot': 4.1389997699739851,\n",
       " u'explored': 7.0606240713742539,\n",
       " u'date': 3.963109103510321,\n",
       " u'suck': 4.8554943145309215,\n",
       " u'truly': 4.4318232419261845,\n",
       " u'data': 4.5067245500993023,\n",
       " u'shockingly': 8.6010691123214027,\n",
       " u'stress': 6.1443333395000987,\n",
       " u'surfing': 6.6086389476311966,\n",
       " u'natural': 4.8321469505339305,\n",
       " u'conscious': 7.0606240713742539,\n",
       " u'consequently': 6.927092678749732,\n",
       " u'sq': 6.3674768908143093,\n",
       " u'sp': 7.7537712519341992,\n",
       " u'sw': 8.313387039869621,\n",
       " u'ordinarily': 8.6010691123214027,\n",
       " u'st': 5.5407983176298412,\n",
       " u'quadrant': 8.0902434885554122,\n",
       " u'darkened': 6.9916311998873031,\n",
       " u'tailor': 8.313387039869621,\n",
       " u'truck': 7.5024568236532936,\n",
       " u'sm': 6.2339454981897866,\n",
       " u'sl': 7.6202398593096765,\n",
       " u'sc': 7.1347320435279764,\n",
       " u'sb': 6.927092678749732,\n",
       " u'sa': 8.6010691123214027,\n",
       " u'videowave': 8.313387039869621,\n",
       " u'pulled': 6.1733208763733511,\n",
       " u'blowup': 8.0902434885554122,\n",
       " u'se': 5.9384812852959508,\n",
       " u'sd': 4.7944066225510831,\n",
       " u'noteworthy': 7.9079219317614582,\n",
       " u'webpage': 5.8930189112191931,\n",
       " u'unacceptable': 5.9384812852959508,\n",
       " u'feature': 1.7114778039669372,\n",
       " u'course': 3.3699604954668168,\n",
       " u'penlight': 8.6010691123214027,\n",
       " u'revisit': 8.313387039869621,\n",
       " u'tendency': 6.1161624625334028,\n",
       " u'tore': 8.6010691123214027,\n",
       " u'softwear': 8.313387039869621,\n",
       " u'avid': 5.6392383904430936,\n",
       " u'disconnect': 7.301786128191142,\n",
       " u'thumb': 4.8713676636872112,\n",
       " u'lackluster': 8.0902434885554122,\n",
       " u'cleanest': 8.313387039869621,\n",
       " u'jim': 8.6010691123214027,\n",
       " u'louisville': 8.6010691123214027,\n",
       " u'attraction': 7.0606240713742539,\n",
       " u'playback': 4.4526573288290265,\n",
       " u'suspicion': 8.6010691123214027,\n",
       " u'avis': 7.7537712519341992,\n",
       " u'mpixels': 6.8664680569332965,\n",
       " u'decreased': 7.1347320435279764,\n",
       " u'troubled': 8.6010691123214027,\n",
       " u'monopod': 8.0902434885554122,\n",
       " u'instantly': 4.5235316684156839,\n",
       " u'modestly': 7.9079219317614582,\n",
       " u'recreate': 8.6010691123214027,\n",
       " u'thereby': 6.9916311998873031,\n",
       " u'smarter': 7.6202398593096765,\n",
       " u'chromatic': 6.3674768908143093,\n",
       " u'retrain': 8.6010691123214027,\n",
       " u'dpof': 6.9916311998873031,\n",
       " u'compelled': 7.5024568236532936,\n",
       " u'drilling': 8.6010691123214027,\n",
       " u'aprox': 8.0902434885554122,\n",
       " u'arriving': 7.6202398593096765,\n",
       " u'sorted': 8.0902434885554122,\n",
       " u'twilight': 6.1443333395000987,\n",
       " u'handiwork': 8.6010691123214027,\n",
       " u'matched': 6.8664680569332965,\n",
       " u'unzoomed': 8.6010691123214027,\n",
       " u'relaxed': 8.0902434885554122,\n",
       " u'plunk': 8.6010691123214027,\n",
       " u'revers': 8.6010691123214027,\n",
       " u'revert': 7.6202398593096765,\n",
       " u'recharged': 5.6743297102543639,\n",
       " u'dispite': 9.0065342204295682,\n",
       " u'rundown': 7.3970963079954668,\n",
       " u'instability': 8.313387039869621,\n",
       " u'cropping': 5.0457210508319896,\n",
       " u'quarter': 6.7552424218230724,\n",
       " u'repaired': 6.5216275706415674,\n",
       " ...}"
      ]
     },
     "execution_count": 46,
     "metadata": {},
     "output_type": "execute_result"
    }
   ],
   "source": [
    "idf = vectorizer.idf_\n",
    "dict(zip(vectorizer.get_feature_names(), idf))"
   ]
  },
  {
   "cell_type": "code",
   "execution_count": 55,
   "metadata": {
    "collapsed": false
   },
   "outputs": [
    {
     "data": {
      "text/plain": [
       "matrix([[ 0.        ,  0.        ,  0.        , ...,  0.        ,\n",
       "          0.        ,  0.        ],\n",
       "        [ 0.        ,  0.        ,  0.        , ...,  0.        ,\n",
       "          0.        ,  0.        ],\n",
       "        [ 0.        ,  0.        ,  0.        , ...,  0.        ,\n",
       "          0.        ,  0.        ],\n",
       "        ..., \n",
       "        [ 0.        ,  0.        ,  0.        , ...,  0.        ,\n",
       "          0.        ,  0.        ],\n",
       "        [ 0.06629116,  0.        ,  0.        , ...,  0.        ,\n",
       "          0.        ,  0.        ],\n",
       "        [ 0.        ,  0.        ,  0.        , ...,  0.        ,\n",
       "          0.        ,  0.        ]])"
      ]
     },
     "execution_count": 55,
     "metadata": {},
     "output_type": "execute_result"
    }
   ],
   "source": [
    "X_svm.todense()"
   ]
  },
  {
   "cell_type": "code",
   "execution_count": 57,
   "metadata": {
    "collapsed": false
   },
   "outputs": [
    {
     "data": {
      "text/plain": [
       "(6000, 12115)"
      ]
     },
     "execution_count": 57,
     "metadata": {},
     "output_type": "execute_result"
    }
   ],
   "source": [
    "X_svm.get_shape()"
   ]
  },
  {
   "cell_type": "markdown",
   "metadata": {},
   "source": [
    "## Feature Extraction (LSA)"
   ]
  },
  {
   "cell_type": "markdown",
   "metadata": {},
   "source": [
    "Here we reduce the dimension of features, which transform the data representation into a shorter, more compact, and more predictive one. Two important techniques are: Principal Components Analysis (PCA) and Latent semantic Analysis (LSA)"
   ]
  },
  {
   "cell_type": "code",
   "execution_count": 65,
   "metadata": {
    "collapsed": true
   },
   "outputs": [],
   "source": [
    "from sklearn.decomposition import TruncatedSVD"
   ]
  },
  {
   "cell_type": "code",
   "execution_count": 88,
   "metadata": {
    "collapsed": false
   },
   "outputs": [
    {
     "data": {
      "text/plain": [
       "(6000, 12115)"
      ]
     },
     "execution_count": 88,
     "metadata": {},
     "output_type": "execute_result"
    }
   ],
   "source": [
    "X_svm.shape"
   ]
  },
  {
   "cell_type": "code",
   "execution_count": 89,
   "metadata": {
    "collapsed": true
   },
   "outputs": [],
   "source": [
    "svd = TruncatedSVD(n_components=2000, n_iter=7, random_state=42)"
   ]
  },
  {
   "cell_type": "code",
   "execution_count": 91,
   "metadata": {
    "collapsed": false
   },
   "outputs": [],
   "source": [
    "X_svd = svd.fit_transform(X_svm) "
   ]
  },
  {
   "cell_type": "code",
   "execution_count": 96,
   "metadata": {
    "collapsed": false
   },
   "outputs": [
    {
     "data": {
      "text/plain": [
       "0.0"
      ]
     },
     "execution_count": 96,
     "metadata": {},
     "output_type": "execute_result"
    }
   ],
   "source": [
    "svd.tol"
   ]
  },
  {
   "cell_type": "code",
   "execution_count": 93,
   "metadata": {
    "collapsed": false
   },
   "outputs": [
    {
     "name": "stdout",
     "output_type": "stream",
     "text": [
      "0.861522683588\n"
     ]
    }
   ],
   "source": [
    "print(svd.explained_variance_ratio_.sum()) "
   ]
  },
  {
   "cell_type": "code",
   "execution_count": 67,
   "metadata": {
    "collapsed": false
   },
   "outputs": [
    {
     "data": {
      "text/plain": [
       "scipy.sparse.csr.csr_matrix"
      ]
     },
     "execution_count": 67,
     "metadata": {},
     "output_type": "execute_result"
    }
   ],
   "source": [
    "type(X_svm)"
   ]
  },
  {
   "cell_type": "code",
   "execution_count": 71,
   "metadata": {
    "collapsed": false
   },
   "outputs": [
    {
     "data": {
      "text/plain": [
       "(6000L, 100L)"
      ]
     },
     "execution_count": 71,
     "metadata": {},
     "output_type": "execute_result"
    }
   ],
   "source": [
    "X_svd.shape"
   ]
  },
  {
   "cell_type": "code",
   "execution_count": 74,
   "metadata": {
    "collapsed": true
   },
   "outputs": [],
   "source": [
    "features = vectorizer.get_feature_names()"
   ]
  },
  {
   "cell_type": "code",
   "execution_count": 75,
   "metadata": {
    "collapsed": false
   },
   "outputs": [
    {
     "data": {
      "text/plain": [
       "12115"
      ]
     },
     "execution_count": 75,
     "metadata": {},
     "output_type": "execute_result"
    }
   ],
   "source": [
    "len(features)"
   ]
  },
  {
   "cell_type": "code",
   "execution_count": 77,
   "metadata": {
    "collapsed": false
   },
   "outputs": [
    {
     "data": {
      "text/plain": [
       "SVC(C=10000.0, cache_size=200, class_weight=None, coef0=0.0,\n",
       "  decision_function_shape=None, degree=3, gamma='auto', kernel='rbf',\n",
       "  max_iter=-1, probability=False, random_state=None, shrinking=True,\n",
       "  tol=0.001, verbose=False)"
      ]
     },
     "execution_count": 77,
     "metadata": {},
     "output_type": "execute_result"
    }
   ],
   "source": [
    "# Train the classifier\n",
    "clf_svd = svm.SVC(kernel = 'rbf', C = 1e4)\n",
    "clf_svd.fit(X_svd, processed.LABEL)"
   ]
  },
  {
   "cell_type": "code",
   "execution_count": 78,
   "metadata": {
    "collapsed": false
   },
   "outputs": [
    {
     "ename": "ValueError",
     "evalue": "cannot use sparse input in 'SVC' trained on dense data",
     "output_type": "error",
     "traceback": [
      "\u001b[0;31m---------------------------------------------------------------------------\u001b[0m",
      "\u001b[0;31mValueError\u001b[0m                                Traceback (most recent call last)",
      "\u001b[0;32m<ipython-input-78-38d9ebfa3e02>\u001b[0m in \u001b[0;36m<module>\u001b[0;34m()\u001b[0m\n\u001b[1;32m      1\u001b[0m \u001b[0my_svd\u001b[0m \u001b[1;33m=\u001b[0m \u001b[0mvectorizer\u001b[0m\u001b[1;33m.\u001b[0m\u001b[0mtransform\u001b[0m\u001b[1;33m(\u001b[0m\u001b[0mprocessed\u001b[0m\u001b[1;33m.\u001b[0m\u001b[0mTEXT\u001b[0m\u001b[1;33m)\u001b[0m\u001b[1;33m\u001b[0m\u001b[0m\n\u001b[0;32m----> 2\u001b[0;31m \u001b[0mclf_svd\u001b[0m\u001b[1;33m.\u001b[0m\u001b[0mscore\u001b[0m\u001b[1;33m(\u001b[0m\u001b[0my_svd\u001b[0m\u001b[1;33m,\u001b[0m \u001b[0mlist\u001b[0m\u001b[1;33m(\u001b[0m\u001b[0mprocessed\u001b[0m\u001b[1;33m.\u001b[0m\u001b[0mLABEL\u001b[0m\u001b[1;33m)\u001b[0m\u001b[1;33m)\u001b[0m\u001b[1;33m\u001b[0m\u001b[0m\n\u001b[0m",
      "\u001b[0;32mC:\\Users\\Nikhil\\Anaconda2\\lib\\site-packages\\sklearn\\base.pyc\u001b[0m in \u001b[0;36mscore\u001b[0;34m(self, X, y, sample_weight)\u001b[0m\n\u001b[1;32m    347\u001b[0m         \"\"\"\n\u001b[1;32m    348\u001b[0m         \u001b[1;32mfrom\u001b[0m \u001b[1;33m.\u001b[0m\u001b[0mmetrics\u001b[0m \u001b[1;32mimport\u001b[0m \u001b[0maccuracy_score\u001b[0m\u001b[1;33m\u001b[0m\u001b[0m\n\u001b[0;32m--> 349\u001b[0;31m         \u001b[1;32mreturn\u001b[0m \u001b[0maccuracy_score\u001b[0m\u001b[1;33m(\u001b[0m\u001b[0my\u001b[0m\u001b[1;33m,\u001b[0m \u001b[0mself\u001b[0m\u001b[1;33m.\u001b[0m\u001b[0mpredict\u001b[0m\u001b[1;33m(\u001b[0m\u001b[0mX\u001b[0m\u001b[1;33m)\u001b[0m\u001b[1;33m,\u001b[0m \u001b[0msample_weight\u001b[0m\u001b[1;33m=\u001b[0m\u001b[0msample_weight\u001b[0m\u001b[1;33m)\u001b[0m\u001b[1;33m\u001b[0m\u001b[0m\n\u001b[0m\u001b[1;32m    350\u001b[0m \u001b[1;33m\u001b[0m\u001b[0m\n\u001b[1;32m    351\u001b[0m \u001b[1;33m\u001b[0m\u001b[0m\n",
      "\u001b[0;32mC:\\Users\\Nikhil\\Anaconda2\\lib\\site-packages\\sklearn\\svm\\base.pyc\u001b[0m in \u001b[0;36mpredict\u001b[0;34m(self, X)\u001b[0m\n\u001b[1;32m    571\u001b[0m             \u001b[0mClass\u001b[0m \u001b[0mlabels\u001b[0m \u001b[1;32mfor\u001b[0m \u001b[0msamples\u001b[0m \u001b[1;32min\u001b[0m \u001b[0mX\u001b[0m\u001b[1;33m.\u001b[0m\u001b[1;33m\u001b[0m\u001b[0m\n\u001b[1;32m    572\u001b[0m         \"\"\"\n\u001b[0;32m--> 573\u001b[0;31m         \u001b[0my\u001b[0m \u001b[1;33m=\u001b[0m \u001b[0msuper\u001b[0m\u001b[1;33m(\u001b[0m\u001b[0mBaseSVC\u001b[0m\u001b[1;33m,\u001b[0m \u001b[0mself\u001b[0m\u001b[1;33m)\u001b[0m\u001b[1;33m.\u001b[0m\u001b[0mpredict\u001b[0m\u001b[1;33m(\u001b[0m\u001b[0mX\u001b[0m\u001b[1;33m)\u001b[0m\u001b[1;33m\u001b[0m\u001b[0m\n\u001b[0m\u001b[1;32m    574\u001b[0m         \u001b[1;32mreturn\u001b[0m \u001b[0mself\u001b[0m\u001b[1;33m.\u001b[0m\u001b[0mclasses_\u001b[0m\u001b[1;33m.\u001b[0m\u001b[0mtake\u001b[0m\u001b[1;33m(\u001b[0m\u001b[0mnp\u001b[0m\u001b[1;33m.\u001b[0m\u001b[0masarray\u001b[0m\u001b[1;33m(\u001b[0m\u001b[0my\u001b[0m\u001b[1;33m,\u001b[0m \u001b[0mdtype\u001b[0m\u001b[1;33m=\u001b[0m\u001b[0mnp\u001b[0m\u001b[1;33m.\u001b[0m\u001b[0mintp\u001b[0m\u001b[1;33m)\u001b[0m\u001b[1;33m)\u001b[0m\u001b[1;33m\u001b[0m\u001b[0m\n\u001b[1;32m    575\u001b[0m \u001b[1;33m\u001b[0m\u001b[0m\n",
      "\u001b[0;32mC:\\Users\\Nikhil\\Anaconda2\\lib\\site-packages\\sklearn\\svm\\base.pyc\u001b[0m in \u001b[0;36mpredict\u001b[0;34m(self, X)\u001b[0m\n\u001b[1;32m    308\u001b[0m         \u001b[0my_pred\u001b[0m \u001b[1;33m:\u001b[0m \u001b[0marray\u001b[0m\u001b[1;33m,\u001b[0m \u001b[0mshape\u001b[0m \u001b[1;33m(\u001b[0m\u001b[0mn_samples\u001b[0m\u001b[1;33m,\u001b[0m\u001b[1;33m)\u001b[0m\u001b[1;33m\u001b[0m\u001b[0m\n\u001b[1;32m    309\u001b[0m         \"\"\"\n\u001b[0;32m--> 310\u001b[0;31m         \u001b[0mX\u001b[0m \u001b[1;33m=\u001b[0m \u001b[0mself\u001b[0m\u001b[1;33m.\u001b[0m\u001b[0m_validate_for_predict\u001b[0m\u001b[1;33m(\u001b[0m\u001b[0mX\u001b[0m\u001b[1;33m)\u001b[0m\u001b[1;33m\u001b[0m\u001b[0m\n\u001b[0m\u001b[1;32m    311\u001b[0m         \u001b[0mpredict\u001b[0m \u001b[1;33m=\u001b[0m \u001b[0mself\u001b[0m\u001b[1;33m.\u001b[0m\u001b[0m_sparse_predict\u001b[0m \u001b[1;32mif\u001b[0m \u001b[0mself\u001b[0m\u001b[1;33m.\u001b[0m\u001b[0m_sparse\u001b[0m \u001b[1;32melse\u001b[0m \u001b[0mself\u001b[0m\u001b[1;33m.\u001b[0m\u001b[0m_dense_predict\u001b[0m\u001b[1;33m\u001b[0m\u001b[0m\n\u001b[1;32m    312\u001b[0m         \u001b[1;32mreturn\u001b[0m \u001b[0mpredict\u001b[0m\u001b[1;33m(\u001b[0m\u001b[0mX\u001b[0m\u001b[1;33m)\u001b[0m\u001b[1;33m\u001b[0m\u001b[0m\n",
      "\u001b[0;32mC:\\Users\\Nikhil\\Anaconda2\\lib\\site-packages\\sklearn\\svm\\base.pyc\u001b[0m in \u001b[0;36m_validate_for_predict\u001b[0;34m(self, X)\u001b[0m\n\u001b[1;32m    466\u001b[0m             raise ValueError(\n\u001b[1;32m    467\u001b[0m                 \u001b[1;34m\"cannot use sparse input in %r trained on dense data\"\u001b[0m\u001b[1;33m\u001b[0m\u001b[0m\n\u001b[0;32m--> 468\u001b[0;31m                 % type(self).__name__)\n\u001b[0m\u001b[1;32m    469\u001b[0m         \u001b[0mn_samples\u001b[0m\u001b[1;33m,\u001b[0m \u001b[0mn_features\u001b[0m \u001b[1;33m=\u001b[0m \u001b[0mX\u001b[0m\u001b[1;33m.\u001b[0m\u001b[0mshape\u001b[0m\u001b[1;33m\u001b[0m\u001b[0m\n\u001b[1;32m    470\u001b[0m \u001b[1;33m\u001b[0m\u001b[0m\n",
      "\u001b[0;31mValueError\u001b[0m: cannot use sparse input in 'SVC' trained on dense data"
     ]
    }
   ],
   "source": [
    "y_svd = vectorizer.transform(processed.TEXT)\n",
    "clf_svd.score(y_svd, list(processed.LABEL))"
   ]
  },
  {
   "cell_type": "markdown",
   "metadata": {},
   "source": [
    "## Feature Selection"
   ]
  },
  {
   "cell_type": "code",
   "execution_count": 87,
   "metadata": {
    "collapsed": true
   },
   "outputs": [],
   "source": [
    "from sklearn.feature_selection import SelectKBest, chi2"
   ]
  },
  {
   "cell_type": "code",
   "execution_count": null,
   "metadata": {
    "collapsed": true
   },
   "outputs": [],
   "source": []
  }
 ],
 "metadata": {
  "anaconda-cloud": {},
  "kernelspec": {
   "display_name": "Python [Root]",
   "language": "python",
   "name": "Python [Root]"
  },
  "language_info": {
   "codemirror_mode": {
    "name": "ipython",
    "version": 2
   },
   "file_extension": ".py",
   "mimetype": "text/x-python",
   "name": "python",
   "nbconvert_exporter": "python",
   "pygments_lexer": "ipython2",
   "version": "2.7.11"
  }
 },
 "nbformat": 4,
 "nbformat_minor": 1
}
